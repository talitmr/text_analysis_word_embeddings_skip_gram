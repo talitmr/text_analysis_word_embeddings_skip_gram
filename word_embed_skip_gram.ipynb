{
  "nbformat": 4,
  "nbformat_minor": 0,
  "metadata": {
    "colab": {
      "name": "word_embed_skip_gram.ipynb",
      "provenance": [],
      "collapsed_sections": [],
      "include_colab_link": true
    },
    "kernelspec": {
      "name": "python3",
      "display_name": "Python 3"
    },
    "language_info": {
      "name": "python"
    }
  },
  "cells": [
    {
      "cell_type": "markdown",
      "metadata": {
        "id": "view-in-github",
        "colab_type": "text"
      },
      "source": [
        "<a href=\"https://colab.research.google.com/github/talitmr/text_analysis_word_embeddings_skip_gram/blob/main/word_embed_skip_gram.ipynb\" target=\"_parent\"><img src=\"https://colab.research.google.com/assets/colab-badge.svg\" alt=\"Open In Colab\"/></a>"
      ]
    },
    {
      "cell_type": "markdown",
      "metadata": {
        "id": "ook3baXLCU4M"
      },
      "source": [
        "## Word Embeddings and Skip Gram "
      ]
    },
    {
      "cell_type": "markdown",
      "metadata": {
        "id": "zVdtm6TyBAw5"
      },
      "source": [
        "##1. Data Preparation\n",
        "\n"
      ]
    },
    {
      "cell_type": "code",
      "metadata": {
        "colab": {
          "base_uri": "https://localhost:8080/"
        },
        "id": "cPXx5hM4BKcK",
        "outputId": "5ee09160-06db-4ff1-db2f-aee49bc8e775"
      },
      "source": [
        "#libraries\n",
        "\n",
        "import re\n",
        "import spacy\n",
        "import torch\n",
        "import torch.nn.functional as F\n",
        "import torchtext.legacy as torchtext\n",
        "import random\n",
        "import pandas as pd\n",
        "import numpy as np\n",
        " \n",
        "import time\n",
        "from nltk.stem import SnowballStemmer\n",
        "import nltk\n",
        "from nltk.stem import WordNetLemmatizer\n",
        "from nltk.tokenize import TweetTokenizer\n",
        "nltk.download(\"punkt\")\n",
        "from nltk import pos_tag_sents\n",
        "nltk.download('averaged_perceptron_tagger')\n",
        "from nltk.corpus import wordnet as wn\n",
        "nltk.download('wordnet')\n",
        "from nltk.corpus import stopwords\n",
        "nltk.download('stopwords')\n",
        "from nltk.sentiment.util import mark_negation\n",
        " \n",
        "import nltk\n",
        "import string\n",
        "from nltk import word_tokenize\n",
        "from nltk.corpus import stopwords\n",
        "from nltk.stem.porter import PorterStemmer\n",
        "from nltk import pos_tag\n",
        "from google.colab import files"
      ],
      "execution_count": null,
      "outputs": [
        {
          "output_type": "stream",
          "text": [
            "[nltk_data] Downloading package punkt to /root/nltk_data...\n",
            "[nltk_data]   Package punkt is already up-to-date!\n",
            "[nltk_data] Downloading package averaged_perceptron_tagger to\n",
            "[nltk_data]     /root/nltk_data...\n",
            "[nltk_data]   Package averaged_perceptron_tagger is already up-to-\n",
            "[nltk_data]       date!\n",
            "[nltk_data] Downloading package wordnet to /root/nltk_data...\n",
            "[nltk_data]   Package wordnet is already up-to-date!\n",
            "[nltk_data] Downloading package stopwords to /root/nltk_data...\n",
            "[nltk_data]   Package stopwords is already up-to-date!\n"
          ],
          "name": "stdout"
        },
        {
          "output_type": "stream",
          "text": [
            "/usr/local/lib/python3.7/dist-packages/nltk/twitter/__init__.py:20: UserWarning: The twython library has not been installed. Some functionality from the twitter package will not be available.\n",
            "  warnings.warn(\"The twython library has not been installed. \"\n"
          ],
          "name": "stderr"
        }
      ]
    },
    {
      "cell_type": "code",
      "metadata": {
        "colab": {
          "base_uri": "https://localhost:8080/"
        },
        "id": "zeeQl5JfJwKL",
        "outputId": "301e5af6-c2c3-48ca-a301-cdeac590a561"
      },
      "source": [
        "from google.colab import drive\n",
        "drive.mount('/content/gdrive')\n"
      ],
      "execution_count": null,
      "outputs": [
        {
          "output_type": "stream",
          "text": [
            "Drive already mounted at /content/gdrive; to attempt to forcibly remount, call drive.mount(\"/content/gdrive\", force_remount=True).\n"
          ],
          "name": "stdout"
        }
      ]
    },
    {
      "cell_type": "code",
      "metadata": {
        "id": "jPxtBueaj70f"
      },
      "source": [
        "with open('/content/gdrive/MyDrive/cbt_test.txt', \"r\") as books:\n",
        "    BOOKS = books.read()\n",
        "books.close()"
      ],
      "execution_count": null,
      "outputs": []
    },
    {
      "cell_type": "markdown",
      "metadata": {
        "id": "Fl50mw0NG0gZ"
      },
      "source": [
        "\n",
        "First of all, I pick the book Alice's Adventures in Wonderland by Lewis Caroll. In this section, my steps are in the below:\n",
        "\n",
        "1) The book is in the test dataset so I only upload the test data.\n",
        "\n",
        "2) As you know there are several books in the test file. So firstly, I  stated the places of where the books begin by searching '_BOOK_TITLE_' phrase's indexes. And then I only took Alice from the whole data.\n",
        "\n",
        "3) After that I remove the 'CHAPTER' phrase using finditer module with splitting according to dot('.').\n",
        "\n",
        "4) Next step is lowering all letters and removing punctuations.\n",
        "\n",
        "5) And then I tokenize each phrase storing in a list named by alice_tok.\n",
        "\n",
        "6) I defined a function in order to remove stopwords and also additional stop words can be removed.\n",
        "\n",
        "7) I choose not to remove defined stopwords. However I found some words that meant anything such as 'rrb','lrb', 'rsb', 'lsb' and ' '. I removed them in the data.\n",
        "\n",
        "8) Also, I defined stemmer and lemmatizer which can be used for preprocessing but after testing some cases I decided not to use them.\n",
        "\n",
        "9) I looked that occurence frequency of the tokens.\n",
        "\n",
        "10) Then, I make the dataframe which contains the token frequencies, probabilities, unique tokens and probability of keeping the word values.\n",
        "\n",
        "11) I made subsampling. I used probability of keeping the word values smaller than 0.1 in order to lower the size of the most frequent tokens. In the subsampling, my roadmap is first storing the unique tokens indexes in a list and then randomly removing them according to possibility values.\n",
        "\n",
        "12) After decreasing the most frequent tokens number, I applied the skip gram structure to the data using context size is 1.\n",
        "\n",
        "13) In order to make positive labeling according to Skip-Gram I stored context word and targets in a dictionary.\n",
        "\n",
        "14) Next step is making another dataframe full of positive labeled data. \n",
        "\n",
        "15) Another important part is negative sampling. I write an algorithm that makes negative sampling. Firstly, I stored the positevly labeled data in a list for each token and then I randomly choosed the pairs which they will have negative labels. For each token a new list produced which removed the positive label pairs. And then for each token random n many target was chosen randomly. n is decided by using the probability of the context token and negative sampling size which is defined by me. Negatively labeled data was also stored in the new dataframe.\n",
        "\n",
        "16) Positively and negatively labeled dataframes were concataned.\n",
        "\n",
        "17) Dataframe was turned into integers.\n",
        "\n",
        "18) Final version of dataframe was downloaded as a csv file.\n"
      ]
    },
    {
      "cell_type": "code",
      "metadata": {
        "id": "fcKihGf8JmPF"
      },
      "source": [
        "BOOKS"
      ],
      "execution_count": null,
      "outputs": []
    },
    {
      "cell_type": "code",
      "metadata": {
        "colab": {
          "base_uri": "https://localhost:8080/"
        },
        "id": "PNA3vgXgOmfT",
        "outputId": "f7191150-99c3-41a5-c7fa-71b53af1a59d"
      },
      "source": [
        "## In this piece of code, I found the starting number of the each book in the BOOKS file.\n",
        "## and stored them into a list.\n",
        "\n",
        "list_books_start = []\n",
        "for match in re.finditer(\"_BOOK_TITLE_\", BOOKS):\n",
        "  list_books_start.append(match.span()[0])\n",
        "\n",
        "list_books_start"
      ],
      "execution_count": null,
      "outputs": [
        {
          "output_type": "execute_result",
          "data": {
            "text/plain": [
              "[0, 593691, 744738, 1162266, 1445415]"
            ]
          },
          "metadata": {
            "tags": []
          },
          "execution_count": 5
        }
      ]
    },
    {
      "cell_type": "code",
      "metadata": {
        "colab": {
          "base_uri": "https://localhost:8080/"
        },
        "id": "TFR-zagfQrE6",
        "outputId": "39f2b0c8-3e49-4454-a66f-0cdf4c1bc61c"
      },
      "source": [
        "## So now I can extract the book that I chose Alice's Adventures in Wonderland by Lewis Caroll by\n",
        "## searching by book's name.\n",
        "\n",
        "for l in range(len(list_books_start)):\n",
        "  if \"Lewis_Carroll___Alice's_Adventures_in_Wonderland.txt.out\" in BOOKS[list_books_start[l]:list_books_start[l]+100]:\n",
        "    alice = BOOKS[list_books_start[l]:list_books_start[l+1]]\n",
        "\n",
        "len_book_title = len(\"_BOOK_TITLE_ : Lewis_Carroll___Alice's_Adventures_in_Wonderland.txt.out \")\n",
        "alice = alice[len_book_title:]\n",
        "print('first 100 characters of the book :', alice[:100])\n",
        "print('last 100 characters of the book :', alice[-100:])"
      ],
      "execution_count": null,
      "outputs": [
        {
          "output_type": "stream",
          "text": [
            "first 100 characters of the book : CHAPTER I. Down the Rabbit-Hole Alice was beginning to get very tired of sitting by her sister on th\n",
            "last 100 characters of the book :  a pleasure in all their simple joys , remembering her own child-life , and the happy summer days .\n",
            "\n"
          ],
          "name": "stdout"
        }
      ]
    },
    {
      "cell_type": "code",
      "metadata": {
        "colab": {
          "base_uri": "https://localhost:8080/"
        },
        "id": "q26htTnUTh4U",
        "outputId": "0f8dd26b-947d-4e9c-f8d9-e69fd6e96c83"
      },
      "source": [
        "## In the data there are useless words for the model like \"CHAPTER\", Again the same strategy, I found the word \"CHAPTER\"'s location and store them in a list.\n",
        "\n",
        "list_chapters = []\n",
        "for match in re.finditer(\"CHAPTER\", alice):\n",
        "  list_chapters.append(match.span()[0])\n",
        "print('number of chapters in the book :',len(list_chapters))"
      ],
      "execution_count": null,
      "outputs": [
        {
          "output_type": "stream",
          "text": [
            "number of chapters in the book : 12\n"
          ],
          "name": "stdout"
        }
      ]
    },
    {
      "cell_type": "code",
      "metadata": {
        "id": "WMo5Y8ZpZNJm"
      },
      "source": [
        "alice_cleaned = \"\"\n",
        "for sentence in alice.split(\".\"):\n",
        "    if not (re.search(\"CHAPTER\", sentence, flags=re.IGNORECASE)):\n",
        "        alice_cleaned = alice_cleaned + sentence\n",
        " "
      ],
      "execution_count": null,
      "outputs": []
    },
    {
      "cell_type": "code",
      "metadata": {
        "colab": {
          "base_uri": "https://localhost:8080/"
        },
        "id": "vd5ZcHhIZa1_",
        "outputId": "0ff741d3-ebe1-4df2-9a82-2bc6698bcbef"
      },
      "source": [
        "list_chapters_cleaned = []\n",
        "for match in re.finditer(\"CHAPTER\", alice_cleaned):\n",
        "  list_chapters_cleaned.append(match.span()[0])\n",
        "\n",
        "print(\"number of remaining 'chapters' in the book :\",len(list_chapters_cleaned))"
      ],
      "execution_count": null,
      "outputs": [
        {
          "output_type": "stream",
          "text": [
            "number of remaining 'chapters' in the book : 0\n"
          ],
          "name": "stdout"
        }
      ]
    },
    {
      "cell_type": "code",
      "metadata": {
        "colab": {
          "base_uri": "https://localhost:8080/"
        },
        "id": "Z_ozCRqtZkWm",
        "outputId": "b9383866-cc1a-4e92-f111-8aa0bb705519"
      },
      "source": [
        "print('first 100 characters of the book :', alice_cleaned[:100])\n",
        "print('last 100 characters of the book :', alice_cleaned[-100:])"
      ],
      "execution_count": null,
      "outputs": [
        {
          "output_type": "stream",
          "text": [
            "first 100 characters of the book :  Down the Rabbit-Hole Alice was beginning to get very tired of sitting by her sister on the bank , a\n",
            "last 100 characters of the book : d a pleasure in all their simple joys , remembering her own child-life , and the happy summer days \n",
            "\n"
          ],
          "name": "stdout"
        }
      ]
    },
    {
      "cell_type": "code",
      "metadata": {
        "id": "M3uBE7huru_a"
      },
      "source": [
        "## making lower whole text and removing the punctuations\n",
        "def nopunc_lower(text):\n",
        "  text = text.lower()\n",
        "  text_nopunc = \"\".join([char for char in text if char not in string.punctuation])\n",
        "  return text_nopunc\n"
      ],
      "execution_count": null,
      "outputs": []
    },
    {
      "cell_type": "code",
      "metadata": {
        "colab": {
          "base_uri": "https://localhost:8080/",
          "height": 103
        },
        "id": "D0FGUKLawGWx",
        "outputId": "84595446-14ba-4894-8eeb-c72d501916a8"
      },
      "source": [
        "alice_np = nopunc_lower(alice_cleaned)\n",
        "alice_np"
      ],
      "execution_count": null,
      "outputs": [
        {
          "output_type": "execute_result",
          "data": {
            "application/vnd.google.colaboratory.intrinsic+json": {
              "type": "string"
            },
            "text/plain": [
              "' down the rabbithole alice was beginning to get very tired of sitting by her sister on the bank  and of having nothing to do  once or twice she had peeped into the book her sister was reading  but it had no pictures or conversations in it   and what is the use of a book   thought alice  without pictures or conversation  \\nso she was considering in her own mind lrb as well as she could  for the hot day made her feel very sleepy and stupid rrb  whether the pleasure of making a daisychain would be worth the trouble of getting up and picking the daisies  when suddenly a white rabbit with pink eyes ran close by her \\nthere was nothing so very remarkable in that  nor did alice think it so very much out of the way to hear the rabbit say to itself   oh dear \\noh dear \\ni shall be late  \\nlrb when she thought it over afterwards  it occurred to her that she ought to have wondered at this  but at the time it all seemed quite natural rrb  but when the rabbit actually took a watch out of its waistcoatpocket  and looked at it  and then hurried on  alice started to her feet  for it flashed across her mind that she had never before seen a rabbit with either a waistcoatpocket  or a watch to take out of it  and burning with curiosity  she ran across the field after it  and fortunately was just in time to see it pop down a large rabbithole under the hedge \\nin another moment down went alice after it  never once considering how in the world she was to get out again \\nthe rabbithole went straight on like a tunnel for some way  and then dipped suddenly down  so suddenly that alice had not a moment to think about stopping herself before she found herself falling down a very deep well \\neither the well was very deep  or she fell very slowly  for she had plenty of time as she went down to look about her and to wonder what was going to happen next \\nfirst  she tried to look down and make out what she was coming to  but it was too dark to see anything  then she looked at the sides of the well  and noticed that they were filled with cupboards and bookshelves  here and there she saw maps and pictures hung upon pegs \\nshe took down a jar from one of the shelves as she passed  it was labelled  orange marmalade   but to her great disappointment it was empty  she did not like to drop the jar for fear of killing somebody  so managed to put it into one of the cupboards as she fell past it \\n well  \\nthought alice to herself   after such a fall as this  i shall think nothing of tumbling down stairs \\nhow brave they ll all think me at home \\nwhy  i would nt say anything about it  even if i fell off the top of the house  \\nlrb which was very likely true  rrb\\ndown  down  down \\nwould the fall never come to an end  \\ni wonder how many miles i ve fallen by this time  \\nshe said aloud  \\ni must be getting somewhere near the centre of the earth \\nlet me see  that would be four thousand miles down  i think   lrb for  you see  alice had learnt several things of this sort in her lessons in the schoolroom  and though this was not a very good opportunity for showing off her knowledge  as there was no one to listen to her  still it was good practice to say it over rrb   yes  that s about the right distance  but then i wonder what latitude or longitude i ve got to  \\nlrb alice had no idea what latitude was  or longitude either  but thought they were nice grand words to say  rrb\\npresently she began again  \\ni wonder if i shall fall right through the earth \\nhow funny it ll seem to come out among the people that walk with their heads downward \\nthe antipathies  i think   lrb she was rather glad there was no one listening  this time  as it did nt sound at all the right word rrb   but i shall have to ask them what the name of the country is  you know \\nplease  maam  is this new zealand or australia  \\nlrb and she tried to curtsey as she spoke  fancy curtseying as you re falling through the air \\ndo you think you could manage it  rrb\\n and what an ignorant little girl she ll think me for asking \\nno  it ll never do to ask  perhaps i shall see it written up somewhere  \\ndown  down  down \\nthere was nothing else to do  so alice soon began talking again \\n dinah ll miss me very much tonight  i should think  \\nlrb dinah was the cat  rrb \\ni hope they ll remember her saucer of milk at teatime \\ndinah my dear \\ni wish you were down here with me \\nthere are no mice in the air  i m afraid  but you might catch a bat  and that s very like a mouse  you know \\nbut do cats eat bats  i wonder  \\nand here alice began to get rather sleepy  and went on saying to herself  in a dreamy sort of way   do cats eat bats \\ndo cats eat bats  \\nand sometimes   do bats eat cats  \\nfor  you see  as she could nt answer either question  it did nt much matter which way she put it \\nshe felt that she was dozing off  and had just begun to dream that she was walking hand in hand with dinah  and saying to her very earnestly   now  dinah  tell me the truth  did you ever eat a bat  \\nwhen suddenly  thump \\nthump \\ndown she came upon a heap of sticks and dry leaves  and the fall was over \\nalice was not a bit hurt  and she jumped up on to her feet in a moment  she looked up  but it was all dark overhead  before her was another long passage  and the white rabbit was still in sight  hurrying down it \\nthere was not a moment to be lost  away went alice like the wind  and was just in time to hear it say  as it turned a corner   oh my ears and whiskers  how late it s getting  \\nshe was close behind it when she turned the corner  but the rabbit was no longer to be seen  she found herself in a long  low hall  which was lit up by a row of lamps hanging from the roof \\nthere were doors all round the hall  but they were all locked  and when alice had been all the way down one side and up the other  trying every door  she walked sadly down the middle  wondering how she was ever to get out again \\nsuddenly she came upon a little threelegged table  all made of solid glass  there was nothing on it except a tiny golden key  and alice s first thought was that it might belong to one of the doors of the hall  but  alas \\neither the locks were too large  or the key was too small  but at any rate it would not open any of them \\nhowever  on the second time round  she came upon a low curtain she had not noticed before  and behind it was a little door about fifteen inches high  she tried the little golden key in the lock  and to her great delight it fitted \\nalice opened the door and found that it led into a small passage  not much larger than a rathole  she knelt down and looked along the passage into the loveliest garden you ever saw \\nhow she longed to get out of that dark hall  and wander about among those beds of bright flowers and those cool fountains  but she could not even get her head through the doorway   and even if my head would go through   thought poor alice   it would be of very little use without my shoulders \\noh  how i wish i could shut up like a telescope \\ni think i could  if i only know how to begin  \\nfor  you see  so many outoftheway things had happened lately  that alice had begun to think that very few things indeed were really impossible \\nthere seemed to be no use in waiting by the little door  so she went back to the table  half hoping she might find another key on it  or at any rate a book of rules for shutting people up like telescopes  this time she found a little bottle on it  lrb  which certainly was not here before   said alice  rrb and round the neck of the bottle was a paper label  with the words  drink me  beautifully printed on it in large letters \\nit was all very well to say  drink me   but the wise little alice was not going to do that in a hurry \\n no  i ll look first   she said   and see whether it s marked  poison  or not   for she had read several nice little histories about children who had got burnt  and eaten up by wild beasts and other unpleasant things  all because they would not remember the simple rules their friends had taught them  such as  that a redhot poker will burn you if you hold it too long  and that if you cut your finger very deeply with a knife  it usually bleeds  and she had never forgotten that  if you drink much from a bottle marked  poison   it is almost certain to disagree with you  sooner or later \\nhowever  this bottle was not marked  poison   so alice ventured to taste it  and finding it very nice  lrb it had  in fact  a sort of mixed flavour of cherrytart  custard  pineapple  roast turkey  toffee  and hot buttered toast  rrb she very soon finished it off \\n                     what a curious feeling  \\nsaid alice   i must be shutting up like a telescope  \\nand so it was indeed  she was now only ten inches high  and her face brightened up at the thought that she was now the right size for going through the little door into that lovely garden \\nfirst  however  she waited for a few minutes to see if she was going to shrink any further  she felt a little nervous about this   for it might end  you know   said alice to herself   in my going out altogether  like a candle \\ni wonder what i should be like then  \\nand she tried to fancy what the flame of a candle is like after the candle is blown out  for she could not remember ever having seen such a thing \\nafter a while  finding that nothing more happened  she decided on going into the garden at once  but  alas for poor alice \\nwhen she got to the door  she found she had forgotten the little golden key  and when she went back to the table for it  she found she could not possibly reach it  she could see it quite plainly through the glass  and she tried her best to climb up one of the legs of the table  but it was too slippery  and when she had tired herself out with trying  the poor little thing sat down and cried \\n come  there s no use in crying like that  \\nsaid alice to herself  rather sharply   i advise you to leave off this minute  \\nshe generally gave herself very good advice  lrb though she very seldom followed it rrb  and sometimes she scolded herself so severely as to bring tears into her eyes  and once she remembered trying to box her own ears for having cheated herself in a game of croquet she was playing against herself  for this curious child was very fond of pretending to be two people \\n but it s no use now   thought poor alice   to pretend to be two people \\nwhy  there s hardly enough of me left to make one respectable person  \\nsoon her eye fell on a little glass box that was lying under the table  she opened it  and found in it a very small cake  on which the words  eat me  were beautifully marked in currants \\n well  i ll eat it   said alice   and if it makes me grow larger  i can reach the key  and if it makes me grow smaller  i can creep under the door  so either way i ll get into the garden  and i do nt care which happens  \\nshe ate a little bit  and said anxiously to herself   which way \\nwhich way  \\n holding her hand on the top of her head to feel which way it was growing  and she was quite surprised to find that she remained the same size  to be sure  this generally happens when one eats cake  but alice had got so much into the way of expecting nothing but outoftheway things to happen  that it seemed quite dull and stupid for life to go on in the common way \\nso she set to work  and very soon finished off the cake \\nthe pool of tears  curiouser and curiouser  \\ncried alice lrb she was so much surprised  that for the moment she quite forgot how to speak good english rrb   now i m opening out like the largest telescope that ever was \\ngoodbye  feet  \\nlrb for when she looked down at her feet  they seemed to be almost out of sight  they were getting so far off rrb \\n oh  my poor little feet  i wonder who will put on your shoes and stockings for you now  dears \\ni m sure i sha nt be able \\ni shall be a great deal too far off to trouble myself about you  you must manage the best way you can   but i must be kind to them   thought alice   or perhaps they wo nt walk the way i want to go \\nlet me see  i ll give them a new pair of boots every christmas  \\nand she went on planning to herself how she would manage it \\n they must go by the carrier   she thought   and how funny it ll seem  sending presents to one s own feet \\nand how odd the directions will look \\nalice s right foot  esq \\nhearthrug  near the fender  lrb with alice s love rrb \\noh dear  what nonsense i m talking  \\njust then her head struck against the roof of the hall  in fact she was now more than nine feet high  and she at once took up the little golden key and hurried off to the garden door \\npoor alice \\nit was as much as she could do  lying down on one side  to look through into the garden with one eye  but to get through was more hopeless than ever  she sat down and began to cry again \\n you ought to be ashamed of yourself   said alice   a great girl like you   lrb she might well say this rrb   to go on crying in this way \\nstop this moment  i tell you  \\nbut she went on all the same  shedding gallons of tears  until there was a large pool all round her  about four inches deep and reaching half down the hall \\nafter a time she heard a little pattering of feet in the distance  and she hastily dried her eyes to see what was coming \\nit was the white rabbit returning  splendidly dressed  with a pair of white kid gloves in one hand and a large fan in the other  he came trotting along in a great hurry  muttering to himself as he came   oh \\nthe duchess  the duchess \\noh \\nwo nt she be savage if i ve kept her waiting  \\nalice felt so desperate that she was ready to ask help of any one  so  when the rabbit came near her  she began  in a low  timid voice   if you please  sir   the rabbit started violently  dropped the white kid gloves and the fan  and skurried away into the darkness as hard as he could go \\nalice took up the fan and gloves  and  as the hall was very hot  she kept fanning herself all the time she went on talking   dear  dear \\nhow queer everything is today \\nand yesterday things went on just as usual \\ni wonder if i ve been changed in the night \\nlet me think  was i the same when i got up this morning \\ni almost think i can remember feeling a little different \\nbut if i m not the same  the next question is  who in the world am i \\nah  that s the great puzzle  \\nand she began thinking over all the children she knew that were of the same age as herself  to see if she could have been changed for any of them \\n i m sure i m not ada   she said   for her hair goes in such long ringlets  and mine does nt go in ringlets at all  and i m sure i ca nt be mabel  for i know all sorts of things  and she  oh \\nshe knows such a very little \\nbesides  she s she  and i m i  and  oh dear  how puzzling it all is \\ni ll try if i know all the things i used to know \\nlet me see  four times five is twelve  and four times six is thirteen  and four times seven is  oh dear \\ni shall never get to twenty at that rate \\nhowever  the multiplication table does nt signify  let s try geography \\nlondon is the capital of paris  and paris is the capital of rome  and rome  no  that s all wrong  i m certain \\ni must have been changed for mabel \\ni ll try and say  how doth the little    and she crossed her hands on her lap as if she were saying lessons  and began to repeat it  but her voice sounded hoarse and strange  and the words did not come the same as they used to do    how doth the little crocodile improve his shining tail  and pour the waters of the nile on every golden scale \\n how cheerfully he seems to grin  how neatly spread his claws  and welcome little fishes in with gently smiling jaws  \\n i m sure those are not the right words   said poor alice  and her eyes filled with tears again as she went on   i must be mabel after all  and i shall have to go and live in that poky little house  and have next to no toys to play with  and oh \\never so many lessons to learn \\nno  i ve made up my mind about it  if i m mabel  i ll stay down here \\nit ll be no use their putting their heads down and saying  come up again  dear  \\ni shall only look up and say  who am i then \\ntell me that first  and then  if i like being that person  i ll come up  if not  i ll stay down here till i m somebody else   but  oh dear  \\ncried alice  with a sudden burst of tears   i do wish they would put their heads down \\ni am so very tired of being all alone here  \\nas she said this she looked down at her hands  and was surprised to see that she had put on one of the rabbit s little white kid gloves while she was talking \\n how can i have done that  \\nshe thought  \\ni must be growing small again  \\nshe got up and went to the table to measure herself by it  and found that  as nearly as she could guess  she was now about two feet high  and was going on shrinking rapidly  she soon found out that the cause of this was the fan she was holding  and she dropped it hastily  just in time to avoid shrinking away altogether \\n that was a narrow escape  \\nsaid alice  a good deal frightened at the sudden change  but very glad to find herself still in existence   and now for the garden  \\nand she ran with all speed back to the little door  but  alas \\nthe little door was shut again  and the little golden key was lying on the glass table as before   and things are worse than ever   thought the poor child   for i never was so small as this before  never \\nand i declare it s too bad  that it is  \\nas she said these words her foot slipped  and in another moment  splash \\nshe was up to her chin in salt water \\nher first idea was that she had somehow fallen into the sea   and in that case i can go back by railway   she said to herself \\nlrb alice had been to the seaside once in her life  and had come to the general conclusion  that wherever you go to on the english coast you find a number of bathing machines in the sea  some children digging in the sand with wooden spades  then a row of lodging houses  and behind them a railway station  rrb\\nhowever  she soon made out that she was in the pool of tears which she had wept when she was nine feet high  \\ni wish i had nt cried so much  \\nsaid alice  as she swam about  trying to find her way out  \\ni shall be punished for it now  i suppose  by being drowned in my own tears \\nthat will be a queer thing  to be sure \\nhowever  everything is queer today  \\njust then she heard something splashing about in the pool a little way off  and she swam nearer to make out what it was  at first she thought it must be a walrus or hippopotamus  but then she remembered how small she was now  and she soon made out that it was only a mouse that had slipped in like herself \\n would it be of any use  now   thought alice   to speak to this mouse \\neverything is so outoftheway down here  that i should think very likely it can talk  at any rate  there s no harm in trying  \\nso she began   o mouse  do you know the way out of this pool \\ni am very tired of swimming about here  o mouse  \\nlrb alice thought this must be the right way of speaking to a mouse  she had never done such a thing before  but she remembered having seen in her brother s latin grammar   a mouse  of a mouse  to a mouse  a mouse  o mouse   rrb\\nthe mouse looked at her rather inquisitively  and seemed to her to wink with one of its little eyes  but it said nothing \\n perhaps it does nt understand english   thought alice   i daresay it s a french mouse  come over with william the conqueror  \\nlrb for  with all her knowledge of history  alice had no very clear notion how long ago anything had happened  rrb\\nso she began again   ou est ma chatte  \\nwhich was the first sentence in her french lessonbook \\nthe mouse gave a sudden leap out of the water  and seemed to quiver all over with fright \\n oh  i beg your pardon  \\ncried alice hastily  afraid that she had hurt the poor animal s feelings  \\ni quite forgot you did nt like cats  \\n not like cats  \\ncried the mouse  in a shrill  passionate voice \\n would you like cats if you were me  \\n well  perhaps not   said alice in a soothing tone   do nt be angry about it \\nand yet i wish i could show you our cat dinah  i think you d take a fancy to cats if you could only see her \\nshe is such a dear quiet thing   alice went on  half to herself  as she swam lazily about in the pool   and she sits purring so nicely by the fire  licking her paws and washing her face  and she is such a nice soft thing to nurse  and she s such a capital one for catching mice  oh  i beg your pardon  \\ncried alice again  for this time the mouse was bristling all over  and she felt certain it must be really offended \\n we wo nt talk about her any more if you d rather not  \\n we indeed  \\ncried the mouse  who was trembling down to the end of his tail \\n as if i would talk on such a subject \\nour family always hated cats  nasty  low  vulgar things \\ndo nt let me hear the name again   \\ni wo nt indeed  \\nsaid alice  in a great hurry to change the subject of conversation \\n are you  are you fond  of  of dogs  \\nthe mouse did not answer  so alice went on eagerly   there is such a nice little dog near our house i should like to show you \\na little brighteyed terrier  you know  with oh  such long curly brown hair \\nand it ll fetch things when you throw them  and it ll sit up and beg for its dinner  and all sorts of things  i ca nt remember half of them  and it belongs to a farmer  you know  and he says it s so useful  it s worth a hundred pounds \\nhe says it kills all the rats and  oh dear  \\ncried alice in a sorrowful tone   i m afraid i ve offended it again  \\nfor the mouse was swimming away from her as hard as it could go  and making quite a commotion in the pool as it went \\nso she called softly after it   mouse dear \\ndo come back again  and we wo nt talk about cats or dogs either  if you do nt like them  \\nwhen the mouse heard this  it turned round and swam slowly back to her  its face was quite pale lrb with passion  alice thought rrb  and it said in a low trembling voice   let us get to the shore  and then i ll tell you my history  and you ll understand why it is i hate cats and dogs  \\nit was high time to go  for the pool was getting quite crowded with the birds and animals that had fallen into it  there were a duck and a dodo  a lory and an eaglet  and several other curious creatures \\nalice led the way  and the whole party swam to the shore \\na caucusrace and a long tale they were indeed a queerlooking party that assembled on the bank  the birds with draggled feathers  the animals with their fur clinging close to them  and all dripping wet  cross  and uncomfortable \\nthe first question of course was  how to get dry again  they had a consultation about this  and after a few minutes it seemed quite natural to alice to find herself talking familiarly with them  as if she had known them all her life \\nindeed  she had quite a long argument with the lory  who at last turned sulky  and would only say   i am older than you  and must know better   and this alice would not allow without knowing how old it was  and  as the lory positively refused to tell its age  there was no more to be said \\nat last the mouse  who seemed to be a person of authority among them  called out   sit down  all of you  and listen to me \\ni ll soon make you dry enough  \\nthey all sat down at once  in a large ring  with the mouse in the middle \\nalice kept her eyes anxiously fixed on it  for she felt sure she would catch a bad cold if she did not get dry very soon \\n ahem  \\nsaid the mouse with an important air   are you all ready \\nthis is the driest thing i know \\nsilence all round  if you please \\n william the conqueror  whose cause was favoured by the pope  was soon submitted to by the english  who wanted leaders  and had been of late much accustomed to usurpation and conquest \\nedwin and morcar  the earls of mercia and northumbria     ugh  \\nsaid the lory  with a shiver  \\ni beg your pardon  \\nsaid the mouse  frowning  but very politely   did you speak  \\n not i  \\nsaid the lory hastily  \\ni thought you did   said the mouse  \\n i proceed \\n edwin and morcar  the earls of mercia and northumbria  declared for him  and even stigand  the patriotic archbishop of canterbury  found it advisable     found what  \\nsaid the duck \\n found it   the mouse replied rather crossly   of course you know what  it  means   \\ni know what  it  means well enough  when i find a thing   said the duck   it s generally a frog or a worm \\nthe question is  what did the archbishop find  \\nthe mouse did not notice this question  but hurriedly went on     found it advisable to go with edgar atheling to meet william and offer him the crown \\nwilliam s conduct at first was moderate \\nbut the insolence of his normans   how are you getting on now  my dear  \\nit continued  turning to alice as it spoke \\n as wet as ever   said alice in a melancholy tone   it does nt seem to dry me at all  \\n in that case   said the dodo solemnly  rising to its feet   i move that the meeting adjourn  for the immediate adoption of more energetic remedies    speak english  \\nsaid the eaglet  \\ni do nt know the meaning of half those long words  and  what s more  i do nt believe you do either  \\nand the eaglet bent down its head to hide a smile  some of the other birds tittered audibly \\n what i was going to say   said the dodo in an offended tone   was  that the best thing to get us dry would be a caucusrace  \\n what is a caucusrace  \\nsaid alice  not that she wanted much to know  but the dodo had paused as if it thought that somebody ought to speak  and no one else seemed inclined to say anything \\n why   said the dodo   the best way to explain it is to do it  \\nlrb and  as you might like to try the thing yourself  some winter day  i will tell you how the dodo managed it  rrb\\nfirst it marked out a racecourse  in a sort of circle  lrb  the exact shape does nt matter   it said  rrb and then all the party were placed along the course  here and there \\nthere was no  one  two  three  and away   but they began running when they liked  and left off when they liked  so that it was not easy to know when the race was over \\nhowever  when they had been running half an hour or so  and were quite dry again  the dodo suddenly called out  the race is over  \\nand they all crowded round it  panting  and asking   but who has won  \\nthis question the dodo could not answer without a great deal of thought  and it sat for a long time with one finger pressed upon its forehead lrb the position in which you usually see shakespeare  in the pictures of him rrb  while the rest waited in silence \\nat last the dodo said   everybody has won  and all must have prizes  \\n but who is to give the prizes  \\nquite a chorus of voices asked \\n why  she  of course   said the dodo  pointing to alice with one finger  and the whole party at once crowded round her  calling out in a confused way   prizes \\nprizes  \\nalice had no idea what to do  and in despair she put her hand in her pocket  and pulled out a box of comfits  lrb luckily the salt water had not got into it rrb  and handed them round as prizes \\nthere was exactly one apiece all round \\n but she must have a prize herself  you know   said the mouse \\n of course   the dodo replied very gravely \\n what else have you got in your pocket  \\nhe went on  turning to alice \\n only a thimble   said alice sadly \\n hand it over here   said the dodo \\nthen they all crowded round her once more  while the dodo solemnly presented the thimble  saying  we beg your acceptance of this elegant thimble   and  when it had finished this short speech  they all cheered \\nalice thought the whole thing very absurd  but they all looked so grave that she did not dare to laugh  and  as she could not think of anything to say  she simply bowed  and took the thimble  looking as solemn as she could \\nthe next thing was to eat the comfits  this caused some noise and confusion  as the large birds complained that they could not taste theirs  and the small ones choked and had to be patted on the back \\nhowever  it was over at last  and they sat down again in a ring  and begged the mouse to tell them something more \\n you promised to tell me your history  you know   said alice   and why it is you hate  c and d   she added in a whisper  half afraid that it would be offended again \\n mine is a long and a sad tale  \\nsaid the mouse  turning to alice  and sighing \\n it is a long tail  certainly   said alice  looking down with wonder at the mouse s tail   but why do you call it sad  \\nand she kept on puzzling about it while the mouse was speaking  so that her idea of the tale was something like this    fury said to a mouse  that he met in the house   let us both go to law  i will prosecute you \\n come  i ll take no denial  we must have a trial  for really this morning i ve nothing to do  \\nsaid the mouse to the cur   such a trial  dear sir  with no jury or judge  would be wasting our breath  \\n i ll be judge  i ll be jury   said cunning old fury   i ll try the whole cause  and condemn you to death   \\n you are not attending  \\nsaid the mouse to alice severely \\n what are you thinking of   \\ni beg your pardon   said alice very humbly   you had got to the fifth bend  i think   \\ni had not  \\ncried the mouse  sharply and very angrily  \\na knot  \\nsaid alice  always ready to make herself useful  and looking anxiously about her \\n oh  do let me help to undo it   \\ni shall do nothing of the sort   said the mouse  getting up and walking away \\n you insult me by talking such nonsense   \\ni did nt mean it  \\npleaded poor alice \\n but you re so easily offended  you know  \\nthe mouse only growled in reply \\n please come back and finish your story  \\nalice called after it  and the others all joined in chorus   yes  please do  \\nbut the mouse only shook its head impatiently  and walked a little quicker \\n what a pity it would nt stay  \\nsighed the lory  as soon as it was quite out of sight  and an old crab took the opportunity of saying to her daughter  ah  my dear \\nlet this be a lesson to you never to lose your temper  \\n hold your tongue  ma  \\nsaid the young crab  a little snappishly \\n you re enough to try the patience of an oyster   \\ni wish i had our dinah here  i know i do  \\nsaid alice aloud  addressing nobody in particular \\n she d soon fetch it back  \\n and who is dinah  if i might venture to ask the question  \\nsaid the lory \\nalice replied eagerly  for she was always ready to talk about her pet   dinah s our cat \\nand she s such a capital one for catching mice you ca nt think \\nand oh  i wish you could see her after the birds \\nwhy  she ll eat a little bird as soon as look at it  \\nthis speech caused a remarkable sensation among the party \\nsome of the birds hurried off at once  one old magpie began wrapping itself up very carefully  remarking   i really must be getting home  the nightair does nt suit my throat  \\nand a canary called out in a trembling voice to its children   come away  my dears \\nit s high time you were all in bed  \\non various pretexts they all moved off  and alice was soon left alone  \\ni wish i had nt mentioned dinah  \\nshe said to herself in a melancholy tone \\n nobody seems to like her  down here  and i m sure she s the best cat in the world \\noh  my dear dinah \\ni wonder if i shall ever see you any more  \\nand here poor alice began to cry again  for she felt very lonely and lowspirited \\nin a little while  however  she again heard a little pattering of footsteps in the distance  and she looked up eagerly  half hoping that the mouse had changed his mind  and was coming back to finish his story \\nthe rabbit sends in a little bill it was the white rabbit  trotting slowly back again  and looking anxiously about as it went  as if it had lost something  and she heard it muttering to itself  the duchess \\nthe duchess \\noh my dear paws \\noh my fur and whiskers \\nshe ll get me executed  as sure as ferrets are ferrets \\nwhere can i have dropped them  i wonder  \\nalice guessed in a moment that it was looking for the fan and the pair of white kid gloves  and she very goodnaturedly began hunting about for them  but they were nowhere to be seen  everything seemed to have changed since her swim in the pool  and the great hall  with the glass table and the little door  had vanished completely \\nvery soon the rabbit noticed alice  as she went hunting about  and called out to her in an angry tone   why  mary ann  what are you doing out here \\nrun home this moment  and fetch me a pair of gloves and a fan \\nquick  now  \\nand alice was so much frightened that she ran off at once in the direction it pointed to  without trying to explain the mistake it had made \\n he took me for his housemaid   she said to herself as she ran \\n how surprised he ll be when he finds out who i am \\nbut i d better take him his fan and gloves  that is  if i can find them  \\nas she said this  she came upon a neat little house  on the door of which was a bright brass plate with the name  w rabbit  engraved upon it \\nshe went in without knocking  and hurried upstairs  in great fear lest she should meet the real mary ann  and be turned out of the house before she had found the fan and gloves \\n how queer it seems   alice said to herself   to be going messages for a rabbit \\ni suppose dinah ll be sending me on messages next  \\nand she began fancying the sort of thing that would happen    miss alice \\ncome here directly  and get ready for your walk  \\n coming in a minute  nurse \\nbut i ve got to see that the mouse does nt get out  \\nonly i do nt think   alice went on   that they d let dinah stop in the house if it began ordering people about like that  \\nby this time she had found her way into a tidy little room with a table in the window  and on it lrb as she had hoped rrb a fan and two or three pairs of tiny white kid gloves  she took up the fan and a pair of the gloves  and was just going to leave the room  when her eye fell upon a little bottle that stood near the lookingglass \\nthere was no label this time with the words  drink me   but nevertheless she uncorked it and put it to her lips  \\ni know something interesting is sure to happen   she said to herself   whenever i eat or drink anything  so i ll just see what this bottle does \\ni do hope it ll make me grow large again  for really i m quite tired of being such a tiny little thing  \\nit did so indeed  and much sooner than she had expected  before she had drunk half the bottle  she found her head pressing against the ceiling  and had to stoop to save her neck from being broken \\nshe hastily put down the bottle  saying to herself  that s quite enough  i hope i sha nt grow any more  as it is  i ca nt get out at the door  i do wish i had nt drunk quite so much  \\nalas \\nit was too late to wish that \\nshe went on growing  and growing  and very soon had to kneel down on the floor  in another minute there was not even room for this  and she tried the effect of lying down with one elbow against the door  and the other arm curled round her head \\nstill she went on growing  and  as a last resource  she put one arm out of the window  and one foot up the chimney  and said to herself  now i can do no more  whatever happens \\nwhat will become of me  \\nluckily for alice  the little magic bottle had now had its full effect  and she grew no larger  still it was very uncomfortable  and  as there seemed to be no sort of chance of her ever getting out of the room again  no wonder she felt unhappy \\n it was much pleasanter at home   thought poor alice   when one was nt always growing larger and smaller  and being ordered about by mice and rabbits \\ni almost wish i had nt gone down that rabbithole  and yet  and yet  it s rather curious  you know  this sort of life \\ni do wonder what can have happened to me \\nwhen i used to read fairytales  i fancied that kind of thing never happened  and now here i am in the middle of one \\nthere ought to be a book written about me  that there ought \\nand when i grow up  i ll write one  but i m grown up now   she added in a sorrowful tone   at least there s no room to grow up any more here  \\n but then   thought alice   shall i never get any older than i am now \\nthat ll be a comfort  one way  never to be an old woman  but then  always to have lessons to learn \\noh  i should nt like that  \\n oh  you foolish alice  \\nshe answered herself \\n how can you learn lessons in here \\nwhy  there s hardly room for you  and no room at all for any lessonbooks  \\nand so she went on  taking first one side and then the other  and making quite a conversation of it altogether  but after a few minutes she heard a voice outside  and stopped to listen \\n mary ann \\nmary ann  \\nsaid the voice \\n fetch me my gloves this moment  \\nthen came a little pattering of feet on the stairs \\nalice knew it was the rabbit coming to look for her  and she trembled till she shook the house  quite forgetting that she was now about a thousand times as large as the rabbit  and had no reason to be afraid of it \\npresently the rabbit came up to the door  and tried to open it  but  as the door opened inwards  and alice s elbow was pressed hard against it  that attempt proved a failure \\nalice heard it say to itself  then i ll go round and get in at the window  \\n that you wo nt  thought alice  and  after waiting till she fancied she heard the rabbit just under the window  she suddenly spread out her hand  and made a snatch in the air \\nshe did not get hold of anything  but she heard a little shriek and a fall  and a crash of broken glass  from which she concluded that it was just possible it had fallen into a cucumberframe  or something of the sort \\nnext came an angry voice  the rabbit s   pat \\npat \\nwhere are you  \\nand then a voice she had never heard before   sure then i m here \\ndigging for apples  yer honour  \\n digging for apples  indeed  \\nsaid the rabbit angrily \\n here \\ncome and help me out of this  \\nlrb sounds of more broken glass  rrb\\n now tell me  pat  what s that in the window  \\n sure  it s an arm  yer honour  \\nlrb he pronounced it  arrum   rrb\\n an arm  you goose \\nwho ever saw one that size \\nwhy  it fills the whole window  \\n sure  it does  yer honour  but it s an arm for all that  \\n well  it s got no business there  at any rate  go and take it away  \\nthere was a long silence after this  and alice could only hear whispers now and then  such as   sure  i do nt like it  yer honour  at all  at all  \\n do as i tell you  you coward  \\nand at last she spread out her hand again  and made another snatch in the air \\nthis time there were two little shrieks  and more sounds of broken glass \\n what a number of cucumberframes there must be  \\nthought alice  \\ni wonder what they ll do next \\nas for pulling me out of the window  i only wish they could \\ni m sure i do nt want to stay in here any longer  \\nshe waited for some time without hearing anything more  at last came a rumbling of little cartwheels  and the sound of a good many voices all talking together  she made out the words   where s the other ladder \\n why  i had nt to bring but one  bill s got the other  bill \\nfetch it here  lad \\n here  put em up at this corner  no  tie em together first  they do nt reach half high enough yet  oh \\nthey ll do well enough  do nt be particular  here  bill \\ncatch hold of this rope  will the roof bear \\n mind that loose slate  oh  it s coming down \\nheads below  \\nlrb a loud crash rrb   now  who did that \\n it was bill  i fancy  who s to go down the chimney \\n nay  i sha nt \\nyou do it \\n that i wo nt  then \\n bill s to go down  here  bill \\nthe master says you re to go down the chimney  \\n oh \\nso bill s got to come down the chimney  has he  \\nsaid alice to herself \\n shy  they seem to put everything upon bill \\ni would nt be in bill s place for a good deal  this fireplace is narrow  to be sure  but i think i can kick a little  \\nshe drew her foot as far down the chimney as she could  and waited till she heard a little animal lrb she could nt guess of what sort it was rrb scratching and scrambling about in the chimney close above her  then  saying to herself  this is bill   she gave one sharp kick  and waited to see what would happen next \\nthe first thing she heard was a general chorus of  there goes bill  \\nthen the rabbit s voice along   catch him  you by the hedge  \\nthen silence  and then another confusion of voices   hold up his head  brandy now  do nt choke him  how was it  old fellow \\nwhat happened to you \\ntell us all about it  \\nlast came a little feeble  squeaking voice  lrb  that s bill   thought alice  rrb  well  i hardly know  no more  thank ye  i m better now  but i m a deal too flustered to tell you  all i know is  something comes at me like a jackinthebox  and up i goes like a skyrocket  \\n so you did  old fellow  \\nsaid the others \\n we must burn the house down  \\nsaid the rabbit s voice  and alice called out as loud as she could   if you do \\ni ll set dinah at you  \\nthere was a dead silence instantly  and alice thought to herself   i wonder what they will do next \\nif they had any sense  they d take the roof off  \\nafter a minute or two  they began moving about again  and alice heard the rabbit say   a barrowful will do  to begin with   \\na barrowful of what  \\nthought alice  but she had not long to doubt  for the next moment a shower of little pebbles came rattling in at the window  and some of them hit her in the face \\n i ll put a stop to this   she said to herself  and shouted out   you d better not do that again  \\nwhich produced another dead silence \\nalice noticed with some surprise that the pebbles were all turning into little cakes as they lay on the floor  and a bright idea came into her head \\n if i eat one of these cakes   she thought   it s sure to make some change in my size  and as it ca nt possibly make me larger  it must make me smaller  i suppose  \\nso she swallowed one of the cakes  and was delighted to find that she began shrinking directly \\nas soon as she was small enough to get through the door  she ran out of the house  and found quite a crowd of little animals and birds waiting outside \\nthe poor little lizard  bill  was in the middle  being held up by two guineapigs  who were giving it something out of a bottle \\nthey all made a rush at alice the moment she appeared  but she ran off as hard as she could  and soon found herself safe in a thick wood \\n the first thing i ve got to do   said alice to herself  as she wandered about in the wood   is to grow to my right size again  and the second thing is to find my way into that lovely garden \\ni think that will be the best plan  \\nit sounded an excellent plan  no doubt  and very neatly and simply arranged  the only difficulty was  that she had not the smallest idea how to set about it  and while she was peering about anxiously among the trees  a little sharp bark just over her head made her look up in a great hurry \\nan enormous puppy was looking down at her with large round eyes  and feebly stretching out one paw  trying to touch her \\n poor little thing  \\nsaid alice  in a coaxing tone  and she tried hard to whistle to it  but she was terribly frightened all the time at the thought that it might be hungry  in which case it would be very likely to eat her up in spite of all her coaxing \\nhardly knowing what she did  she picked up a little bit of stick  and held it out to the puppy  whereupon the puppy jumped into the air off all its feet at once  with a yelp of delight  and rushed at the stick  and made believe to worry it  then alice dodged behind a great thistle  to keep herself from being run over  and the moment she appeared on the other side  the puppy made another rush at the stick  and tumbled head over heels in its hurry to get hold of it  then alice  thinking it was very like having a game of play with a carthorse  and expecting every moment to be trampled under its feet  ran round the thistle again  then the puppy began a series of short charges at the stick  running a very little way forwards each time and a long way back  and barking hoarsely all the while  till at last it sat down a good way off  panting  with its tongue hanging out of its mouth  and its great eyes half shut \\nthis seemed to alice a good opportunity for making her escape  so she set off at once  and ran till she was quite tired and out of breath  and till the puppy s bark sounded quite faint in the distance \\n and yet what a dear little puppy it was  \\nsaid alice  as she leant against a buttercup to rest herself  and fanned herself with one of the leaves   i should have liked teaching it tricks very much  if  if i d only been the right size to do it \\noh dear \\ni d nearly forgotten that i ve got to grow up again \\nlet me see  how is it to be managed \\ni suppose i ought to eat or drink something or other  but the great question is  what  \\nthe great question certainly was  what \\nalice looked all round her at the flowers and the blades of grass  but she did not see anything that looked like the right thing to eat or drink under the circumstances \\nthere was a large mushroom growing near her  about the same height as herself  and when she had looked under it  and on both sides of it  and behind it  it occurred to her that she might as well look and see what was on the top of it \\nshe stretched herself up on tiptoe  and peeped over the edge of the mushroom  and her eyes immediately met those of a large caterpillar  that was sitting on the top with its arms folded  quietly smoking a long hookah  and taking not the smallest notice of her or of anything else  advice from a caterpillar the caterpillar and alice looked at each other for some time in silence  at last the caterpillar took the hookah out of its mouth  and addressed her in a languid  sleepy voice \\n who are you  \\nsaid the caterpillar \\nthis was not an encouraging opening for a conversation \\nalice replied  rather shyly   i  i hardly know  sir  just at present  at least i know who i was when i got up this morning  but i think i must have been changed several times since then  \\n what do you mean by that  \\nsaid the caterpillar sternly \\n explain yourself   \\ni ca nt explain myself  i m afraid  sir  said alice   because i m not myself  you see   \\ni do nt see   said the caterpillar \\n i m afraid i ca nt put it more clearly   alice replied very politely   for i ca nt understand it myself to begin with  and being so many different sizes in a day is very confusing  \\n it is nt   said the caterpillar \\n well  perhaps you have nt found it so yet   said alice   but when you have to turn into a chrysalis  you will some day  you know  and then after that into a butterfly  i should think you ll feel it a little queer  wo nt you  \\n not a bit   said the caterpillar \\n well  perhaps your feelings may be different   said alice   all i know is  it would feel very queer to me  \\n you  \\nsaid the caterpillar contemptuously \\n who are you  \\nwhich brought them back again to the beginning of the conversation \\nalice felt a little irritated at the caterpillar s making such very short remarks  and she drew herself up and said  very gravely   i think  you ought to tell me who you are  first  \\n why  \\nsaid the caterpillar \\nhere was another puzzling question  and as alice could not think of any good reason  and as the caterpillar seemed to be in a very unpleasant state of mind  she turned away \\n come back  \\nthe caterpillar called after her \\n i ve something important to say  \\nthis sounded promising  certainly  alice turned and came back again \\n keep your temper   said the caterpillar \\n is that all  \\nsaid alice  swallowing down her anger as well as she could \\n no   said the caterpillar \\nalice thought she might as well wait  as she had nothing else to do  and perhaps after all it might tell her something worth hearing \\nfor some minutes it puffed away without speaking  but at last it unfolded its arms  took the hookah out of its mouth again  and said   so you think you re changed  do you  \\n i m afraid i am  sir   said alice   i ca nt remember things as i used  and i do nt keep the same size for ten minutes together  \\n ca nt remember what things  \\nsaid the caterpillar \\n well  i ve tried to say  how doth the little busy bee   but it all came different  \\nalice replied in a very melancholy voice \\n repeat   you are old  father william    said the caterpillar \\nalice folded her hands  and began    you are old  father william   the young man said   and your hair has become very white  and yet you incessantly stand on your head  do you think  at your age  it is right  \\n in my youth   father william replied to his son   i feared it might injure the brain  but  now that i m perfectly sure i have none  why  i do it again and again  \\n you are old   said the youth   as i mentioned before  and have grown most uncommonly fat  yet you turned a backsomersault in at the door  pray  what is the reason of that  \\n in my youth   said the sage  as he shook his grey locks   i kept all my limbs very supple by the use of this ointment  one shilling the box  allow me to sell you a couple  \\n you are old   said the youth   and your jaws are too weak for anything tougher than suet  yet you finished the goose  with the bones and the beak  pray how did you manage to do it  \\n in my youth   said his father   i took to the law  and argued each case with my wife  and the muscular strength  which it gave to my jaw  has lasted the rest of my life  \\n you are old   said the youth   one would hardly suppose that your eye was as steady as ever  yet you balanced an eel on the end of your nose  what made you so awfully clever   \\ni have answered three questions  and that is enough   said his father   do nt give yourself airs \\ndo you think i can listen all day to such stuff \\nbe off  or i ll kick you down stairs  \\n that is not said right   said the caterpillar \\n not quite right  i m afraid   said alice  timidly   some of the words have got altered  \\n it is wrong from beginning to end   said the caterpillar decidedly  and there was silence for some minutes \\nthe caterpillar was the first to speak \\n what size do you want to be  \\nit asked \\n oh  i m not particular as to size   alice hastily replied   only one does nt like changing so often  you know   \\ni do nt know   said the caterpillar \\nalice said nothing  she had never been so much contradicted in her life before  and she felt that she was losing her temper \\n are you content now  \\nsaid the caterpillar \\n well  i should like to be a little larger  sir  if you would nt mind   said alice   three inches is such a wretched height to be  \\n it is a very good height indeed  \\nsaid the caterpillar angrily  rearing itself upright as it spoke lrb it was exactly three inches high rrb \\n but i m not used to it  \\npleaded poor alice in a piteous tone \\nand she thought of herself   i wish the creatures would nt be so easily offended  \\n you ll get used to it in time   said the caterpillar  and it put the hookah into its mouth and began smoking again \\nthis time alice waited patiently until it chose to speak again \\nin a minute or two the caterpillar took the hookah out of its mouth and yawned once or twice  and shook itself \\nthen it got down off the mushroom  and crawled away in the grass  merely remarking as it went   one side will make you grow taller  and the other side will make you grow shorter  \\n one side of what \\nthe other side of what  \\nthought alice to herself \\n of the mushroom   said the caterpillar  just as if she had asked it aloud  and in another moment it was out of sight \\nalice remained looking thoughtfully at the mushroom for a minute  trying to make out which were the two sides of it  and as it was perfectly round  she found this a very difficult question \\nhowever  at last she stretched her arms round it as far as they would go  and broke off a bit of the edge with each hand \\n and now which is which  \\nshe said to herself  and nibbled a little of the righthand bit to try the effect  the next moment she felt a violent blow underneath her chin  it had struck her foot \\nshe was a good deal frightened by this very sudden change  but she felt that there was no time to be lost  as she was shrinking rapidly  so she set to work at once to eat some of the other bit \\nher chin was pressed so closely against her foot  that there was hardly room to open her mouth  but she did it at last  and managed to swallow a morsel of the lefthand bit \\n                     come  my head s free at last  \\nsaid alice in a tone of delight  which changed into alarm in another moment  when she found that her shoulders were nowhere to be found  all she could see  when she looked down  was an immense length of neck  which seemed to rise like a stalk out of a sea of green leaves that lay far below her \\n what can all that green stuff be  \\nsaid alice \\n and where have my shoulders got to \\nand oh  my poor hands  how is it i ca nt see you  \\nshe was moving them about as she spoke  but no result seemed to follow  except a little shaking among the distant green leaves \\nas there seemed to be no chance of getting her hands up to her head  she tried to get her head down to them  and was delighted to find that her neck would bend about easily in any direction  like a serpent \\nshe had just succeeded in curving it down into a graceful zigzag  and was going to dive in among the leaves  which she found to be nothing but the tops of the trees under which she had been wandering  when a sharp hiss made her draw back in a hurry  a large pigeon had flown into her face  and was beating her violently with its wings \\n serpent  \\nscreamed the pigeon \\n i m not a serpent  \\nsaid alice indignantly \\n let me alone  \\n serpent  i say again  \\nrepeated the pigeon  but in a more subdued tone  and added with a kind of sob   i ve tried every way  and nothing seems to suit them   \\ni have nt the least idea what you re talking about   said alice \\n i ve tried the roots of trees  and i ve tried banks  and i ve tried hedges   the pigeon went on  without attending to her   but those serpents \\nthere s no pleasing them  \\nalice was more and more puzzled  but she thought there was no use in saying anything more till the pigeon had finished \\n as if it was nt trouble enough hatching the eggs   said the pigeon   but i must be on the lookout for serpents night and day \\nwhy  i have nt had a wink of sleep these three weeks  \\n i m very sorry you ve been annoyed   said alice  who was beginning to see its meaning \\n and just as i d taken the highest tree in the wood   continued the pigeon  raising its voice to a shriek   and just as i was thinking i should be free of them at last  they must needs come wriggling down from the sky \\nugh  serpent  \\n but i m not a serpent  i tell you  \\nsaid alice \\n i m a  i m a    well \\nwhat are you  \\nsaid the pigeon  \\ni can see you re trying to invent something  \\n i  i m a little girl   said alice  rather doubtfully  as she remembered the number of changes she had gone through that day  \\na likely story indeed  \\nsaid the pigeon in a tone of the deepest contempt \\n i ve seen a good many little girls in my time  but never one with such a neck as that \\nno  no \\nyou re a serpent  and there s no use denying it \\ni suppose you ll be telling me next that you never tasted an egg   \\ni have tasted eggs  certainly   said alice  who was a very truthful child   but little girls eat eggs quite as much as serpents do  you know   \\ni do nt believe it   said the pigeon   but if they do  why then they re a kind of serpent  that s all i can say  \\nthis was such a new idea to alice  that she was quite silent for a minute or two  which gave the pigeon the opportunity of adding   you re looking for eggs  i know that well enough  and what does it matter to me whether you re a little girl or a serpent  \\n it matters a good deal to me   said alice hastily   but i m not looking for eggs  as it happens  and if i was  i should nt want yours  i do nt like them raw  \\n well  be off  then  \\nsaid the pigeon in a sulky tone  as it settled down again into its nest \\nalice crouched down among the trees as well as she could  for her neck kept getting entangled among the branches  and every now and then she had to stop and untwist it \\nafter a while she remembered that she still held the pieces of mushroom in her hands  and she set to work very carefully  nibbling first at one and then at the other  and growing sometimes taller and sometimes shorter  until she had succeeded in bringing herself down to her usual height \\nit was so long since she had been anything near the right size  that it felt quite strange at first  but she got used to it in a few minutes  and began talking to herself  as usual \\n come  there s half my plan done now \\nhow puzzling all these changes are \\ni m never sure what i m going to be  from one minute to another \\nhowever  i ve got back to my right size  the next thing is  to get into that beautiful garden  how is that to be done  i wonder  \\nas she said this  she came suddenly upon an open place  with a little house in it about four feet high \\n whoever lives there   thought alice   it ll never do to come upon them this size  why  i should frighten them out of their wits  \\nso she began nibbling at the righthand bit again  and did not venture to go near the house till she had brought herself down to nine inches high \\npig and pepper for a minute or two she stood looking at the house  and wondering what to do next  when suddenly a footman in livery came running out of the wood  lrb she considered him to be a footman because he was in livery  otherwise  judging by his face only  she would have called him a fish rrb  and rapped loudly at the door with his knuckles \\nit was opened by another footman in livery  with a round face  and large eyes like a frog  and both footmen  alice noticed  had powdered hair that curled all over their heads \\nshe felt very curious to know what it was all about  and crept a little way out of the wood to listen \\nthe fishfootman began by producing from under his arm a great letter  nearly as large as himself  and this he handed over to the other  saying  in a solemn tone   for the duchess \\nan invitation from the queen to play croquet  \\nthe frogfootman repeated  in the same solemn tone  only changing the order of the words a little   from the queen \\nan invitation for the duchess to play croquet  \\nthen they both bowed low  and their curls got entangled together \\nalice laughed so much at this  that she had to run back into the wood for fear of their hearing her  and when she next peeped out the fishfootman was gone  and the other was sitting on the ground near the door  staring stupidly up into the sky \\nalice went timidly up to the door  and knocked \\n there s no sort of use in knocking   said the footman   and that for two reasons \\nfirst  because i m on the same side of the door as you are  secondly  because they re making such a noise inside  no one could possibly hear you  \\nand certainly there was a most extraordinary noise going on within  a constant howling and sneezing  and every now and then a great crash  as if a dish or kettle had been broken to pieces \\n please  then   said alice   how am i to get in  \\n there might be some sense in your knocking   the footman went on without attending to her   if we had the door between us \\nfor instance  if you were inside  you might knock  and i could let you out  you know  \\nhe was looking up into the sky all the time he was speaking  and this alice thought decidedly uncivil \\n but perhaps he ca nt help it   she said to herself   his eyes are so very nearly at the top of his head \\nbut at any rate he might answer questions \\n how am i to get in  \\nshe repeated  aloud  \\ni shall sit here   the footman remarked  till tomorrow   at this moment the door of the house opened  and a large plate came skimming out  straight at the footman s head  it just grazed his nose  and broke to pieces against one of the trees behind him  \\n or next day  maybe   the footman continued in the same tone  exactly as if nothing had happened \\n how am i to get in  \\nasked alice again  in a louder tone \\n are you to get in at all  \\nsaid the footman \\n that s the first question  you know  \\nit was  no doubt  only alice did not like to be told so \\n it s really dreadful   she muttered to herself   the way all the creatures argue \\nit s enough to drive one crazy  \\nthe footman seemed to think this a good opportunity for repeating his remark  with variations  \\ni shall sit here   he said   on and off  for days and days  \\n but what am i to do  \\nsaid alice \\n anything you like   said the footman  and began whistling \\n oh  there s no use in talking to him   said alice desperately   he s perfectly idiotic  \\nand she opened the door and went in \\nthe door led right into a large kitchen  which was full of smoke from one end to the other  the duchess was sitting on a threelegged stool in the middle  nursing a baby  the cook was leaning over the fire  stirring a large cauldron which seemed to be full of soup \\n there s certainly too much pepper in that soup  \\nalice said to herself  as well as she could for sneezing \\nthere was certainly too much of it in the air \\neven the duchess sneezed occasionally  and as for the baby  it was sneezing and howling alternately without a moment s pause \\nthe only things in the kitchen that did not sneeze  were the cook  and a large cat which was sitting on the hearth and grinning from ear to ear \\n please would you tell me   said alice  a little timidly  for she was not quite sure whether it was good manners for her to speak first   why your cat grins like that  \\n it s a cheshire cat   said the duchess   and that s why \\npig  \\nshe said the last word with such sudden violence that alice quite jumped  but she saw in another moment that it was addressed to the baby  and not to her  so she took courage  and went on again    i did nt know that cheshire cats always grinned  in fact  i did nt know that cats could grin  \\n they all can   said the duchess   and most of em do   \\ni do nt know of any that do   alice said very politely  feeling quite pleased to have got into a conversation \\n you do nt know much   said the duchess   and that s a fact  \\nalice did not at all like the tone of this remark  and thought it would be as well to introduce some other subject of conversation \\nwhile she was trying to fix on one  the cook took the cauldron of soup off the fire  and at once set to work throwing everything within her reach at the duchess and the baby  the fireirons came first  then followed a shower of saucepans  plates  and dishes \\nthe duchess took no notice of them even when they hit her  and the baby was howling so much already  that it was quite impossible to say whether the blows hurt it or not \\n oh  please mind what you re doing  \\ncried alice  jumping up and down in an agony of terror \\n oh  there goes his precious nose   as an unusually large saucepan flew close by it  and very nearly carried it off \\n if everybody minded their own business   the duchess said in a hoarse growl   the world would go round a deal faster than it does  \\n which would not be an advantage   said alice  who felt very glad to get an opportunity of showing off a little of her knowledge \\n just think of what work it would make with the day and night \\nyou see the earth takes twentyfour hours to turn round on its axis    talking of axes   said the duchess   chop off her head  \\nalice glanced rather anxiously at the cook  to see if she meant to take the hint  but the cook was busily stirring the soup  and seemed not to be listening  so she went on again   twentyfour hours  i think  or is it twelve \\ni    oh  do nt bother me   said the duchess   i never could abide figures  \\nand with that she began nursing her child again  singing a sort of lullaby to it as she did so  and giving it a violent shake at the end of every line   speak roughly to your little boy  and beat him when he sneezes  he only does it to annoy  because he knows it teases  \\nchorus \\nlrb in which the cook and the baby joined rrb    wow \\nwow \\nwow  \\nwhile the duchess sang the second verse of the song  she kept tossing the baby violently up and down  and the poor little thing howled so  that alice could hardly hear the words    i speak severely to my boy  i beat him when he sneezes  for he can thoroughly enjoy the pepper when he pleases  \\nchorus \\n wow \\nwow \\nwow  \\n here \\nyou may nurse it a bit  if you like  \\nthe duchess said to alice  flinging the baby at her as she spoke  \\ni must go and get ready to play croquet with the queen   and she hurried out of the room \\nthe cook threw a fryingpan after her as she went out  but it just missed her \\nalice caught the baby with some difficulty  as it was a queershaped little creature  and held out its arms and legs in all directions   just like a starfish   thought alice \\nthe poor little thing was snorting like a steamengine when she caught it  and kept doubling itself up and straightening itself out again  so that altogether  for the first minute or two  it was as much as she could do to hold it \\nas soon as she had made out the proper way of nursing it  lrb which was to twist it up into a sort of knot  and then keep tight hold of its right ear and left foot  so as to prevent its undoing itself  rrb she carried it out into the open air \\n if i do nt take this child away with me   thought alice   they re sure to kill it in a day or two  would nt it be murder to leave it behind  \\nshe said the last words out loud  and the little thing grunted in reply lrb it had left off sneezing by this time rrb \\n do nt grunt   said alice   that s not at all a proper way of expressing yourself  \\nthe baby grunted again  and alice looked very anxiously into its face to see what was the matter with it \\nthere could be no doubt that it had a very turnup nose  much more like a snout than a real nose  also its eyes were getting extremely small for a baby  altogether alice did not like the look of the thing at all \\n but perhaps it was only sobbing   she thought  and looked into its eyes again  to see if there were any tears \\nno  there were no tears \\n if you re going to turn into a pig  my dear   said alice  seriously   i ll have nothing more to do with you \\nmind now  \\nthe poor little thing sobbed again lrb or grunted  it was impossible to say which rrb  and they went on for some while in silence \\nalice was just beginning to think to herself   now  what am i to do with this creature when i get it home  \\nwhen it grunted again  so violently  that she looked down into its face in some alarm \\nthis time there could be no mistake about it  it was neither more nor less than a pig  and she felt that it would be quite absurd for her to carry it further \\nso she set the little creature down  and felt quite relieved to see it trot away quietly into the wood \\n if it had grown up   she said to herself   it would have made a dreadfully ugly child  but it makes rather a handsome pig  i think  \\nand she began thinking over other children she knew  who might do very well as pigs  and was just saying to herself   if one only knew the right way to change them   when she was a little startled by seeing the cheshire cat sitting on a bough of a tree a few yards off \\nthe cat only grinned when it saw alice \\nit looked goodnatured  she thought  still it had very long claws and a great many teeth  so she felt that it ought to be treated with respect \\n cheshire puss   she began  rather timidly  as she did not at all know whether it would like the name  however  it only grinned a little wider \\n come  it s pleased so far   thought alice  and she went on \\n would you tell me  please  which way i ought to go from here  \\n that depends a good deal on where you want to get to   said the cat  \\ni do nt much care where   said alice \\n then it does nt matter which way you go   said the cat  \\n so long as i get somewhere   alice added as an explanation \\n oh  you re sure to do that   said the cat   if you only walk long enough  \\nalice felt that this could not be denied  so she tried another question \\n what sort of people live about here  \\n in that direction   the cat said  waving its right paw round   lives a hatter  and in that direction   waving the other paw   lives a march hare \\nvisit either you like  they re both mad  \\n but i do nt want to go among mad people   alice remarked \\n oh  you ca nt help that   said the cat   we re all mad here \\ni m mad \\nyou re mad  \\n how do you know i m mad  \\nsaid alice \\n you must be   said the cat   or you would nt have come here  \\nalice did nt think that proved it at all  however  she went on  and how do you know that you re mad  \\n to begin with   said the cat   a dog s not mad \\nyou grant that   \\ni suppose so   said alice \\n well  then   the cat went on   you see  a dog growls when it s angry  and wags its tail when it s pleased \\nnow i growl when i m pleased  and wag my tail when i m angry \\ntherefore i m mad   \\ni call it purring  not growling   said alice \\n call it what you like   said the cat \\n do you play croquet with the queen today   \\ni should like it very much   said alice   but i have nt been invited yet  \\n you ll see me there   said the cat  and vanished \\nalice was not much surprised at this  she was getting so used to queer things happening \\nwhile she was looking at the place where it had been  it suddenly appeared again \\n bythebye  what became of the baby  \\nsaid the cat \\n i d nearly forgotten to ask  \\n it turned into a pig   alice quietly said  just as if it had come back in a natural way  \\ni thought it would   said the cat  and vanished again \\nalice waited a little  half expecting to see it again  but it did not appear  and after a minute or two she walked on in the direction in which the march hare was said to live \\n i ve seen hatters before   she said to herself   the march hare will be much the most interesting  and perhaps as this is may it wo nt be raving mad  at least not so mad as it was in march  \\nas she said this  she looked up  and there was the cat again  sitting on a branch of a tree \\n did you say pig  or fig  \\nsaid the cat  \\ni said pig   replied alice   and i wish you would nt keep appearing and vanishing so suddenly  you make one quite giddy  \\n all right   said the cat  and this time it vanished quite slowly  beginning with the end of the tail  and ending with the grin  which remained some time after the rest of it had gone \\n well \\ni ve often seen a cat without a grin   thought alice   but a grin without a cat \\nit s the most curious thing i ever saw in my life  \\nshe had not gone much farther before she came in sight of the house of the march hare  she thought it must be the right house  because the chimneys were shaped like ears and the roof was thatched with fur \\na mad teaparty there was a table set out under a tree in front of the house  and the march hare and the hatter were having tea at it  a dormouse was sitting between them  fast asleep  and the other two were using it as a cushion  resting their elbows on it  and talking over its head \\n very uncomfortable for the dormouse   thought alice   only  as it s asleep  i suppose it does nt mind  \\nthe table was a large one  but the three were all crowded together at one corner of it   no room \\nno room  \\nthey cried out when they saw alice coming \\n there s plenty of room  \\nsaid alice indignantly  and she sat down in a large armchair at one end of the table \\n have some wine   the march hare said in an encouraging tone \\nalice looked all round the table  but there was nothing on it but tea  \\ni do nt see any wine   she remarked \\n there is nt any   said the march hare \\n then it was nt very civil of you to offer it   said alice angrily \\n it was nt very civil of you to sit down without being invited   said the march hare  \\ni did nt know it was your table   said alice   it s laid for a great many more than three  \\n your hair wants cutting   said the hatter \\nhe had been looking at alice for some time with great curiosity  and this was his first speech \\n you should learn not to make personal remarks   alice said with some severity   it s very rude  \\nthe hatter opened his eyes very wide on hearing this  but all he said was   why is a raven like a writingdesk  \\n come  we shall have some fun now  \\nthought alice \\n i m glad they ve begun asking riddles \\n i believe i can guess that   she added aloud \\n do you mean that you think you can find out the answer to it  \\nsaid the march hare \\n exactly so   said alice \\n then you should say what you mean   the march hare went on  \\ni do   alice hastily replied   at least  at least i mean what i say  that s the same thing  you know  \\n not the same thing a bit  \\nsaid the hatter \\n you might just as well say that  i see what i eat  is the same thing as  i eat what i see   \\n you might just as well say   added the march hare   that  i like what i get  is the same thing as  i get what i like   \\n you might just as well say   added the dormouse  who seemed to be talking in his sleep   that  i breathe when i sleep  is the same thing as  i sleep when i breathe   \\n it is the same thing with you   said the hatter  and here the conversation dropped  and the party sat silent for a minute  while alice thought over all she could remember about ravens and writingdesks  which was nt much \\nthe hatter was the first to break the silence \\n what day of the month is it  \\nhe said  turning to alice  he had taken his watch out of his pocket  and was looking at it uneasily  shaking it every now and then  and holding it to his ear \\nalice considered a little  and then said  the fourth  \\n two days wrong  \\nsighed the hatter  \\ni told you butter would nt suit the works  \\nhe added looking angrily at the march hare \\n it was the best butter   the march hare meekly replied \\n yes  but some crumbs must have got in as well   the hatter grumbled   you should nt have put it in with the breadknife  \\nthe march hare took the watch and looked at it gloomily  then he dipped it into his cup of tea  and looked at it again  but he could think of nothing better to say than his first remark   it was the best butter  you know  \\nalice had been looking over his shoulder with some curiosity \\n what a funny watch  \\nshe remarked \\n it tells the day of the month  and does nt tell what oclock it is  \\n why should it  \\nmuttered the hatter \\n does your watch tell you what year it is  \\n of course not   alice replied very readily   but that s because it stays the same year for such a long time together  \\n which is just the case with mine   said the hatter \\nalice felt dreadfully puzzled \\nthe hatter s remark seemed to have no sort of meaning in it  and yet it was certainly english  \\ni do nt quite understand you   she said  as politely as she could \\n the dormouse is asleep again   said the hatter  and he poured a little hot tea upon its nose \\nthe dormouse shook its head impatiently  and said  without opening its eyes   of course  of course  just what i was going to remark myself  \\n have you guessed the riddle yet  \\nthe hatter said  turning to alice again \\n no  i give it up   alice replied   what s the answer   \\ni have nt the slightest idea   said the hatter \\n nor i   said the march hare \\nalice sighed wearily  \\ni think you might do something better with the time   she said   than waste it in asking riddles that have no answers  \\n if you knew time as well as i do   said the hatter   you would nt talk about wasting it \\nit s him   \\ni do nt know what you mean   said alice \\n of course you do nt  \\nthe hatter said  tossing his head contemptuously  \\ni dare say you never even spoke to time  \\n perhaps not   alice cautiously replied   but i know i have to beat time when i learn music  \\n ah \\nthat accounts for it   said the hatter \\n he wo nt stand beating \\nnow  if you only kept on good terms with him  he d do almost anything you liked with the clock \\nfor instance  suppose it were nine oclock in the morning  just time to begin lessons  you d only have to whisper a hint to time  and round goes the clock in a twinkling \\nhalfpast one  time for dinner  \\nlrb  i only wish it was   the march hare said to itself in a whisper  rrb\\n that would be grand  certainly   said alice thoughtfully   but then  i should nt be hungry for it  you know  \\n not at first  perhaps   said the hatter   but you could keep it to halfpast one as long as you liked  \\n is that the way you manage  \\nalice asked \\nthe hatter shook his head mournfully \\n not i  \\nhe replied \\n we quarrelled last march  just before he went mad  you know   lrb pointing with his tea spoon at the march hare  rrb   it was at the great concert given by the queen of hearts  and i had to sing  twinkle  twinkle  little bat \\nhow i wonder what you re at  \\nyou know the song  perhaps  \\n i ve heard something like it   said alice \\n it goes on  you know   the hatter continued   in this way    up above the world you fly  like a teatray in the sky \\ntwinkle  twinkle    here the dormouse shook itself  and began singing in its sleep  twinkle  twinkle  twinkle  twinkle   and went on so long that they had to pinch it to make it stop \\n well  i d hardly finished the first verse   said the hatter   when the queen jumped up and bawled out   he s murdering the time \\noff with his head   \\n how dreadfully savage  \\nexclaimed alice \\n and ever since that   the hatter went on in a mournful tone   he wo nt do a thing i ask \\nit s always six oclock now  \\na bright idea came into alice s head \\n is that the reason so many teathings are put out here  \\nshe asked \\n yes  that s it   said the hatter with a sigh   it s always teatime  and we ve no time to wash the things between whiles  \\n then you keep moving round  i suppose  \\nsaid alice \\n exactly so   said the hatter   as the things get used up  \\n but what happens when you come to the beginning again  \\nalice ventured to ask \\n suppose we change the subject   the march hare interrupted  yawning \\n i m getting tired of this \\ni vote the young lady tells us a story  \\n i m afraid i do nt know one   said alice  rather alarmed at the proposal \\n then the dormouse shall  \\nthey both cried \\n wake up  dormouse  \\nand they pinched it on both sides at once \\nthe dormouse slowly opened his eyes  \\ni was nt asleep   he said in a hoarse  feeble voice   i heard every word you fellows were saying  \\n tell us a story  \\nsaid the march hare \\n yes  please do  \\npleaded alice \\n and be quick about it   added the hatter   or you ll be asleep again before it s done  \\n once upon a time there were three little sisters   the dormouse began in a great hurry   and their names were elsie  lacie  and tillie  and they lived at the bottom of a well    what did they live on  \\nsaid alice  who always took a great interest in questions of eating and drinking \\n they lived on treacle   said the dormouse  after thinking a minute or two \\n they could nt have done that  you know   alice gently remarked   they d have been ill  \\n so they were   said the dormouse   very ill  \\nalice tried to fancy to herself what such an extraordinary ways of living would be like  but it puzzled her too much  so she went on   but why did they live at the bottom of a well  \\n take some more tea   the march hare said to alice  very earnestly \\n i ve had nothing yet   alice replied in an offended tone   so i ca nt take more  \\n you mean you ca nt take less   said the hatter   it s very easy to take more than nothing  \\n nobody asked your opinion   said alice \\n who s making personal remarks now  \\nthe hatter asked triumphantly \\nalice did not quite know what to say to this  so she helped herself to some tea and breadandbutter  and then turned to the dormouse  and repeated her question \\n why did they live at the bottom of a well  \\nthe dormouse again took a minute or two to think about it  and then said   it was a treaclewell  \\n there s no such thing  \\nalice was beginning very angrily  but the hatter and the march hare went  sh \\nsh  \\nand the dormouse sulkily remarked   if you ca nt be civil  you d better finish the story for yourself  \\n no  please go on  \\nalice said very humbly   i wo nt interrupt again \\ni dare say there may be one  \\n one  indeed  \\nsaid the dormouse indignantly \\nhowever  he consented to go on \\n and so these three little sisters  they were learning to draw  you know    what did they draw  \\nsaid alice  quite forgetting her promise \\n treacle   said the dormouse  without considering at all this time  \\ni want a clean cup   interrupted the hatter   let s all move one place on  \\nhe moved on as he spoke  and the dormouse followed him  the march hare moved into the dormouse s place  and alice rather unwillingly took the place of the march hare \\nthe hatter was the only one who got any advantage from the change  and alice was a good deal worse off than before  as the march hare had just upset the milkjug into his plate \\nalice did not wish to offend the dormouse again  so she began very cautiously   but i do nt understand \\nwhere did they draw the treacle from  \\n you can draw water out of a waterwell   said the hatter   so i should think you could draw treacle out of a treaclewell  eh  stupid  \\n but they were in the well   alice said to the dormouse  not choosing to notice this last remark \\n of course they were   said the dormouse    well in  \\nthis answer so confused poor alice  that she let the dormouse go on for some time without interrupting it \\n they were learning to draw   the dormouse went on  yawning and rubbing its eyes  for it was getting very sleepy   and they drew all manner of things  everything that begins with an m    why with an m  \\nsaid alice \\n why not  \\nsaid the march hare \\nalice was silent \\nthe dormouse had closed its eyes by this time  and was going off into a doze  but  on being pinched by the hatter  it woke up again with a little shriek  and went on    that begins with an m  such as mousetraps  and the moon  and memory  and muchness  you know you say things are  much of a muchness   did you ever see such a thing as a drawing of a muchness  \\n really  now you ask me   said alice  very much confused   i do nt think    then you should nt talk   said the hatter \\nthis piece of rudeness was more than alice could bear  she got up in great disgust  and walked off  the dormouse fell asleep instantly  and neither of the others took the least notice of her going  though she looked back once or twice  half hoping that they would call after her  the last time she saw them  they were trying to put the dormouse into the teapot \\n at any rate i ll never go there again  \\nsaid alice as she picked her way through the wood \\n it s the stupidest teaparty i ever was at in all my life  \\njust as she said this  she noticed that one of the trees had a door leading right into it \\n that s very curious  \\nshe thought \\n but everything s curious today \\ni think i may as well go in at once  \\nand in she went \\nonce more she found herself in the long hall  and close to the little glass table \\n now  i ll manage better this time   she said to herself  and began by taking the little golden key  and unlocking the door that led into the garden \\nthen she went to work nibbling at the mushroom lrb she had kept a piece of it in her pocket rrb till she was about a foot high  then she walked down the little passage  and then  she found herself at last in the beautiful garden  among the bright flowerbeds and the cool fountains \\nthe queen s croquetground a large rosetree stood near the entrance of the garden  the roses growing on it were white  but there were three gardeners at it  busily painting them red \\nalice thought this a very curious thing  and she went nearer to watch them  and just as she came up to them she heard one of them say   look out now  five \\ndo nt go splashing paint over me like that   \\ni could nt help it   said five  in a sulky tone   seven jogged my elbow  \\non which seven looked up and said   that s right  five \\nalways lay the blame on others  \\n you d better not talk  \\nsaid five  \\ni heard the queen say only yesterday you deserved to be beheaded  \\n what for  \\nsaid the one who had spoken first \\n that s none of your business  two  \\nsaid seven \\n yes  it is his business  \\nsaid five   and i ll tell him  it was for bringing the cook tuliproots instead of onions  \\nseven flung down his brush  and had just begun  well  of all the unjust things   when his eye chanced to fall upon alice  as she stood watching them  and he checked himself suddenly  the others looked round also  and all of them bowed low \\n would you tell me   said alice  a little timidly   why you are painting those roses  \\nfive and seven said nothing  but looked at two \\ntwo began in a low voice   why the fact is  you see  miss  this here ought to have been a red rosetree  and we put a white one in by mistake  and if the queen was to find it out  we should all have our heads cut off  you know \\nso you see  miss  we re doing our best  afore she comes  to   at this moment five  who had been anxiously looking across the garden  called out  the queen \\nthe queen  \\nand the three gardeners instantly threw themselves flat upon their faces \\nthere was a sound of many footsteps  and alice looked round  eager to see the queen \\nfirst came ten soldiers carrying clubs  these were all shaped like the three gardeners  oblong and flat  with their hands and feet at the corners  next the ten courtiers  these were ornamented all over with diamonds  and walked two and two  as the soldiers did \\nafter these came the royal children  there were ten of them  and the little dears came jumping merrily along hand in hand  in couples  they were all ornamented with hearts \\nnext came the guests  mostly kings and queens  and among them alice recognised the white rabbit  it was talking in a hurried nervous manner  smiling at everything that was said  and went by without noticing her \\nthen followed the knave of hearts  carrying the king s crown on a crimson velvet cushion  and  last of all this grand procession  came the king and queen of hearts \\nalice was rather doubtful whether she ought not to lie down on her face like the three gardeners  but she could not remember ever having heard of such a rule at processions   and besides  what would be the use of a procession   thought she   if people had all to lie down upon their faces  so that they could nt see it  \\nso she stood still where she was  and waited \\nwhen the procession came opposite to alice  they all stopped and looked at her  and the queen said severely  who is this  \\nshe said it to the knave of hearts  who only bowed and smiled in reply \\n idiot  \\nsaid the queen  tossing her head impatiently  and  turning to alice  she went on   what s your name  child  \\n my name is alice  so please your majesty   said alice very politely  but she added  to herself   why  they re only a pack of cards  after all \\ni need nt be afraid of them  \\n and who are these  \\nsaid the queen  pointing to the three gardeners who were lying round the rosetree  for  you see  as they were lying on their faces  and the pattern on their backs was the same as the rest of the pack  she could not tell whether they were gardeners  or soldiers  or courtiers  or three of her own children \\n how should i know  \\nsaid alice  surprised at her own courage \\n it s no business of mine  \\nthe queen turned crimson with fury  and  after glaring at her for a moment like a wild beast  screamed  off with her head \\noff    nonsense  \\nsaid alice  very loudly and decidedly  and the queen was silent \\nthe king laid his hand upon her arm  and timidly said  consider  my dear  she is only a child  \\nthe queen turned angrily away from him  and said to the knave  turn them over  \\nthe knave did so  very carefully  with one foot \\n get up  \\nsaid the queen  in a shrill  loud voice  and the three gardeners instantly jumped up  and began bowing to the king  the queen  the royal children  and everybody else \\n leave off that  \\nscreamed the queen \\n you make me giddy  \\nand then  turning to the rosetree  she went on   what have you been doing here  \\n may it please your majesty   said two  in a very humble tone  going down on one knee as he spoke   we were trying    i see  \\nsaid the queen  who had meanwhile been examining the roses \\n off with their heads  \\nand the procession moved on  three of the soldiers remaining behind to execute the unfortunate gardeners  who ran to alice for protection \\n you sha nt be beheaded  \\nsaid alice  and she put them into a large flowerpot that stood near \\nthe three soldiers wandered about for a minute or two  looking for them  and then quietly marched off after the others \\n are their heads off  \\nshouted the queen \\n their heads are gone  if it please your majesty  \\nthe soldiers shouted in reply \\n that s right  \\nshouted the queen \\n can you play croquet  \\nthe soldiers were silent  and looked at alice  as the question was evidently meant for her \\n yes  \\nshouted alice \\n come on  then  \\nroared the queen  and alice joined the procession  wondering very much what would happen next \\n it s  it s a very fine day  \\nsaid a timid voice at her side \\nshe was walking by the white rabbit  who was peeping anxiously into her face \\n very   said alice    where s the duchess  \\n hush \\nhush  \\nsaid the rabbit in a low  hurried tone \\nhe looked anxiously over his shoulder as he spoke  and then raised himself upon tiptoe  put his mouth close to her ear  and whispered  she s under sentence of execution  \\n what for  \\nsaid alice \\n did you say  what a pity  \\n \\nthe rabbit asked \\n no  i did nt   said alice   i do nt think it s at all a pity \\ni said  what for   \\n she boxed the queen s ears   the rabbit began \\nalice gave a little scream of laughter \\n oh  hush  \\nthe rabbit whispered in a frightened tone \\n the queen will hear you \\nyou see  she came rather late  and the queen said    get to your places  \\nshouted the queen in a voice of thunder  and people began running about in all directions  tumbling up against each other  however  they got settled down in a minute or two  and the game began \\nalice thought she had never seen such a curious croquetground in her life  it was all ridges and furrows  the balls were live hedgehogs  the mallets live flamingoes  and the soldiers had to double themselves up and to stand on their hands and feet  to make the arches \\nthe chief difficulty alice found at first was in managing her flamingo  she succeeded in getting its body tucked away  comfortably enough  under her arm  with its legs hanging down  but generally  just as she had got its neck nicely straightened out  and was going to give the hedgehog a blow with its head  it would twist itself round and look up in her face  with such a puzzled expression that she could not help bursting out laughing  and when she had got its head down  and was going to begin again  it was very provoking to find that the hedgehog had unrolled itself  and was in the act of crawling away  besides all this  there was generally a ridge or furrow in the way wherever she wanted to send the hedgehog to  and  as the doubledup soldiers were always getting up and walking off to other parts of the ground  alice soon came to the conclusion that it was a very difficult game indeed \\nthe players all played at once without waiting for turns  quarrelling all the while  and fighting for the hedgehogs  and in a very short time the queen was in a furious passion  and went stamping about  and shouting  off with his head  \\nor  off with her head  \\nabout once in a minute \\nalice began to feel very uneasy  to be sure  she had not as yet had any dispute with the queen  but she knew that it might happen any minute   and then   thought she   what would become of me \\nthey re dreadfully fond of beheading people here  the great wonder is  that there s any one left alive  \\nshe was looking about for some way of escape  and wondering whether she could get away without being seen  when she noticed a curious appearance in the air  it puzzled her very much at first  but  after watching it a minute or two  she made it out to be a grin  and she said to herself  it s the cheshire cat  now i shall have somebody to talk to  \\n how are you getting on  \\nsaid the cat  as soon as there was mouth enough for it to speak with \\nalice waited till the eyes appeared  and then nodded \\n it s no use speaking to it   she thought  till its ears have come  or at least one of them  \\nin another minute the whole head appeared  and then alice put down her flamingo  and began an account of the game  feeling very glad she had someone to listen to her \\nthe cat seemed to think that there was enough of it now in sight  and no more of it appeared  \\ni do nt think they play at all fairly   alice began  in rather a complaining tone   and they all quarrel so dreadfully one ca nt hear oneself speak  and they do nt seem to have any rules in particular  at least  if there are  nobody attends to them  and you ve no idea how confusing it is all the things being alive  for instance  there s the arch i ve got to go through next walking about at the other end of the ground  and i should have croqueted the queen s hedgehog just now  only it ran away when it saw mine coming  \\n how do you like the queen  \\nsaid the cat in a low voice \\n not at all   said alice   she s so extremely   just then she noticed that the queen was close behind her  listening  so she went on    likely to win  that it s hardly worth while finishing the game  \\nthe queen smiled and passed on \\n who are you talking to  \\nsaid the king  going up to alice  and looking at the cat s head with great curiosity \\n it s a friend of mine  a cheshire cat   said alice   allow me to introduce it   \\ni do nt like the look of it at all   said the king   however  it may kiss my hand if it likes  \\n i d rather not   the cat remarked \\n do nt be impertinent   said the king   and do nt look at me like that  \\nhe got behind alice as he spoke  \\na cat may look at a king   said alice \\n i ve read that in some book  but i do nt remember where  \\n well  it must be removed   said the king very decidedly  and he called the queen  who was passing at the moment   my dear \\ni wish you would have this cat removed  \\nthe queen had only one way of settling all difficulties  great or small \\n off with his head  \\nshe said  without even looking round \\n i ll fetch the executioner myself   said the king eagerly  and he hurried off \\nalice thought she might as well go back  and see how the game was going on  as she heard the queen s voice in the distance  screaming with passion \\nshe had already heard her sentence three of the players to be executed for having missed their turns  and she did not like the look of things at all  as the game was in such confusion that she never knew whether it was her turn or not \\nso she went in search of her hedgehog \\nthe hedgehog was engaged in a fight with another hedgehog  which seemed to alice an excellent opportunity for croqueting one of them with the other  the only difficulty was  that her flamingo was gone across to the other side of the garden  where alice could see it trying in a helpless sort of way to fly up into a tree \\nby the time she had caught the flamingo and brought it back  the fight was over  and both the hedgehogs were out of sight   but it does nt matter much   thought alice   as all the arches are gone from this side of the ground  \\nso she tucked it away under her arm  that it might not escape again  and went back for a little more conversation with her friend \\nwhen she got back to the cheshire cat  she was surprised to find quite a large crowd collected round it  there was a dispute going on between the executioner  the king  and the queen  who were all talking at once  while all the rest were quite silent  and looked very uncomfortable \\nthe moment alice appeared  she was appealed to by all three to settle the question  and they repeated their arguments to her  though  as they all spoke at once  she found it very hard indeed to make out exactly what they said \\nthe executioner s argument was  that you could nt cut off a head unless there was a body to cut it off from  that he had never had to do such a thing before  and he was nt going to begin at his time of life \\nthe king s argument was  that anything that had a head could be beheaded  and that you were nt to talk nonsense \\nthe queen s argument was  that if something was nt done about it in less than no time she d have everybody executed  all round \\nlrb it was this last remark that had made the whole party look so grave and anxious  rrb\\nalice could think of nothing else to say but  it belongs to the duchess  you d better ask her about it  \\n she s in prison   the queen said to the executioner   fetch her here  \\nand the executioner went off like an arrow \\nthe cat s head began fading away the moment he was gone  and  by the time he had come back with the duchess  it had entirely disappeared  so the king and the executioner ran wildly up and down looking for it  while the rest of the party went back to the game \\nthe mock turtle s story  you ca nt think how glad i am to see you again  you dear old thing  \\nsaid the duchess  as she tucked her arm affectionately into alice s  and they walked off together \\nalice was very glad to find her in such a pleasant temper  and thought to herself that perhaps it was only the pepper that had made her so savage when they met in the kitchen \\n when i m a duchess   she said to herself  lrb not in a very hopeful tone though rrb   i wo nt have any pepper in my kitchen at all \\nsoup does very well without  maybe it s always pepper that makes people hottempered   she went on  very much pleased at having found out a new kind of rule   and vinegar that makes them sour  and camomile that makes them bitter  and  and barleysugar and such things that make children sweettempered \\ni only wish people knew that  then they would nt be so stingy about it  you know   she had quite forgotten the duchess by this time  and was a little startled when she heard her voice close to her ear \\n you re thinking about something  my dear  and that makes you forget to talk \\ni ca nt tell you just now what the moral of that is  but i shall remember it in a bit  \\n perhaps it has nt one   alice ventured to remark \\n tut  tut  child  \\nsaid the duchess \\n everything s got a moral  if only you can find it  \\nand she squeezed herself up closer to alice s side as she spoke \\nalice did not much like keeping so close to her  first  because the duchess was very ugly  and secondly  because she was exactly the right height to rest her chin upon alice s shoulder  and it was an uncomfortably sharp chin \\nhowever  she did not like to be rude  so she bore it as well as she could \\n the game s going on rather better now   she said  by way of keeping up the conversation a little  \\ntis so   said the duchess   and the moral of that is   oh  t is love  t is love  that makes the world go round   \\n somebody said   alice whispered   that it s done by everybody minding their own business  \\n ah  well \\nit means much the same thing   said the duchess  digging her sharp little chin into alice s shoulder as she added   and the moral of that is   take care of the sense  and the sounds will take care of themselves   \\n how fond she is of finding morals in things  \\nalice thought to herself  \\ni dare say you re wondering why i do nt put my arm round your waist   the duchess said after a pause   the reason is  that i m doubtful about the temper of your flamingo \\nshall i try the experiment  \\n he might bite   alice cautiously replied  not feeling at all anxious to have the experiment tried \\n very true   said the duchess   flamingoes and mustard both bite \\nand the moral of that is   birds of a feather flock together   \\n only mustard is nt a bird   alice remarked \\n right  as usual   said the duchess   what a clear way you have of putting things  \\n it s a mineral  i think   said alice \\n of course it is   said the duchess  who seemed ready to agree to everything that alice said   there s a large mustardmine near here \\nand the moral of that is   the more there is of mine  the less there is of yours   \\n oh  i know  \\nexclaimed alice  who had not attended to this last remark   it s a vegetable \\nit does nt look like one  but it is   \\ni quite agree with you   said the duchess   and the moral of that is   be what you would seem to be   or if you d like it put more simply   never imagine yourself not to be otherwise than what it might appear to others that what you were or might have been was not otherwise than what you had been would have appeared to them to be otherwise    \\ni think i should understand that better   alice said very politely   if i had it written down  but i ca nt quite follow it as you say it  \\n that s nothing to what i could say if i chose   the duchess replied  in a pleased tone \\n pray do nt trouble yourself to say it any longer than that   said alice \\n oh  do nt talk about trouble  \\nsaid the duchess  \\ni make you a present of everything i ve said as yet   \\na cheap sort of present  \\nthought alice \\n i m glad they do nt give birthday presents like that  \\nbut she did not venture to say it out loud \\n thinking again  \\nthe duchess asked  with another dig of her sharp little chin \\n i ve a right to think   said alice sharply  for she was beginning to feel a little worried \\n just about as much right   said the duchess   as pigs have to fly  and the m   but here  to alice s great surprise  the duchess s voice died away  even in the middle of her favourite word  moral   and the arm that was linked into hers began to tremble \\nalice looked up  and there stood the queen in front of them  with her arms folded  frowning like a thunderstorm  \\na fine day  your majesty  \\nthe duchess began in a low  weak voice \\n now  i give you fair warning   shouted the queen  stamping on the ground as she spoke   either you or your head must be off  and that in about half no time \\ntake your choice  \\nthe duchess took her choice  and was gone in a moment \\n let s go on with the game   the queen said to alice  and alice was too much frightened to say a word  but slowly followed her back to the croquetground \\nthe other guests had taken advantage of the queen s absence  and were resting in the shade  however  the moment they saw her  they hurried back to the game  the queen merely remarking that a moment s delay would cost them their lives \\nall the time they were playing the queen never left off quarrelling with the other players  and shouting  off with his head  \\nor  off with her head  \\nthose whom she sentenced were taken into custody by the soldiers  who of course had to leave off being arches to do this  so that by the end of half an hour or so there were no arches left  and all the players  except the king  the queen  and alice  were in custody and under sentence of execution \\nthen the queen left off  quite out of breath  and said to alice   have you seen the mock turtle yet  \\n no   said alice  \\ni do nt even know what a mock turtle is  \\n it s the thing mock turtle soup is made from   said the queen  \\ni never saw one  or heard of one   said alice \\n come on  then   said the queen   and he shall tell you his history   as they walked off together  alice heard the king say in a low voice  to the company generally   you are all pardoned  \\n come  that s a good thing  \\nshe said to herself  for she had felt quite unhappy at the number of executions the queen had ordered \\nthey very soon came upon a gryphon  lying fast asleep in the sun \\nlrb if you do nt know what a gryphon is  look at the picture  rrb\\n up  lazy thing  \\nsaid the queen   and take this young lady to see the mock turtle  and to hear his history \\ni must go back and see after some executions i have ordered   and she walked off  leaving alice alone with the gryphon \\nalice did not quite like the look of the creature  but on the whole she thought it would be quite as safe to stay with it as to go after that savage queen  so she waited \\nthe gryphon sat up and rubbed its eyes  then it watched the queen till she was out of sight  then it chuckled \\n what fun  \\nsaid the gryphon  half to itself  half to alice \\n what is the fun  \\nsaid alice \\n why  she   said the gryphon \\n it s all her fancy  that  they never executes nobody  you know \\ncome on  \\n everybody says  come on  \\nhere   thought alice  as she went slowly after it   i never was so ordered about in all my life  never  \\nthey had not gone far before they saw the mock turtle in the distance  sitting sad and lonely on a little ledge of rock  and  as they came nearer  alice could hear him sighing as if his heart would break \\nshe pitied him deeply \\n what is his sorrow  \\nshe asked the gryphon  and the gryphon answered  very nearly in the same words as before   it s all his fancy  that  he has nt got no sorrow  you know \\ncome on  \\nso they went up to the mock turtle  who looked at them with large eyes full of tears  but said nothing \\n this here young lady   said the gryphon   she wants for to know your history  she do  \\n i ll tell it her   said the mock turtle in a deep  hollow tone   sit down  both of you  and do nt speak a word till i ve finished  \\nso they sat down  and nobody spoke for some minutes \\nalice thought to herself   i do nt see how he can even finish  if he does nt begin  \\nbut she waited patiently \\n once   said the mock turtle at last  with a deep sigh   i was a real turtle  \\nthese words were followed by a very long silence  broken only by an occasional exclamation of  hjckrrh  \\nfrom the gryphon  and the constant heavy sobbing of the mock turtle \\nalice was very nearly getting up and saying   thank you  sir  for your interesting story   but she could not help thinking there must be more to come  so she sat still and said nothing \\n when we were little   the mock turtle went on at last  more calmly  though still sobbing a little now and then   we went to school in the sea \\nthe master was an old turtle  we used to call him tortoise    why did you call him tortoise  if he was nt one  \\nalice asked \\n we called him tortoise because he taught us   said the mock turtle angrily   really you are very dull  \\n you ought to be ashamed of yourself for asking such a simple question   added the gryphon  and then they both sat silent and looked at poor alice  who felt ready to sink into the earth \\nat last the gryphon said to the mock turtle   drive on  old fellow \\ndo nt be all day about it  \\nand he went on in these words   yes  we went to school in the sea  though you may nt believe it    i never said i did nt  \\ninterrupted alice \\n you did   said the mock turtle \\n hold your tongue  \\nadded the gryphon  before alice could speak again \\nthe mock turtle went on \\n we had the best of educations  in fact  we went to school every day    i ve been to a dayschool  too   said alice   you need nt be so proud as all that  \\n with extras  \\nasked the mock turtle a little anxiously \\n yes   said alice   we learned french and music  \\n and washing  \\nsaid the mock turtle \\n certainly not  \\nsaid alice indignantly \\n ah \\nthen yours was nt a really good school   said the mock turtle in a tone of great relief \\n now at ours they had at the end of the bill   french  music  and washing  extra   \\n you could nt have wanted it much   said alice   living at the bottom of the sea   \\ni could nt afford to learn it  \\nsaid the mock turtle with a sigh  \\ni only took the regular course  \\n what was that  \\ninquired alice \\n reeling and writhing  of course  to begin with   the mock turtle replied   and then the different branches of arithmetic  ambition  distraction  uglification  and derision   \\ni never heard of  uglification    alice ventured to say \\n what is it  \\nthe gryphon lifted up both its paws in surprise \\n what \\nnever heard of uglifying  \\nit exclaimed \\n you know what to beautify is  i suppose  \\n yes   said alice doubtfully   it means  to  make  anything  prettier  \\n well  then   the gryphon went on   if you do nt know what to uglify is  you are a simpleton  \\nalice did not feel encouraged to ask any more questions about it  so she turned to the mock turtle  and said  what else had you to learn  \\n well  there was mystery   the mock turtle replied  counting off the subjects on his flappers    mystery  ancient and modern  with seaography  then drawling  the drawlingmaster was an old congereel  that used to come once a week  he taught us drawling  stretching  and fainting in coils  \\n what was that like  \\nsaid alice \\n well  i ca nt show it you myself   the mock turtle said   i m too stiff \\nand the gryphon never learnt it  \\n had nt time   said the gryphon   i went to the classics master  though \\nhe was an old crab  he was   \\ni never went to him   the mock turtle said with a sigh   he taught laughing and grief  they used to say  \\n so he did  so he did   said the gryphon  sighing in his turn  and both creatures hid their faces in their paws \\n and how many hours a day did you do lessons  \\nsaid alice  in a hurry to change the subject \\n ten hours the first day   said the mock turtle   nine the next  and so on  \\n what a curious plan  \\nexclaimed alice \\n that s the reason they re called lessons   the gryphon remarked   because they lessen from day to day  \\nthis was quite a new idea to alice  and she thought it over a little before she made her next remark \\n then the eleventh day must have been a holiday  \\n of course it was   said the mock turtle \\n and how did you manage on the twelfth  \\nalice went on eagerly \\n that s enough about lessons   the gryphon interrupted in a very decided tone   tell her something about the games now \\nthe lobster quadrille the mock turtle sighed deeply  and drew the back of one flapper across his eyes \\nhe looked at alice  and tried to speak  but for a minute or two sobs choked his voice \\n same as if he had a bone in his throat   said the gryphon  and it set to work shaking him and punching him in the back \\nat last the mock turtle recovered his voice  and  with tears running down his cheeks  he went on again    you may not have lived much under the sea   lrb  i have nt   said alice rrb   and perhaps you were never even introduced to a lobster   lrb alice began to say  i once tasted   but checked herself hastily  and said  no  never  rrb   so you can have no idea what a delightful thing a lobster quadrille is  \\n no  indeed   said alice \\n what sort of a dance is it  \\n why   said the gryphon   you first form into a line along the seashore    two lines  \\ncried the mock turtle \\n seals  turtles  salmon  and so on  then  when you ve cleared all the jellyfish out of the way    that generally takes some time   interrupted the gryphon  \\n you advance twice    each with a lobster as a partner  \\ncried the gryphon \\n of course   the mock turtle said   advance twice  set to partners     change lobsters  and retire in same order   continued the gryphon \\n then  you know   the mock turtle went on   you throw the    the lobsters  \\nshouted the gryphon  with a bound into the air  \\n as far out to sea as you can    swim after them  \\nscreamed the gryphon \\n turn a somersault in the sea  \\ncried the mock turtle  capering wildly about \\n change lobsters again  \\nyelled the gryphon at the top of its voice \\n back to land again  and that s all the first figure   said the mock turtle  suddenly dropping his voice  and the two creatures  who had been jumping about like mad things all this time  sat down again very sadly and quietly  and looked at alice \\n it must be a very pretty dance   said alice timidly \\n would you like to see a little of it  \\nsaid the mock turtle \\n very much indeed   said alice \\n come  let s try the first figure  \\nsaid the mock turtle to the gryphon \\n we can do without lobsters  you know \\nwhich shall sing  \\n oh  you sing   said the gryphon \\n i ve forgotten the words  \\nso they began solemnly dancing round and round alice  every now and then treading on her toes when they passed too close  and waving their forepaws to mark the time  while the mock turtle sang this  very slowly and sadly     will you walk a little faster  \\nsaid a whiting to a snail \\n there s a porpoise close behind us  and he s treading on my tail \\nsee how eagerly the lobsters and the turtles all advance \\nthey are waiting on the shingle  will you come and join the dance \\nwill you  wo nt you  will you  wo nt you  will you join the dance \\nwill you  wo nt you  will you  wo nt you  wo nt you join the dance \\n you can really have no notion how delightful it will be when they take us up and throw us  with the lobsters  out to sea  \\nbut the snail replied  too far  too far  \\nand gave a look askance  said he thanked the whiting kindly  but he would not join the dance \\nwould not  could not  would not  could not  would not join the dance \\nwould not  could not  would not  could not  could not join the dance  \\n what matters it how far we go  \\nhis scaly friend replied \\n there is another shore  you know  upon the other side \\nthe further off from england the nearer is to france  then turn not pale  beloved snail  but come and join the dance \\nwill you  wo nt you  will you  wo nt you  will you join the dance \\nwill you  wo nt you  will you  wo nt you  wo nt you join the dance   \\n thank you  it s a very interesting dance to watch   said alice  feeling very glad that it was over at last   and i do so like that curious song about the whiting  \\n oh  as to the whiting   said the mock turtle   they  you ve seen them  of course  \\n yes   said alice   i ve often seen them at dinn   she checked herself hastily  \\ni do nt know where dinn may be   said the mock turtle   but if you ve seen them so often  of course you know what they re like   \\ni believe so   alice replied thoughtfully \\n they have their tails in their mouths  and they re all over crumbs  \\n you re wrong about the crumbs   said the mock turtle   crumbs would all wash off in the sea \\nbut they have their tails in their mouths  and the reason is   here the mock turtle yawned and shut his eyes \\n  tell her about the reason and all that   he said to the gryphon \\n the reason is   said the gryphon   that they would go with the lobsters to the dance \\nso they got thrown out to sea \\nso they had to fall a long way \\nso they got their tails fast in their mouths \\nso they could nt get them out again \\nthat s all  \\n thank you   said alice   it s very interesting \\ni never knew so much about a whiting before   \\ni can tell you more than that  if you like   said the gryphon \\n do you know why it s called a whiting   \\ni never thought about it   said alice \\n why  \\n it does the boots and shoes  \\nthe gryphon replied very solemnly \\nalice was thoroughly puzzled \\n does the boots and shoes  \\nshe repeated in a wondering tone \\n why  what are your shoes done with  \\nsaid the gryphon  \\ni mean  what makes them so shiny  \\nalice looked down at them  and considered a little before she gave her answer \\n they re done with blacking  i believe  \\n boots and shoes under the sea   the gryphon went on in a deep voice   are done with a whiting \\nnow you know  \\n and what are they made of  \\nalice asked in a tone of great curiosity \\n soles and eels  of course   the gryphon replied rather impatiently   any shrimp could have told you that  \\n if i d been the whiting   said alice  whose thoughts were still running on the song   i d have said to the porpoise   keep back  please  we do nt want you with us   \\n they were obliged to have him with them   the mock turtle said   no wise fish would go anywhere without a porpoise  \\n would nt it really  \\nsaid alice in a tone of great surprise \\n of course not   said the mock turtle   why  if a fish came to me  and told me he was going a journey  i should say  with what porpoise   \\n do nt you mean  purpose   \\nsaid alice  \\ni mean what i say   the mock turtle replied in an offended tone \\nand the gryphon added  come  let s hear some of your adventures   \\ni could tell you my adventures  beginning from this morning   said alice a little timidly   but it s no use going back to yesterday  because i was a different person then  \\n explain all that   said the mock turtle \\n no  no \\nthe adventures first   said the gryphon in an impatient tone   explanations take such a dreadful time  \\nso alice began telling them her adventures from the time when she first saw the white rabbit \\nshe was a little nervous about it just at first  the two creatures got so close to her  one on each side  and opened their eyes and mouths so very wide  but she gained courage as she went on \\nher listeners were perfectly quiet till she got to the part about her repeating  you are old  father william   to the caterpillar  and the words all coming different  and then the mock turtle drew a long breath  and said  that s very curious  \\n it s all about as curious as it can be   said the gryphon \\n it all came different  \\nthe mock turtle repeated thoughtfully  \\ni should like to hear her try and repeat something now \\ntell her to begin  \\nhe looked at the gryphon as if he thought it had some kind of authority over alice \\n stand up and repeat  t is the voice of the sluggard    said the gryphon \\n how the creatures order one about  and make one repeat lessons  \\nthought alice   i might as well be at school at once  \\nhowever  she got up  and began to repeat it  but her head was so full of the lobster quadrille  that she hardly knew what she was saying  and the words came very queer indeed    tis the voice of the lobster  i heard him declare   you have baked me too brown  i must sugar my hair  \\nas a duck with its eyelids  so he with his nose trims his belt and his buttons  and turns out his toes  \\nlsb later editions continued as follows when the sands are all dry  he is gay as a lark  and will talk in contemptuous tones of the shark  but  when the tide rises and sharks are around  his voice has a timid and tremulous sound  rsb\\n that s different from what i used to say when i was a child   said the gryphon \\n well  i never heard it before   said the mock turtle   but it sounds uncommon nonsense  \\nalice said nothing  she had sat down with her face in her hands  wondering if anything would ever happen in a natural way again  \\ni should like to have it explained   said the mock turtle \\n she ca nt explain it   said the gryphon hastily \\n go on with the next verse  \\n but about his toes  \\nthe mock turtle persisted \\n how could he turn them out with his nose  you know  \\n it s the first position in dancing  \\nalice said  but was dreadfully puzzled by the whole thing  and longed to change the subject \\n go on with the next verse   the gryphon repeated impatiently   it begins  i passed by his garden   \\nalice did not dare to disobey  though she felt sure it would all come wrong  and she went on in a trembling voice    i passed by his garden  and marked  with one eye  how the owl and the panther were sharing a pie   lsb later editions continued as follows the panther took piecrust  and gravy  and meat  while the owl had the dish as its share of the treat \\nwhen the pie was all finished  the owl  as a boon  was kindly permitted to pocket the spoon  while the panther received knife and fork with a growl  and concluded the banquet  rsb  what is the use of repeating all that stuff   the mock turtle interrupted   if you do nt explain it as you go on \\nit s by far the most confusing thing i ever heard  \\n yes  i think you d better leave off   said the gryphon  and alice was only too glad to do so \\n shall we try another figure of the lobster quadrille  \\nthe gryphon went on \\n or would you like the mock turtle to sing you a song  \\n oh  a song  please  if the mock turtle would be so kind   alice replied  so eagerly that the gryphon said  in a rather offended tone   hm \\nno accounting for tastes \\nsing her  turtle soup   will you  old fellow  \\nthe mock turtle sighed deeply  and began  in a voice sometimes choked with sobs  to sing this    beautiful soup  so rich and green  waiting in a hot tureen \\nwho for such dainties would not stoop \\nsoup of the evening  beautiful soup \\nsoup of the evening  beautiful soup \\nbeau  ootiful soo  oop \\nbeau  ootiful soo  oop \\nsoo  oop of the e  e  evening  beautiful  beautiful soup \\n beautiful soup \\nwho cares for fish  game  or any other dish \\nwho would not give all else for two pennyworth only of beautiful soup \\npennyworth only of beautiful soup \\nbeau  ootiful soo  oop \\nbeau  ootiful soo  oop \\nsoo  oop of the e  e  evening  beautiful  beauti  ful soup  \\n chorus again  \\ncried the gryphon  and the mock turtle had just begun to repeat it  when a cry of  the trial s beginning  \\nwas heard in the distance \\n come on  \\ncried the gryphon  and  taking alice by the hand  it hurried off  without waiting for the end of the song \\nwho stole the tarts \\nthe king and queen of hearts were seated on their throne when they arrived  with a great crowd assembled about them  all sorts of little birds and beasts  as well as the whole pack of cards  the knave was standing before them  in chains  with a soldier on each side to guard him  and near the king was the white rabbit  with a trumpet in one hand  and a scroll of parchment in the other \\nin the very middle of the court was a table  with a large dish of tarts upon it  they looked so good  that it made alice quite hungry to look at them   i wish they d get the trial done   she thought   and hand round the refreshments  \\nbut there seemed to be no chance of this  so she began looking at everything about her  to pass away the time \\nalice had never been in a court of justice before  but she had read about them in books  and she was quite pleased to find that she knew the name of nearly everything there \\n that s the judge   she said to herself   because of his great wig  \\nthe judge  by the way  was the king  and as he wore his crown over the wig  lrb look at the frontispiece if you want to see how he did it  rrb he did not look at all comfortable  and it was certainly not becoming \\n and that s the jurybox   thought alice   and those twelve creatures   lrb she was obliged to say  creatures   you see  because some of them were animals  and some were birds  rrb  i suppose they are the jurors  \\nshe said this last word two or three times over to herself  being rather proud of it  for she thought  and rightly too  that very few little girls of her age knew the meaning of it at all \\nhowever   jurymen  would have done just as well \\nthe twelve jurors were all writing very busily on slates \\n what are they doing  \\nalice whispered to the gryphon \\n they ca nt have anything to put down yet  before the trial s begun  \\n they re putting down their names   the gryphon whispered in reply   for fear they should forget them before the end of the trial  \\n stupid things  \\nalice began in a loud  indignant voice  but she stopped hastily  for the white rabbit cried out   silence in the court  \\nand the king put on his spectacles and looked anxiously round  to make out who was talking \\nalice could see  as well as if she were looking over their shoulders  that all the jurors were writing down  stupid things  \\non their slates  and she could even make out that one of them did nt know how to spell  stupid   and that he had to ask his neighbour to tell him  \\na nice muddle their slates ll be in before the trial s over  \\nthought alice \\none of the jurors had a pencil that squeaked \\nthis of course  alice could not stand  and she went round the court and got behind him  and very soon found an opportunity of taking it away \\nshe did it so quickly that the poor little juror lrb it was bill  the lizard rrb could not make out at all what had become of it  so  after hunting all about for it  he was obliged to write with one finger for the rest of the day  and this was of very little use  as it left no mark on the slate \\n herald  read the accusation  \\nsaid the king \\non this the white rabbit blew three blasts on the trumpet  and then unrolled the parchment scroll  and read as follows    the queen of hearts  she made some tarts  all on a summer day  the knave of hearts  he stole those tarts  and took them quite away  \\n consider your verdict   the king said to the jury \\n not yet  not yet  \\nthe rabbit hastily interrupted \\n there s a great deal to come before that  \\n call the first witness   said the king  and the white rabbit blew three blasts on the trumpet  and called out   first witness  \\nthe first witness was the hatter \\nhe came in with a teacup in one hand and a piece of breadandbutter in the other  \\ni beg pardon  your majesty   he began   for bringing these in  but i had nt quite finished my tea when i was sent for  \\n you ought to have finished   said the king \\n when did you begin  \\nthe hatter looked at the march hare  who had followed him into the court  arminarm with the dormouse \\n fourteenth of march  i think it was   he said \\n fifteenth   said the march hare \\n sixteenth   added the dormouse \\n write that down   the king said to the jury  and the jury eagerly wrote down all three dates on their slates  and then added them up  and reduced the answer to shillings and pence \\n take off your hat   the king said to the hatter \\n it is nt mine   said the hatter \\n stolen  \\nthe king exclaimed  turning to the jury  who instantly made a memorandum of the fact  \\ni keep them to sell   the hatter added as an explanation   i ve none of my own \\ni m a hatter  \\nhere the queen put on her spectacles  and began staring at the hatter  who turned pale and fidgeted \\n give your evidence   said the king   and do nt be nervous  or i ll have you executed on the spot  \\nthis did not seem to encourage the witness at all  he kept shifting from one foot to the other  looking uneasily at the queen  and in his confusion he bit a large piece out of his teacup instead of the breadandbutter \\njust at this moment alice felt a very curious sensation  which puzzled her a good deal until she made out what it was  she was beginning to grow larger again  and she thought at first she would get up and leave the court  but on second thoughts she decided to remain where she was as long as there was room for her  \\ni wish you would nt squeeze so  \\nsaid the dormouse  who was sitting next to her  \\ni can hardly breathe   \\ni ca nt help it   said alice very meekly   i m growing  \\n you ve no right to grow here   said the dormouse \\n do nt talk nonsense   said alice more boldly   you know you re growing too  \\n yes  but i grow at a reasonable pace   said the dormouse   not in that ridiculous fashion  \\nand he got up very sulkily and crossed over to the other side of the court \\nall this time the queen had never left off staring at the hatter  and  just as the dormouse crossed the court  she said to one of the officers of the court   bring me the list of the singers in the last concert  \\non which the wretched hatter trembled so  that he shook both his shoes off \\n give your evidence   the king repeated angrily   or i ll have you executed  whether you re nervous or not  \\n i m a poor man  your majesty   the hatter began  in a trembling voice    and i had nt begun my tea  not above a week or so  and what with the breadandbutter getting so thin  and the twinkling of the tea    the twinkling of the what  \\nsaid the king \\n it began with the tea   the hatter replied \\n of course twinkling begins with a t  \\nsaid the king sharply \\n do you take me for a dunce \\ngo on  \\n i m a poor man   the hatter went on   and most things twinkled after that  only the march hare said    i did nt  \\nthe march hare interrupted in a great hurry \\n you did  \\nsaid the hatter  \\ni deny it  \\nsaid the march hare \\n he denies it   said the king   leave out that part  \\n well  at any rate  the dormouse said   the hatter went on  looking anxiously round to see if he would deny it too  but the dormouse denied nothing  being fast asleep \\n after that   continued the hatter   i cut some more breadandbutter    but what did the dormouse say  \\none of the jury asked \\n that i ca nt remember   said the hatter \\n you must remember   remarked the king   or i ll have you executed  \\nthe miserable hatter dropped his teacup and breadandbutter  and went down on one knee \\n i m a poor man  your majesty   he began \\n you re a very poor speaker   said the king \\nhere one of the guineapigs cheered  and was immediately suppressed by the officers of the court \\nlrb as that is rather a hard word  i will just explain to you how it was done \\nthey had a large canvas bag  which tied up at the mouth with strings  into this they slipped the guineapig  head first  and then sat upon it  rrb\\n i m glad i ve seen that done   thought alice \\n i ve so often read in the newspapers  at the end of trials   there was some attempts at applause  which was immediately suppressed by the officers of the court   and i never understood what it meant till now  \\n if that s all you know about it  you may stand down   continued the king  \\ni ca nt go no lower   said the hatter   i m on the floor  as it is  \\n then you may sit down   the king replied \\nhere the other guineapig cheered  and was suppressed \\n come  that finished the guineapigs  \\nthought alice \\n now we shall get on better  \\n i d rather finish my tea   said the hatter  with an anxious look at the queen  who was reading the list of singers \\n you may go   said the king  and the hatter hurriedly left the court  without even waiting to put his shoes on  \\n and just take his head off outside   the queen added to one of the officers  but the hatter was out of sight before the officer could get to the door \\n call the next witness  \\nsaid the king \\nthe next witness was the duchess s cook \\nshe carried the pepperbox in her hand  and alice guessed who it was  even before she got into the court  by the way the people near the door began sneezing all at once \\n give your evidence   said the king \\n sha nt   said the cook \\nthe king looked anxiously at the white rabbit  who said in a low voice   your majesty must crossexamine this witness  \\n well  if i must  i must   the king said  with a melancholy air  and  after folding his arms and frowning at the cook till his eyes were nearly out of sight  he said in a deep voice   what are tarts made of  \\n pepper  mostly   said the cook \\n treacle   said a sleepy voice behind her \\n collar that dormouse   the queen shrieked out \\n behead that dormouse \\nturn that dormouse out of court \\nsuppress him \\npinch him \\noff with his whiskers  \\nfor some minutes the whole court was in confusion  getting the dormouse turned out  and  by the time they had settled down again  the cook had disappeared \\n never mind  \\nsaid the king  with an air of great relief \\n call the next witness  \\nand he added in an undertone to the queen   really  my dear  you must crossexamine the next witness \\nit quite makes my forehead ache  \\nalice watched the white rabbit as he fumbled over the list  feeling very curious to see what the next witness would be like    for they have nt got much evidence yet   she said to herself \\nalice s evidence  here  \\ncried alice  quite forgetting in the flurry of the moment how large she had grown in the last few minutes  and she jumped up in such a hurry that she tipped over the jurybox with the edge of her skirt  upsetting all the jurymen on to the heads of the crowd below  and there they lay sprawling about  reminding her very much of a globe of goldfish she had accidentally upset the week before \\n oh  i beg your pardon  \\nshe exclaimed in a tone of great dismay  and began picking them up again as quickly as she could  for the accident of the goldfish kept running in her head  and she had a vague sort of idea that they must be collected at once and put back into the jurybox  or they would die \\n the trial can not proceed   said the king in a very grave voice   until all the jurymen are back in their proper places  all   he repeated with great emphasis  looking hard at alice as he said do \\nalice looked at the jurybox  and saw that  in her haste  she had put the lizard in head downwards  and the poor little thing was waving its tail about in a melancholy way  being quite unable to move \\nshe soon got it out again  and put it right   not that it signifies much   she said to herself   i should think it would be quite as much use in the trial one way up as the other  \\nas soon as the jury had a little recovered from the shock of being upset  and their slates and pencils had been found and handed back to them  they set to work very diligently to write out a history of the accident  all except the lizard  who seemed too much overcome to do anything but sit with its mouth open  gazing up into the roof of the court \\n what do you know about this business  \\nthe king said to alice \\n nothing   said alice \\n nothing whatever  \\npersisted the king \\n nothing whatever   said alice \\n that s very important   the king said  turning to the jury \\nthey were just beginning to write this down on their slates  when the white rabbit interrupted   unimportant  your majesty means  of course   he said in a very respectful tone  but frowning and making faces at him as he spoke \\n unimportant  of course  i meant   the king hastily said  and went on to himself in an undertone   important  unimportant  unimportant  important   as if he were trying which word sounded best \\nsome of the jury wrote it down  important   and some  unimportant  \\nalice could see this  as she was near enough to look over their slates   but it does nt matter a bit   she thought to herself \\nat this moment the king  who had been for some time busily writing in his notebook  cackled out  silence  \\nand read out from his book   rule fortytwo \\nall persons more than a mile high to leave the court  \\neverybody looked at alice \\n i m not a mile high   said alice \\n you are   said the king \\n nearly two miles high   added the queen \\n well  i sha nt go  at any rate   said alice   besides  that s not a regular rule  you invented it just now  \\n it s the oldest rule in the book   said the king \\n then it ought to be number one   said alice \\nthe king turned pale  and shut his notebook hastily \\n consider your verdict   he said to the jury  in a low  trembling voice \\n there s more evidence to come yet  please your majesty   said the white rabbit  jumping up in a great hurry   this paper has just been picked up  \\n what s in it  \\nsaid the queen  \\ni have nt opened it yet   said the white rabbit   but it seems to be a letter  written by the prisoner to  to somebody  \\n it must have been that   said the king   unless it was written to nobody  which is nt usual  you know  \\n who is it directed to  \\nsaid one of the jurymen \\n it is nt directed at all   said the white rabbit   in fact  there s nothing written on the outside  \\nhe unfolded the paper as he spoke  and added  it is nt a letter  after all  it s a set of verses  \\n are they in the prisoner s handwriting  \\nasked another of the jurymen \\n no  they re not   said the white rabbit   and that s the queerest thing about it  \\nlrb the jury all looked puzzled  rrb\\n he must have imitated somebody else s hand   said the king \\nlrb the jury all brightened up again  rrb\\n please your majesty   said the knave   i did nt write it  and they ca nt prove i did  there s no name signed at the end  \\n if you did nt sign it   said the king   that only makes the matter worse \\nyou must have meant some mischief  or else you d have signed your name like an honest man  \\nthere was a general clapping of hands at this  it was the first really clever thing the king had said that day \\n that proves his guilt   said the queen \\n it proves nothing of the sort  \\nsaid alice \\n why  you do nt even know what they re about  \\n read them   said the king \\nthe white rabbit put on his spectacles \\n where shall i begin  please your majesty  \\nhe asked \\n begin at the beginning   the king said gravely   and go on till you come to the end  then stop  \\nthese were the verses the white rabbit read    they told me you had been to her  and mentioned me to him  she gave me a good character  but said i could not swim \\nhe sent them word i had not gone lrb we know it to be true rrb  if she should push the matter on  what would become of you \\ni gave her one  they gave him two  you gave us three or more  they all returned from him to you  though they were mine before \\nif i or she should chance to be involved in this affair  he trusts to you to set them free  exactly as we were \\nmy notion was that you had been lrb before she had this fit rrb an obstacle that came between him  and ourselves  and it \\ndo nt let him know she liked them best  for this must ever be a secret  kept from all the rest  between yourself and me  \\n that s the most important piece of evidence we ve heard yet   said the king  rubbing his hands   so now let the jury    if any one of them can explain it   said alice  lrb she had grown so large in the last few minutes that she was nt a bit afraid of interrupting him  rrb  i ll give him sixpence \\ni do nt believe there s an atom of meaning in it  \\nthe jury all wrote down on their slates   she does nt believe there s an atom of meaning in it   but none of them attempted to explain the paper \\n if there s no meaning in it   said the king   that saves a world of trouble  you know  as we need nt try to find any \\nand yet i do nt know   he went on  spreading out the verses on his knee  and looking at them with one eye   i seem to see some meaning in them  after all  \\n said i could not swim   you ca nt swim  can you  \\nhe added  turning to the knave \\nthe knave shook his head sadly \\n do i look like it  \\nhe said \\nlrb which he certainly did not  being made entirely of cardboard  rrb\\n all right  so far   said the king  and he went on muttering over the verses to himself    we know it to be true   that s the jury  of course   i gave her one  they gave him two   why  that must be what he did with the tarts  you know    but  it goes on  they all returned from him to you    said alice \\n why  there they are  \\nsaid the king triumphantly  pointing to the tarts on the table \\n nothing can be clearer than that \\nthen again   before she had this fit   you never had fits  my dear  i think  \\nhe said to the queen \\n never  \\nsaid the queen furiously  throwing an inkstand at the lizard as she spoke \\nlrb the unfortunate little bill had left off writing on his slate with one finger  as he found it made no mark  but he now hastily began again  using the ink  that was trickling down his face  as long as it lasted  rrb\\n then the words do nt fit you   said the king  looking round the court with a smile \\nthere was a dead silence \\n it s a pun  \\nthe king added in an offended tone  and everybody laughed   let the jury consider their verdict   the king said  for about the twentieth time that day \\n no  no  \\nsaid the queen \\n sentence first  verdict afterwards  \\n stuff and nonsense  \\nsaid alice loudly \\n the idea of having the sentence first  \\n hold your tongue  \\nsaid the queen  turning purple  \\ni wo nt  \\nsaid alice \\n off with her head  \\nthe queen shouted at the top of her voice \\nnobody moved \\n who cares for you  \\nsaid alice  lrb she had grown to her full size by this time  rrb\\n you re nothing but a pack of cards  \\nat this the whole pack rose up into the air  and came flying down upon her  she gave a little scream  half of fright and half of anger  and tried to beat them off  and found herself lying on the bank  with her head in the lap of her sister  who was gently brushing away some dead leaves that had fluttered down from the trees upon her face \\n wake up  alice dear  \\nsaid her sister   why  what a long sleep you ve had  \\n oh  i ve had such a curious dream  \\nsaid alice  and she told her sister  as well as she could remember them  all these strange adventures of hers that you have just been reading about  and when she had finished  her sister kissed her  and said   it was a curious dream  dear  certainly  but now run in to your tea  it s getting late  \\nso alice got up and ran off  thinking while she ran  as well she might  what a wonderful dream it had been \\nbut her sister sat still just as she left her  leaning her head on her hand  watching the setting sun  and thinking of little alice and all her wonderful adventures  till she too began dreaming after a fashion  and this was her dream   first  she dreamed of little alice herself  and once again the tiny hands were clasped upon her knee  and the bright eager eyes were looking up into hers  she could hear the very tones of her voice  and see that queer little toss of her head to keep back the wandering hair that would always get into her eyes  and still as she listened  or seemed to listen  the whole place around her became alive with the strange creatures of her little sister s dream \\nthe long grass rustled at her feet as the white rabbit hurried by  the frightened mouse splashed his way through the neighbouring pool  she could hear the rattle of the teacups as the march hare and his friends shared their neverending meal  and the shrill voice of the queen ordering off her unfortunate guests to execution  once more the pigbaby was sneezing on the duchess s knee  while plates and dishes crashed around it  once more the shriek of the gryphon  the squeaking of the lizard s slatepencil  and the choking of the suppressed guineapigs  filled the air  mixed up with the distant sobs of the miserable mock turtle \\nso she sat on  with closed eyes  and half believed herself in wonderland  though she knew she had but to open them again  and all would change to dull reality  the grass would be only rustling in the wind  and the pool rippling to the waving of the reeds  the rattling teacups would change to tinkling sheepbells  and the queen s shrill cries to the voice of the shepherd boy  and the sneeze of the baby  the shriek of the gryphon  and all the other queer noises  would change lrb she knew rrb to the confused clamour of the busy farmyard  while the lowing of the cattle in the distance would take the place of the mock turtle s heavy sobs \\nlastly  she pictured to herself how this same little sister of hers would  in the aftertime  be herself a grown woman  and how she would keep  through all her riper years  the simple and loving heart of her childhood  and how she would gather about her other little children  and make their eyes bright and eager with many a strange tale  perhaps even with the dream of wonderland of long ago  and how she would feel with all their simple sorrows  and find a pleasure in all their simple joys  remembering her own childlife  and the happy summer days \\n'"
            ]
          },
          "metadata": {
            "tags": []
          },
          "execution_count": 12
        }
      ]
    },
    {
      "cell_type": "code",
      "metadata": {
        "id": "y9A0Idfsy4J6"
      },
      "source": [
        "alice_tok = word_tokenize(alice_np)\n"
      ],
      "execution_count": null,
      "outputs": []
    },
    {
      "cell_type": "code",
      "metadata": {
        "id": "ESDQetXql2_x"
      },
      "source": [
        "def remove_stopwords(words, add_stop_words):\n",
        "\n",
        "  stop_words = stopwords.words('english')\n",
        "  print('default stopwords length :', len(stop_words))\n",
        "\n",
        "  for word in add_stop_words:\n",
        "    stop_words.append(word)\n",
        "  \n",
        "  print('stopwords length after adding additional ones:', len(stop_words))\n",
        "\n",
        "  filtered_words = [word for word in words if word not in stop_words]\n",
        "\n",
        "  return filtered_words\n"
      ],
      "execution_count": null,
      "outputs": []
    },
    {
      "cell_type": "code",
      "metadata": {
        "colab": {
          "base_uri": "https://localhost:8080/"
        },
        "id": "O_vycHdZxOPF",
        "outputId": "ee1132c2-096b-42fc-8036-5ad5f3d8740d"
      },
      "source": [
        "additional_stopwords = ['rrb', 'lrb', 'rsb', 'lsb']\n",
        "alice_nostopwords = remove_stopwords(alice_tok, additional_stopwords )"
      ],
      "execution_count": null,
      "outputs": [
        {
          "output_type": "stream",
          "text": [
            "default stopwords length : 179\n",
            "stopwords length after adding additional ones: 183\n"
          ],
          "name": "stdout"
        }
      ]
    },
    {
      "cell_type": "code",
      "metadata": {
        "id": "LA2kZk1zABxj"
      },
      "source": [
        "for word in alice_tok:\n",
        "  if word in additional_stopwords:\n",
        "    alice_tok.remove(word)"
      ],
      "execution_count": null,
      "outputs": []
    },
    {
      "cell_type": "code",
      "metadata": {
        "colab": {
          "base_uri": "https://localhost:8080/"
        },
        "id": "xNHHGWfznPku",
        "outputId": "6f5c2f9d-eb7c-4c11-96b2-642cb09243c2"
      },
      "source": [
        "print('Length of the text after removing to CHAPTER names : ', len(alice_tok))\n",
        "print('Length of the text after removing the stop words : ', len(alice_nostopwords))"
      ],
      "execution_count": null,
      "outputs": [
        {
          "output_type": "stream",
          "text": [
            "Length of the text after removing to CHAPTER names :  27032\n",
            "Length of the text after removing the stop words :  12333\n"
          ],
          "name": "stdout"
        }
      ]
    },
    {
      "cell_type": "code",
      "metadata": {
        "id": "zLtgEvjX0cfv"
      },
      "source": [
        "def stemmer(text):\n",
        "  porter = PorterStemmer()\n",
        "  return [porter.stem(word)for word in text]\n"
      ],
      "execution_count": null,
      "outputs": []
    },
    {
      "cell_type": "code",
      "metadata": {
        "id": "JSex5BXw0o_g",
        "colab": {
          "base_uri": "https://localhost:8080/"
        },
        "outputId": "029a5985-f94f-4bdf-bcc7-9531f2cfbfe4"
      },
      "source": [
        "alice_stem = stemmer(alice_tok)\n",
        "alice_stem_nostopwords = stemmer(alice_nostopwords)\n",
        "print(alice_stem[:10])\n",
        "print(alice_stem_nostopwords[:10])"
      ],
      "execution_count": null,
      "outputs": [
        {
          "output_type": "stream",
          "text": [
            "['down', 'the', 'rabbithol', 'alic', 'wa', 'begin', 'to', 'get', 'veri', 'tire']\n",
            "['rabbithol', 'alic', 'begin', 'get', 'tire', 'sit', 'sister', 'bank', 'noth', 'twice']\n"
          ],
          "name": "stdout"
        }
      ]
    },
    {
      "cell_type": "code",
      "metadata": {
        "id": "bIkbHHYw2hoY"
      },
      "source": [
        "def get_lemmatizer_pos(pos):\n",
        "    pos_start = pos[0] # Takes the first letter to simplify the POS tag\n",
        "    if pos_start == \"J\":\n",
        "        return wn.ADJ\n",
        "    elif pos_start == \"V\":\n",
        "        return wn.VERB\n",
        "    elif pos_start == \"R\":\n",
        "        return wn.ADV\n",
        "    else:\n",
        "        return wn.NOUN"
      ],
      "execution_count": null,
      "outputs": []
    },
    {
      "cell_type": "code",
      "metadata": {
        "id": "meLs6Qtz2kdQ"
      },
      "source": [
        "tokenizer = TweetTokenizer(preserve_case=False, reduce_len=True)   \n",
        "sentence_tokenizer = nltk.data.load('tokenizers/punkt/english.pickle')\n",
        "lemmatizer = WordNetLemmatizer()\n",
        "def lemma(text):\n",
        "  sentences = sentence_tokenizer.tokenize(text)\n",
        "  sentences_tokens = [tokenizer.tokenize(sentence) for sentence in sentences]\n",
        "  tokens_pos = [pos_tag for pos_tags in pos_tag_sents(text) for pos_tag in pos_tags]\n",
        "  lemmas = [lemmatizer.lemmatize(token[0], pos=get_lemmatizer_pos(token[1])) for token in tokens_pos]\n",
        "  return lemmas\n"
      ],
      "execution_count": null,
      "outputs": []
    },
    {
      "cell_type": "code",
      "metadata": {
        "id": "18bR-_0-3HGT"
      },
      "source": [
        "alice_lemma = lemma(alice_np)"
      ],
      "execution_count": null,
      "outputs": []
    },
    {
      "cell_type": "code",
      "metadata": {
        "id": "HmhvqbmJJPjA"
      },
      "source": [
        "sp = spacy.load('en_core_web_sm')"
      ],
      "execution_count": null,
      "outputs": []
    },
    {
      "cell_type": "code",
      "metadata": {
        "colab": {
          "base_uri": "https://localhost:8080/"
        },
        "id": "C7XjMXB0IN-l",
        "outputId": "31728213-68d2-4642-ad7b-348c8f35ab13"
      },
      "source": [
        "alice_lemma = []\n",
        "for word in sp(alice_np):\n",
        "  alice_lemma.append(word.lemma_)\n",
        "alice_lemma[:10]"
      ],
      "execution_count": null,
      "outputs": [
        {
          "output_type": "execute_result",
          "data": {
            "text/plain": [
              "[' ', 'down', 'the', 'rabbithole', 'alice', 'be', 'begin', 'to', 'get', 'very']"
            ]
          },
          "metadata": {
            "tags": []
          },
          "execution_count": 24
        }
      ]
    },
    {
      "cell_type": "code",
      "metadata": {
        "colab": {
          "base_uri": "https://localhost:8080/"
        },
        "id": "e7kE6XCJYng8",
        "outputId": "8be0a0cc-fdaa-4889-f53e-99b3b61e4c2a"
      },
      "source": [
        "for word in alice_lemma:\n",
        "  if word == ' ':\n",
        "    alice_lemma.remove(word)\n",
        "print(alice_lemma[:10])"
      ],
      "execution_count": null,
      "outputs": [
        {
          "output_type": "stream",
          "text": [
            "['down', 'the', 'rabbithole', 'alice', 'be', 'begin', 'to', 'get', 'very', 'tired']\n"
          ],
          "name": "stdout"
        }
      ]
    },
    {
      "cell_type": "code",
      "metadata": {
        "id": "SCFKRq4C02ZT"
      },
      "source": [
        "alice_postag = pos_tag(alice_tok)"
      ],
      "execution_count": null,
      "outputs": []
    },
    {
      "cell_type": "code",
      "metadata": {
        "id": "e6ni5ME5lQp2"
      },
      "source": [
        "def wordListToFreqDict(word):\n",
        "    wordfreq = [word.count(p) for p in word]\n",
        "    return dict(list(zip(word,wordfreq)))"
      ],
      "execution_count": null,
      "outputs": []
    },
    {
      "cell_type": "code",
      "metadata": {
        "id": "-RRrMmeIlRax",
        "colab": {
          "base_uri": "https://localhost:8080/"
        },
        "outputId": "438521f8-7da0-46de-8326-f03a0bb83210"
      },
      "source": [
        "freq = wordListToFreqDict(alice_tok)\n",
        "for k in sorted(freq, key=freq.get, reverse=True)[:15]:\n",
        "  print(k,freq[k])"
      ],
      "execution_count": null,
      "outputs": [
        {
          "output_type": "stream",
          "text": [
            "the 1627\n",
            "and 863\n",
            "to 721\n",
            "a 630\n",
            "it 591\n",
            "she 549\n",
            "i 542\n",
            "of 507\n",
            "said 462\n",
            "you 411\n",
            "alice 395\n",
            "was 367\n",
            "in 366\n",
            "that 313\n",
            "as 262\n"
          ],
          "name": "stdout"
        }
      ]
    },
    {
      "cell_type": "code",
      "metadata": {
        "id": "PLnMOpEl3gTT"
      },
      "source": [
        "def get_freq(data):\n",
        "  freq_dict = {}\n",
        "\n",
        "  freq = wordListToFreqDict(data)\n",
        "  data_word = []\n",
        "  data_freq = []\n",
        "  for k in sorted(freq, key=freq.get, reverse=True):\n",
        "    freq_dict[k] = freq[k]\n",
        "    data_freq.append(freq[k])\n",
        "    data_word.append(k)\n",
        "  \n",
        "  return data_freq, data_word\n",
        "\n",
        "data_freq, data_word = get_freq(alice_tok)"
      ],
      "execution_count": null,
      "outputs": []
    },
    {
      "cell_type": "code",
      "metadata": {
        "id": "B9QBh37L1s9D"
      },
      "source": [
        "def set_df(data_word, data_freq):\n",
        "  data = pd.DataFrame({'word': data_word,\n",
        "                       'freq': data_freq})\n",
        "  data['prob'] = data['freq']/len(data_freq)\n",
        "  data['pw'] = (np.sqrt(data['prob']/0.001)+1)*(0.001/data['prob'])\n",
        "  \n",
        "  data['prob'] \n",
        "\n",
        "  return data\n",
        "\n",
        "data = set_df(data_word, data_freq)\n"
      ],
      "execution_count": null,
      "outputs": []
    },
    {
      "cell_type": "code",
      "metadata": {
        "colab": {
          "base_uri": "https://localhost:8080/",
          "height": 204
        },
        "id": "8XyUHbCTjgu1",
        "outputId": "c27cba9f-516f-43ea-d74c-0a92ed9de0f4"
      },
      "source": [
        "data.head()"
      ],
      "execution_count": null,
      "outputs": [
        {
          "output_type": "execute_result",
          "data": {
            "text/html": [
              "<div>\n",
              "<style scoped>\n",
              "    .dataframe tbody tr th:only-of-type {\n",
              "        vertical-align: middle;\n",
              "    }\n",
              "\n",
              "    .dataframe tbody tr th {\n",
              "        vertical-align: top;\n",
              "    }\n",
              "\n",
              "    .dataframe thead th {\n",
              "        text-align: right;\n",
              "    }\n",
              "</style>\n",
              "<table border=\"1\" class=\"dataframe\">\n",
              "  <thead>\n",
              "    <tr style=\"text-align: right;\">\n",
              "      <th></th>\n",
              "      <th>word</th>\n",
              "      <th>freq</th>\n",
              "      <th>prob</th>\n",
              "      <th>pw</th>\n",
              "    </tr>\n",
              "  </thead>\n",
              "  <tbody>\n",
              "    <tr>\n",
              "      <th>0</th>\n",
              "      <td>the</td>\n",
              "      <td>1627</td>\n",
              "      <td>0.632828</td>\n",
              "      <td>0.041332</td>\n",
              "    </tr>\n",
              "    <tr>\n",
              "      <th>1</th>\n",
              "      <td>and</td>\n",
              "      <td>863</td>\n",
              "      <td>0.335667</td>\n",
              "      <td>0.057561</td>\n",
              "    </tr>\n",
              "    <tr>\n",
              "      <th>2</th>\n",
              "      <td>to</td>\n",
              "      <td>721</td>\n",
              "      <td>0.280436</td>\n",
              "      <td>0.063281</td>\n",
              "    </tr>\n",
              "    <tr>\n",
              "      <th>3</th>\n",
              "      <td>a</td>\n",
              "      <td>630</td>\n",
              "      <td>0.245041</td>\n",
              "      <td>0.067963</td>\n",
              "    </tr>\n",
              "    <tr>\n",
              "      <th>4</th>\n",
              "      <td>it</td>\n",
              "      <td>591</td>\n",
              "      <td>0.229872</td>\n",
              "      <td>0.070307</td>\n",
              "    </tr>\n",
              "  </tbody>\n",
              "</table>\n",
              "</div>"
            ],
            "text/plain": [
              "  word  freq      prob        pw\n",
              "0  the  1627  0.632828  0.041332\n",
              "1  and   863  0.335667  0.057561\n",
              "2   to   721  0.280436  0.063281\n",
              "3    a   630  0.245041  0.067963\n",
              "4   it   591  0.229872  0.070307"
            ]
          },
          "metadata": {
            "tags": []
          },
          "execution_count": 31
        }
      ]
    },
    {
      "cell_type": "code",
      "metadata": {
        "colab": {
          "base_uri": "https://localhost:8080/",
          "height": 204
        },
        "id": "cB8vqmRwkLyn",
        "outputId": "0c35e1fe-c567-451c-ec95-db4e251008a7"
      },
      "source": [
        "data.tail()"
      ],
      "execution_count": null,
      "outputs": [
        {
          "output_type": "execute_result",
          "data": {
            "text/html": [
              "<div>\n",
              "<style scoped>\n",
              "    .dataframe tbody tr th:only-of-type {\n",
              "        vertical-align: middle;\n",
              "    }\n",
              "\n",
              "    .dataframe tbody tr th {\n",
              "        vertical-align: top;\n",
              "    }\n",
              "\n",
              "    .dataframe thead th {\n",
              "        text-align: right;\n",
              "    }\n",
              "</style>\n",
              "<table border=\"1\" class=\"dataframe\">\n",
              "  <thead>\n",
              "    <tr style=\"text-align: right;\">\n",
              "      <th></th>\n",
              "      <th>word</th>\n",
              "      <th>freq</th>\n",
              "      <th>prob</th>\n",
              "      <th>pw</th>\n",
              "    </tr>\n",
              "  </thead>\n",
              "  <tbody>\n",
              "    <tr>\n",
              "      <th>2566</th>\n",
              "      <td>sorrows</td>\n",
              "      <td>1</td>\n",
              "      <td>0.000389</td>\n",
              "      <td>4.174434</td>\n",
              "    </tr>\n",
              "    <tr>\n",
              "      <th>2567</th>\n",
              "      <td>joys</td>\n",
              "      <td>1</td>\n",
              "      <td>0.000389</td>\n",
              "      <td>4.174434</td>\n",
              "    </tr>\n",
              "    <tr>\n",
              "      <th>2568</th>\n",
              "      <td>remembering</td>\n",
              "      <td>1</td>\n",
              "      <td>0.000389</td>\n",
              "      <td>4.174434</td>\n",
              "    </tr>\n",
              "    <tr>\n",
              "      <th>2569</th>\n",
              "      <td>childlife</td>\n",
              "      <td>1</td>\n",
              "      <td>0.000389</td>\n",
              "      <td>4.174434</td>\n",
              "    </tr>\n",
              "    <tr>\n",
              "      <th>2570</th>\n",
              "      <td>happy</td>\n",
              "      <td>1</td>\n",
              "      <td>0.000389</td>\n",
              "      <td>4.174434</td>\n",
              "    </tr>\n",
              "  </tbody>\n",
              "</table>\n",
              "</div>"
            ],
            "text/plain": [
              "             word  freq      prob        pw\n",
              "2566      sorrows     1  0.000389  4.174434\n",
              "2567         joys     1  0.000389  4.174434\n",
              "2568  remembering     1  0.000389  4.174434\n",
              "2569    childlife     1  0.000389  4.174434\n",
              "2570        happy     1  0.000389  4.174434"
            ]
          },
          "metadata": {
            "tags": []
          },
          "execution_count": 32
        }
      ]
    },
    {
      "cell_type": "code",
      "metadata": {
        "colab": {
          "base_uri": "https://localhost:8080/",
          "height": 282
        },
        "id": "1AjSmSDKrhuw",
        "outputId": "c6da9242-419b-4f92-e441-37006142483d"
      },
      "source": [
        "data[['prob','pw']].plot()"
      ],
      "execution_count": null,
      "outputs": [
        {
          "output_type": "execute_result",
          "data": {
            "text/plain": [
              "<matplotlib.axes._subplots.AxesSubplot at 0x7fe7b4ab5610>"
            ]
          },
          "metadata": {
            "tags": []
          },
          "execution_count": 33
        },
        {
          "output_type": "display_data",
          "data": {
            "image/png": "[encoded data removed]",
            "text/plain": [
              "<Figure size 432x288 with 1 Axes>"
            ]
          },
          "metadata": {
            "tags": [],
            "needs_background": "light"
          }
        }
      ]
    },
    {
      "cell_type": "code",
      "metadata": {
        "colab": {
          "base_uri": "https://localhost:8080/"
        },
        "id": "dkeBYuqBLgLj",
        "outputId": "285cbc0f-89fb-4011-c95d-ada5238b2841"
      },
      "source": [
        "len(alice_tok)"
      ],
      "execution_count": null,
      "outputs": [
        {
          "output_type": "execute_result",
          "data": {
            "text/plain": [
              "27032"
            ]
          },
          "metadata": {
            "tags": []
          },
          "execution_count": 34
        }
      ]
    },
    {
      "cell_type": "markdown",
      "metadata": {
        "id": "P3-L-vcvPR3A"
      },
      "source": [
        "# SUBSAMPLING"
      ]
    },
    {
      "cell_type": "code",
      "metadata": {
        "colab": {
          "base_uri": "https://localhost:8080/"
        },
        "id": "8uziMFymtBbI",
        "outputId": "7f04f393-86ff-42cd-8dba-f52de673acdc"
      },
      "source": [
        "for row in data.itertuples():\n",
        "  word_drop_index_list = []\n",
        "  if data.loc[row.Index,'pw'] < 0.1:\n",
        "    for i in range(len(alice_tok)):\n",
        "      if alice_tok[i] == data.loc[row.Index,'word']:\n",
        "        word_drop_index_list.append(i)\n",
        "\n",
        "    n_drop = int(data.loc[row.Index, 'freq'] * (1-data.loc[row.Index, 'pw']))\n",
        "    drop_list = random.sample(word_drop_index_list, n_drop)\n",
        "\n",
        "    i = 0\n",
        "    for dr in sorted(drop_list):\n",
        "     alice_tok.pop(dr-i)\n",
        "     i=i+1\n",
        "\n",
        "len(alice_tok)\n"
      ],
      "execution_count": null,
      "outputs": [
        {
          "output_type": "execute_result",
          "data": {
            "text/plain": [
              "19265"
            ]
          },
          "metadata": {
            "tags": []
          },
          "execution_count": 35
        }
      ]
    },
    {
      "cell_type": "code",
      "metadata": {
        "id": "TMcXlAVdO1h6"
      },
      "source": [
        "data_freq, data_word = get_freq(alice_tok)\n",
        "\n",
        "data_cleaned = set_df(data_word, data_freq)"
      ],
      "execution_count": null,
      "outputs": []
    },
    {
      "cell_type": "code",
      "metadata": {
        "colab": {
          "base_uri": "https://localhost:8080/",
          "height": 204
        },
        "id": "CYsqSOaiZiex",
        "outputId": "2d7e1948-f0c8-42fd-f8cb-a210f6e93ed9"
      },
      "source": [
        "data_cleaned.head()"
      ],
      "execution_count": null,
      "outputs": [
        {
          "output_type": "execute_result",
          "data": {
            "text/html": [
              "<div>\n",
              "<style scoped>\n",
              "    .dataframe tbody tr th:only-of-type {\n",
              "        vertical-align: middle;\n",
              "    }\n",
              "\n",
              "    .dataframe tbody tr th {\n",
              "        vertical-align: top;\n",
              "    }\n",
              "\n",
              "    .dataframe thead th {\n",
              "        text-align: right;\n",
              "    }\n",
              "</style>\n",
              "<table border=\"1\" class=\"dataframe\">\n",
              "  <thead>\n",
              "    <tr style=\"text-align: right;\">\n",
              "      <th></th>\n",
              "      <th>word</th>\n",
              "      <th>freq</th>\n",
              "      <th>prob</th>\n",
              "      <th>pw</th>\n",
              "    </tr>\n",
              "  </thead>\n",
              "  <tbody>\n",
              "    <tr>\n",
              "      <th>0</th>\n",
              "      <td>as</td>\n",
              "      <td>262</td>\n",
              "      <td>0.101906</td>\n",
              "      <td>0.108873</td>\n",
              "    </tr>\n",
              "    <tr>\n",
              "      <th>1</th>\n",
              "      <td>her</td>\n",
              "      <td>247</td>\n",
              "      <td>0.096072</td>\n",
              "      <td>0.112433</td>\n",
              "    </tr>\n",
              "    <tr>\n",
              "      <th>2</th>\n",
              "      <td>nt</td>\n",
              "      <td>217</td>\n",
              "      <td>0.084403</td>\n",
              "      <td>0.120696</td>\n",
              "    </tr>\n",
              "    <tr>\n",
              "      <th>3</th>\n",
              "      <td>at</td>\n",
              "      <td>211</td>\n",
              "      <td>0.082069</td>\n",
              "      <td>0.122570</td>\n",
              "    </tr>\n",
              "    <tr>\n",
              "      <th>4</th>\n",
              "      <td>s</td>\n",
              "      <td>200</td>\n",
              "      <td>0.077791</td>\n",
              "      <td>0.126235</td>\n",
              "    </tr>\n",
              "  </tbody>\n",
              "</table>\n",
              "</div>"
            ],
            "text/plain": [
              "  word  freq      prob        pw\n",
              "0   as   262  0.101906  0.108873\n",
              "1  her   247  0.096072  0.112433\n",
              "2   nt   217  0.084403  0.120696\n",
              "3   at   211  0.082069  0.122570\n",
              "4    s   200  0.077791  0.126235"
            ]
          },
          "metadata": {
            "tags": []
          },
          "execution_count": 37
        }
      ]
    },
    {
      "cell_type": "markdown",
      "metadata": {
        "id": "PyQ_qN0Ras57"
      },
      "source": [
        "# SKIP GRAM"
      ]
    },
    {
      "cell_type": "code",
      "metadata": {
        "colab": {
          "base_uri": "https://localhost:8080/"
        },
        "id": "zX9wOo54laaA",
        "outputId": "0177fbce-989c-4060-c8e3-b00ec5535c65"
      },
      "source": [
        "CONTEXT_SIZE = 1  \n",
        " \n",
        "data_sg = []\n",
        "for i in range(CONTEXT_SIZE, len(alice_tok) - CONTEXT_SIZE):\n",
        "    target = alice_tok[(i - CONTEXT_SIZE):(i)]+ alice_tok[(i+1): (i+1 + CONTEXT_SIZE)]      \n",
        "    context = alice_tok[i]\n",
        "    data_sg.append((context, target))\n",
        " \n",
        "print(data_sg[:10])"
      ],
      "execution_count": null,
      "outputs": [
        {
          "output_type": "stream",
          "text": [
            "[('rabbithole', ['down', 'beginning']), ('beginning', ['rabbithole', 'get']), ('get', ['beginning', 'very']), ('very', ['get', 'tired']), ('tired', ['very', 'sitting']), ('sitting', ['tired', 'by']), ('by', ['sitting', 'her']), ('her', ['by', 'sister']), ('sister', ['her', 'on']), ('on', ['sister', 'bank'])]\n"
          ],
          "name": "stdout"
        }
      ]
    },
    {
      "cell_type": "code",
      "metadata": {
        "id": "4wjZOCiV4Jvo"
      },
      "source": [
        "positive_label_words = {}\n",
        "for row in data_cleaned.itertuples():\n",
        "  word_list = []\n",
        "  \n",
        "  for i in range(len(data_sg)):\n",
        "    if data_cleaned.loc[row.Index, 'word'] == data_sg[i][0]:\n",
        "      word_list.append(data_sg[i][1][0])\n",
        "      word_list.append(data_sg[i][1][1])\n",
        "\n",
        "      positive_label_words[data_cleaned.loc[row.Index, 'word']] = word_list\n"
      ],
      "execution_count": null,
      "outputs": []
    },
    {
      "cell_type": "code",
      "metadata": {
        "colab": {
          "base_uri": "https://localhost:8080/"
        },
        "id": "9eb7T2pwHKPG",
        "outputId": "9bd08e34-a934-44a3-dd3f-2df0392ba8f1"
      },
      "source": [
        "positive_label_words['rabbithole']"
      ],
      "execution_count": null,
      "outputs": [
        {
          "output_type": "execute_result",
          "data": {
            "text/plain": [
              "['down', 'beginning', 'large', 'under', 'again', 'went', 'down', 'yet']"
            ]
          },
          "metadata": {
            "tags": []
          },
          "execution_count": 40
        }
      ]
    },
    {
      "cell_type": "code",
      "metadata": {
        "id": "HxDY1QNHvfMX"
      },
      "source": [
        "def positive_labeling(data_sg, context_size):\n",
        "  df = pd.DataFrame(columns = ['context','target','label'])\n",
        "  for i in range(len(data_sg)):\n",
        "    df=df.append({'context': data_sg[i][0],\n",
        "                  'target': data_sg[i][1][0],\n",
        "                  'label': 1 }, ignore_index=True)\n",
        "    df=df.append({'context': data_sg[i][0],\n",
        "                  'target': data_sg[i][1][1],\n",
        "                  'label': 1 }, ignore_index=True)\n",
        "    \n",
        "  return df\n",
        "\n",
        "df = positive_labeling(data_sg, 1)"
      ],
      "execution_count": null,
      "outputs": []
    },
    {
      "cell_type": "code",
      "metadata": {
        "colab": {
          "base_uri": "https://localhost:8080/",
          "height": 359
        },
        "id": "ZvpLAALiwjni",
        "outputId": "d93ac823-ec8c-472c-fcf1-eab952f9e88e"
      },
      "source": [
        "df.head(10)"
      ],
      "execution_count": null,
      "outputs": [
        {
          "output_type": "execute_result",
          "data": {
            "text/html": [
              "<div>\n",
              "<style scoped>\n",
              "    .dataframe tbody tr th:only-of-type {\n",
              "        vertical-align: middle;\n",
              "    }\n",
              "\n",
              "    .dataframe tbody tr th {\n",
              "        vertical-align: top;\n",
              "    }\n",
              "\n",
              "    .dataframe thead th {\n",
              "        text-align: right;\n",
              "    }\n",
              "</style>\n",
              "<table border=\"1\" class=\"dataframe\">\n",
              "  <thead>\n",
              "    <tr style=\"text-align: right;\">\n",
              "      <th></th>\n",
              "      <th>context</th>\n",
              "      <th>target</th>\n",
              "      <th>label</th>\n",
              "    </tr>\n",
              "  </thead>\n",
              "  <tbody>\n",
              "    <tr>\n",
              "      <th>0</th>\n",
              "      <td>rabbithole</td>\n",
              "      <td>down</td>\n",
              "      <td>1</td>\n",
              "    </tr>\n",
              "    <tr>\n",
              "      <th>1</th>\n",
              "      <td>rabbithole</td>\n",
              "      <td>beginning</td>\n",
              "      <td>1</td>\n",
              "    </tr>\n",
              "    <tr>\n",
              "      <th>2</th>\n",
              "      <td>beginning</td>\n",
              "      <td>rabbithole</td>\n",
              "      <td>1</td>\n",
              "    </tr>\n",
              "    <tr>\n",
              "      <th>3</th>\n",
              "      <td>beginning</td>\n",
              "      <td>get</td>\n",
              "      <td>1</td>\n",
              "    </tr>\n",
              "    <tr>\n",
              "      <th>4</th>\n",
              "      <td>get</td>\n",
              "      <td>beginning</td>\n",
              "      <td>1</td>\n",
              "    </tr>\n",
              "    <tr>\n",
              "      <th>5</th>\n",
              "      <td>get</td>\n",
              "      <td>very</td>\n",
              "      <td>1</td>\n",
              "    </tr>\n",
              "    <tr>\n",
              "      <th>6</th>\n",
              "      <td>very</td>\n",
              "      <td>get</td>\n",
              "      <td>1</td>\n",
              "    </tr>\n",
              "    <tr>\n",
              "      <th>7</th>\n",
              "      <td>very</td>\n",
              "      <td>tired</td>\n",
              "      <td>1</td>\n",
              "    </tr>\n",
              "    <tr>\n",
              "      <th>8</th>\n",
              "      <td>tired</td>\n",
              "      <td>very</td>\n",
              "      <td>1</td>\n",
              "    </tr>\n",
              "    <tr>\n",
              "      <th>9</th>\n",
              "      <td>tired</td>\n",
              "      <td>sitting</td>\n",
              "      <td>1</td>\n",
              "    </tr>\n",
              "  </tbody>\n",
              "</table>\n",
              "</div>"
            ],
            "text/plain": [
              "      context      target label\n",
              "0  rabbithole        down     1\n",
              "1  rabbithole   beginning     1\n",
              "2   beginning  rabbithole     1\n",
              "3   beginning         get     1\n",
              "4         get   beginning     1\n",
              "5         get        very     1\n",
              "6        very         get     1\n",
              "7        very       tired     1\n",
              "8       tired        very     1\n",
              "9       tired     sitting     1"
            ]
          },
          "metadata": {
            "tags": []
          },
          "execution_count": 42
        }
      ]
    },
    {
      "cell_type": "markdown",
      "metadata": {
        "id": "dEl-uKRS6suP"
      },
      "source": [
        "# NEGATIVE SAMPLING"
      ]
    },
    {
      "cell_type": "code",
      "metadata": {
        "id": "G0qJ78Qu2tpK"
      },
      "source": [
        "def negative_sampling(data,tokenized_text, negative_sampling_size):\n",
        "\n",
        "  df_neg = pd.DataFrame(columns = ['context','target','label'])\n",
        "  for row in data.itertuples():\n",
        "    random_choice_list = []\n",
        "    whole_word_list = list(np.unique(tokenized_text))\n",
        "\n",
        "    for el in whole_word_list:\n",
        "      if el not in positive_label_words[data.loc[row.Index,'word']]:\n",
        "        random_choice_list.append(el.item())\n",
        "\n",
        "    for k in range(negative_sampling_size):\n",
        "      df_neg = df_neg.append({'context': data.loc[row.Index,'word'],\n",
        "                              'target': random.sample(random_choice_list,1)[0],\n",
        "                              'label': 0 }, ignore_index=True)\n",
        "\n",
        "  return df_neg\n",
        "\n",
        "df_neg = negative_sampling(data_cleaned, alice_tok, 3)"
      ],
      "execution_count": null,
      "outputs": []
    },
    {
      "cell_type": "code",
      "metadata": {
        "colab": {
          "base_uri": "https://localhost:8080/",
          "height": 419
        },
        "id": "VSR4t5Og0J2h",
        "outputId": "51189cfc-cabf-4307-b049-0af4e2b78d0d"
      },
      "source": [
        "df_last = pd.concat([df,df_neg])\n",
        "df_last.reset_index(level=0, inplace = True, drop = True)\n",
        "df_last"
      ],
      "execution_count": null,
      "outputs": [
        {
          "output_type": "execute_result",
          "data": {
            "text/html": [
              "<div>\n",
              "<style scoped>\n",
              "    .dataframe tbody tr th:only-of-type {\n",
              "        vertical-align: middle;\n",
              "    }\n",
              "\n",
              "    .dataframe tbody tr th {\n",
              "        vertical-align: top;\n",
              "    }\n",
              "\n",
              "    .dataframe thead th {\n",
              "        text-align: right;\n",
              "    }\n",
              "</style>\n",
              "<table border=\"1\" class=\"dataframe\">\n",
              "  <thead>\n",
              "    <tr style=\"text-align: right;\">\n",
              "      <th></th>\n",
              "      <th>context</th>\n",
              "      <th>target</th>\n",
              "      <th>label</th>\n",
              "    </tr>\n",
              "  </thead>\n",
              "  <tbody>\n",
              "    <tr>\n",
              "      <th>0</th>\n",
              "      <td>rabbithole</td>\n",
              "      <td>down</td>\n",
              "      <td>1</td>\n",
              "    </tr>\n",
              "    <tr>\n",
              "      <th>1</th>\n",
              "      <td>rabbithole</td>\n",
              "      <td>beginning</td>\n",
              "      <td>1</td>\n",
              "    </tr>\n",
              "    <tr>\n",
              "      <th>2</th>\n",
              "      <td>beginning</td>\n",
              "      <td>rabbithole</td>\n",
              "      <td>1</td>\n",
              "    </tr>\n",
              "    <tr>\n",
              "      <th>3</th>\n",
              "      <td>beginning</td>\n",
              "      <td>get</td>\n",
              "      <td>1</td>\n",
              "    </tr>\n",
              "    <tr>\n",
              "      <th>4</th>\n",
              "      <td>get</td>\n",
              "      <td>beginning</td>\n",
              "      <td>1</td>\n",
              "    </tr>\n",
              "    <tr>\n",
              "      <th>...</th>\n",
              "      <td>...</td>\n",
              "      <td>...</td>\n",
              "      <td>...</td>\n",
              "    </tr>\n",
              "    <tr>\n",
              "      <th>46234</th>\n",
              "      <td>childlife</td>\n",
              "      <td>dodo</td>\n",
              "      <td>0</td>\n",
              "    </tr>\n",
              "    <tr>\n",
              "      <th>46235</th>\n",
              "      <td>childlife</td>\n",
              "      <td>different</td>\n",
              "      <td>0</td>\n",
              "    </tr>\n",
              "    <tr>\n",
              "      <th>46236</th>\n",
              "      <td>happy</td>\n",
              "      <td>suppressed</td>\n",
              "      <td>0</td>\n",
              "    </tr>\n",
              "    <tr>\n",
              "      <th>46237</th>\n",
              "      <td>happy</td>\n",
              "      <td>pardoned</td>\n",
              "      <td>0</td>\n",
              "    </tr>\n",
              "    <tr>\n",
              "      <th>46238</th>\n",
              "      <td>happy</td>\n",
              "      <td>yawned</td>\n",
              "      <td>0</td>\n",
              "    </tr>\n",
              "  </tbody>\n",
              "</table>\n",
              "<p>46239 rows × 3 columns</p>\n",
              "</div>"
            ],
            "text/plain": [
              "          context      target label\n",
              "0      rabbithole        down     1\n",
              "1      rabbithole   beginning     1\n",
              "2       beginning  rabbithole     1\n",
              "3       beginning         get     1\n",
              "4             get   beginning     1\n",
              "...           ...         ...   ...\n",
              "46234   childlife        dodo     0\n",
              "46235   childlife   different     0\n",
              "46236       happy  suppressed     0\n",
              "46237       happy    pardoned     0\n",
              "46238       happy      yawned     0\n",
              "\n",
              "[46239 rows x 3 columns]"
            ]
          },
          "metadata": {
            "tags": []
          },
          "execution_count": 44
        }
      ]
    },
    {
      "cell_type": "code",
      "metadata": {
        "id": "dDSj2jZlMsF6"
      },
      "source": [
        "df_last = df_last.sample(frac = 1)\n",
        "df_last.reset_index(level=0, drop=True, inplace=True)"
      ],
      "execution_count": null,
      "outputs": []
    },
    {
      "cell_type": "code",
      "metadata": {
        "id": "z53tnQMA0bbk"
      },
      "source": [
        "numbering_dict = {}\n",
        "for row in data_cleaned.itertuples():\n",
        "  numbering_dict[data_cleaned.loc[row.Index,'word']] = row.Index\n",
        "  "
      ],
      "execution_count": null,
      "outputs": []
    },
    {
      "cell_type": "code",
      "metadata": {
        "id": "-6_GcLBGX9D6"
      },
      "source": [
        "df_last_num = df_last.copy()\n",
        "for row in df_last.itertuples():\n",
        "  df_last_num.loc[row.Index, 'context'] = numbering_dict[df_last.loc[row.Index, 'context']]\n",
        "  df_last_num.loc[row.Index, 'target'] = numbering_dict[df_last.loc[row.Index, 'target']]"
      ],
      "execution_count": null,
      "outputs": []
    },
    {
      "cell_type": "code",
      "metadata": {
        "colab": {
          "base_uri": "https://localhost:8080/",
          "height": 419
        },
        "id": "P0nl170MZXNk",
        "outputId": "fb9b5ab0-3f51-4883-de8f-f6b1aacc6993"
      },
      "source": [
        "df_last_num"
      ],
      "execution_count": null,
      "outputs": [
        {
          "output_type": "execute_result",
          "data": {
            "text/html": [
              "<div>\n",
              "<style scoped>\n",
              "    .dataframe tbody tr th:only-of-type {\n",
              "        vertical-align: middle;\n",
              "    }\n",
              "\n",
              "    .dataframe tbody tr th {\n",
              "        vertical-align: top;\n",
              "    }\n",
              "\n",
              "    .dataframe thead th {\n",
              "        text-align: right;\n",
              "    }\n",
              "</style>\n",
              "<table border=\"1\" class=\"dataframe\">\n",
              "  <thead>\n",
              "    <tr style=\"text-align: right;\">\n",
              "      <th></th>\n",
              "      <th>context</th>\n",
              "      <th>target</th>\n",
              "      <th>label</th>\n",
              "    </tr>\n",
              "  </thead>\n",
              "  <tbody>\n",
              "    <tr>\n",
              "      <th>0</th>\n",
              "      <td>8</td>\n",
              "      <td>142</td>\n",
              "      <td>1</td>\n",
              "    </tr>\n",
              "    <tr>\n",
              "      <th>1</th>\n",
              "      <td>87</td>\n",
              "      <td>961</td>\n",
              "      <td>1</td>\n",
              "    </tr>\n",
              "    <tr>\n",
              "      <th>2</th>\n",
              "      <td>26</td>\n",
              "      <td>187</td>\n",
              "      <td>1</td>\n",
              "    </tr>\n",
              "    <tr>\n",
              "      <th>3</th>\n",
              "      <td>67</td>\n",
              "      <td>60</td>\n",
              "      <td>1</td>\n",
              "    </tr>\n",
              "    <tr>\n",
              "      <th>4</th>\n",
              "      <td>1884</td>\n",
              "      <td>570</td>\n",
              "      <td>0</td>\n",
              "    </tr>\n",
              "    <tr>\n",
              "      <th>...</th>\n",
              "      <td>...</td>\n",
              "      <td>...</td>\n",
              "      <td>...</td>\n",
              "    </tr>\n",
              "    <tr>\n",
              "      <th>46234</th>\n",
              "      <td>1405</td>\n",
              "      <td>10</td>\n",
              "      <td>1</td>\n",
              "    </tr>\n",
              "    <tr>\n",
              "      <th>46235</th>\n",
              "      <td>88</td>\n",
              "      <td>4</td>\n",
              "      <td>1</td>\n",
              "    </tr>\n",
              "    <tr>\n",
              "      <th>46236</th>\n",
              "      <td>386</td>\n",
              "      <td>50</td>\n",
              "      <td>1</td>\n",
              "    </tr>\n",
              "    <tr>\n",
              "      <th>46237</th>\n",
              "      <td>16</td>\n",
              "      <td>21</td>\n",
              "      <td>1</td>\n",
              "    </tr>\n",
              "    <tr>\n",
              "      <th>46238</th>\n",
              "      <td>813</td>\n",
              "      <td>55</td>\n",
              "      <td>1</td>\n",
              "    </tr>\n",
              "  </tbody>\n",
              "</table>\n",
              "<p>46239 rows × 3 columns</p>\n",
              "</div>"
            ],
            "text/plain": [
              "      context target label\n",
              "0           8    142     1\n",
              "1          87    961     1\n",
              "2          26    187     1\n",
              "3          67     60     1\n",
              "4        1884    570     0\n",
              "...       ...    ...   ...\n",
              "46234    1405     10     1\n",
              "46235      88      4     1\n",
              "46236     386     50     1\n",
              "46237      16     21     1\n",
              "46238     813     55     1\n",
              "\n",
              "[46239 rows x 3 columns]"
            ]
          },
          "metadata": {
            "tags": []
          },
          "execution_count": 48
        }
      ]
    },
    {
      "cell_type": "code",
      "metadata": {
        "colab": {
          "base_uri": "https://localhost:8080/"
        },
        "id": "07tNY2ATfovM",
        "outputId": "63d886e3-e812-407f-ba17-ac5c139e4462"
      },
      "source": [
        "from google.colab import drive\n",
        "drive.mount('/content/gdrive')"
      ],
      "execution_count": null,
      "outputs": [
        {
          "output_type": "stream",
          "text": [
            "Drive already mounted at /content/gdrive; to attempt to forcibly remount, call drive.mount(\"/content/gdrive\", force_remount=True).\n"
          ],
          "name": "stdout"
        }
      ]
    },
    {
      "cell_type": "code",
      "metadata": {
        "id": "8IV0L5jWZ2Kc"
      },
      "source": [
        "df_last_num.to_csv('df_last_num.csv', index=False)\n",
        "files.download('df_last_num.csv')\n",
        "\n",
        "df_last.to_csv('df_last.csv', index=False)\n",
        "files.download('df_last.csv')"
      ],
      "execution_count": null,
      "outputs": []
    },
    {
      "cell_type": "code",
      "metadata": {
        "id": "RVsZOyBOv8gc"
      },
      "source": [
        "train_perc = 0.6\n",
        "val_test_perc = 0.2\n",
        "n_train = int(train_perc*len(df_last))\n",
        "n_val = int((train_perc+val_test_perc)*len(df_last))\n",
        "\n",
        "train_text = df_last[:n_train]\n",
        "val_text = df_last[n_train:n_val]\n",
        "test_text = df_last[n_val:]\n",
        "\n",
        "train_text.to_csv('train_text.csv', index=False)\n",
        "files.download('train_text.csv')\n",
        "\n",
        "val_text.to_csv('val_text.csv', index=False)\n",
        "files.download('val_text.csv')\n",
        "\n",
        "test_text.to_csv('test_text.csv', index=False)\n",
        "files.download('test_text.csv')"
      ],
      "execution_count": null,
      "outputs": []
    },
    {
      "cell_type": "code",
      "metadata": {
        "id": "gPwBDUiHwWta"
      },
      "source": [
        "train_num = df_last_num[:n_train]\n",
        "val_num = df_last_num[n_train:n_val]\n",
        "test_num = df_last_num[n_val:]\n",
        "\n",
        "train_num.to_csv('train_num.csv', index=False)\n",
        "files.download('train_num.csv')\n",
        "\n",
        "val_num.to_csv('val_num.csv', index=False)\n",
        "files.download('val_num.csv')\n",
        "\n",
        "test_num.to_csv('test_num.csv', index=False)\n",
        "files.download('test_num.csv')"
      ],
      "execution_count": null,
      "outputs": []
    },
    {
      "cell_type": "code",
      "metadata": {
        "id": "bDnW0whW0zVL"
      },
      "source": [
        "df_last['ct'] = df_last['context'] + ' ' + df_last['target']\n",
        "df_last = df_last[['ct', 'label']]"
      ],
      "execution_count": null,
      "outputs": []
    },
    {
      "cell_type": "code",
      "metadata": {
        "id": "keS5ocAr07jl"
      },
      "source": [
        "from google.colab import files\n",
        "train = df_last[:n_train]\n",
        "val = df_last[n_train:n_val]\n",
        "test = df_last[n_val:]\n",
        "\n",
        "train.to_csv('train.csv', index=False)\n",
        "files.download('train.csv')\n",
        "\n",
        "val.to_csv('val.csv', index=False)\n",
        "files.download('val.csv')\n",
        "\n",
        "test.to_csv('test.csv', index=False)\n",
        "files.download('test.csv')"
      ],
      "execution_count": null,
      "outputs": []
    },
    {
      "cell_type": "markdown",
      "metadata": {
        "id": "o-gESwQOBMSI"
      },
      "source": [
        "##2. Preprocessing and Data Loader\n"
      ]
    },
    {
      "cell_type": "code",
      "metadata": {
        "id": "b5Bg68NBnbVP"
      },
      "source": [
        "import pandas as pd\n",
        "import numpy as np\n",
        "import torch\n",
        "import torchvision\n",
        "import torch.nn as nn\n",
        "import torch.nn.functional as F\n",
        "import torch.optim as optim \n",
        "from torchvision.transforms import transforms\n",
        "from torch.utils.data import DataLoader\n",
        "from torch.utils.data import Dataset"
      ],
      "execution_count": null,
      "outputs": []
    },
    {
      "cell_type": "code",
      "metadata": {
        "colab": {
          "base_uri": "https://localhost:8080/"
        },
        "id": "bQohA6iDE9Ie",
        "outputId": "f7b0c626-9ed5-448f-a356-b9cd885ac327"
      },
      "source": [
        "from google.colab import drive\n",
        "drive.mount('/content/gdrive/')"
      ],
      "execution_count": null,
      "outputs": [
        {
          "output_type": "stream",
          "text": [
            "Drive already mounted at /content/gdrive/; to attempt to forcibly remount, call drive.mount(\"/content/gdrive/\", force_remount=True).\n"
          ],
          "name": "stdout"
        }
      ]
    },
    {
      "cell_type": "code",
      "metadata": {
        "id": "SECZmY4wncol"
      },
      "source": [
        "def get_device():\n",
        "    if torch.cuda.is_available():\n",
        "        device = 'cuda:0'\n",
        "    else:\n",
        "        device = 'cpu'\n",
        "    return device\n",
        "device = get_device()"
      ],
      "execution_count": null,
      "outputs": []
    },
    {
      "cell_type": "markdown",
      "metadata": {
        "id": "iMqzn1FV62OU"
      },
      "source": [
        "In this part, I tried to make dataloader using the data which is made by Alice in Wonderland Books by appliying subsampling, negative sampling etc. Firstly, I want to make sure that the data form is usable in this part. So, I downloaded several versions of data. First data form consists of words' indexes which are unique values for each unique word and has a label. Second form consists first forms word i.e. original version. Third and last one consists context and target word's combinations and labels. I tried all of these datasets in the later part. In this part I use below steps:\n",
        "\n",
        "1) First I create Field for Context and TARGET, and LabelField for LABEL.\n",
        "\n",
        "2) And then using TabularDataset.splits I call the train, validation and test sets from the corresponding folder.\n",
        "\n",
        "3) After that I built the vocab for CONTEXT,TARGET and LABEL using all train, validation and test datasets together.\n",
        "\n",
        "4) Using next and iter, I made batches for train, validation and test iterations.\n",
        "\n"
      ]
    },
    {
      "cell_type": "code",
      "metadata": {
        "id": "VplZN_oOBTEz"
      },
      "source": [
        "model_data = pd.read_csv(\"/content/gdrive/MyDrive/IS784_Assignment2_data/df_last.csv\")\n",
        "model_data_num = pd.read_csv(\"/content/gdrive/MyDrive/IS784_Assignment2_data/df_last_num.csv\")\n",
        "\n",
        "#train_text = pd.read_csv(\"/content/gdrive/MyDrive/IS784_Assignment2_data/train_text.csv\")\n",
        "#val_text = pd.read_csv(\"/content/gdrive/MyDrive/IS784_Assignment2_data/val_text.csv\")\n",
        "#test_text = pd.read_csv(\"/content/gdrive/MyDrive/IS784_Assignment2_data/test_text.csv\")\n",
        "\n",
        "#train_num = pd.read_csv(\"/content/gdrive/MyDrive/IS784_Assignment2_data/train_num.csv\")\n",
        "#val_num = pd.read_csv(\"/content/gdrive/MyDrive/IS784_Assignment2_data/val_num.csv\")\n",
        "#test_num = pd.read_csv(\"/content/gdrive/MyDrive/IS784_Assignment2_data/test_num.csv\")"
      ],
      "execution_count": null,
      "outputs": []
    },
    {
      "cell_type": "code",
      "metadata": {
        "id": "PEqdkG8kxGrV"
      },
      "source": [
        "from torchtext.legacy import data\n",
        "from torchtext.legacy import datasets\n",
        "\n",
        "CONTEXT = data.Field(use_vocab=True)\n",
        "#TARGET = data.Field(use_vocab=True)\n",
        "LABEL = data.LabelField()"
      ],
      "execution_count": null,
      "outputs": []
    },
    {
      "cell_type": "code",
      "metadata": {
        "id": "SRUPtsQAxjhg"
      },
      "source": [
        "fields = [('context', CONTEXT), ('label', LABEL)]"
      ],
      "execution_count": null,
      "outputs": []
    },
    {
      "cell_type": "code",
      "metadata": {
        "id": "KCJDkQJxq0K1"
      },
      "source": [
        "train_data, valid_data, test_data = data.TabularDataset.splits(\n",
        "                                        path = '/content/gdrive/MyDrive/IS784_Assignment2_data',\n",
        "                                        train = 'train.csv',\n",
        "                                        validation = 'val.csv',\n",
        "                                        test = 'test.csv',\n",
        "                                        format = 'csv',\n",
        "                                        fields = fields,\n",
        "                                        skip_header = True\n",
        ")"
      ],
      "execution_count": null,
      "outputs": []
    },
    {
      "cell_type": "code",
      "metadata": {
        "id": "uWKciXbAEINI"
      },
      "source": [
        "CONTEXT.build_vocab(train_data,valid_data,test_data)\n",
        "#TARGET.build_vocab(train_data,valid_data,test_data)\n",
        "LABEL.build_vocab(train_data,valid_data,test_data)"
      ],
      "execution_count": null,
      "outputs": []
    },
    {
      "cell_type": "code",
      "metadata": {
        "colab": {
          "base_uri": "https://localhost:8080/"
        },
        "id": "tVY0k-PomwNo",
        "outputId": "37e3847c-c713-4721-d6ed-3255a2a49f63"
      },
      "source": [
        "print(CONTEXT.vocab.stoi)"
      ],
      "execution_count": null,
      "outputs": [
        {
          "output_type": "stream",
          "text": [
            "defaultdict(<bound method Vocab._default_unk_index of <torchtext.vocab.Vocab object at 0x7fe7afe56f50>>, {'<unk>': 0, '<pad>': 1, 'as': 2, 'her': 3, 'nt': 4, 'at': 5, 's': 6, 'on': 7, 'had': 8, 'with': 9, 'all': 10, 'but': 11, 'for': 12, 'they': 13, 'so': 14, 'be': 15, 'not': 16, 'very': 17, 'do': 18, 'what': 19, 'this': 20, 'little': 21, 'he': 22, 'is': 23, 'out': 24, 'one': 25, 'down': 26, 'there': 27, 'up': 28, 'if': 29, 'would': 30, 'his': 31, 'then': 32, 'about': 33, 'no': 34, 'have': 35, 'know': 36, 'them': 37, 'could': 38, 'were': 39, 'went': 40, 'like': 41, 'again': 42, 'herself': 43, 'or': 44, 'when': 45, 'did': 46, 'queen': 47, 'thought': 48, 'off': 49, 'the': 50, 'time': 51, 'how': 52, 'me': 53, 'into': 54, 'see': 55, 'm': 56, 'who': 57, 'king': 58, 'your': 59, 'well': 60, 'now': 61, 'turtle': 62, 'my': 63, 'began': 64, 'an': 65, 'its': 66, 'by': 67, 'll': 68, 'gryphon': 69, 'mock': 70, 'quite': 71, 'hatter': 72, 'are': 73, 'think': 74, 'way': 75, 'just': 76, 'here': 77, 'their': 78, 'say': 79, 'first': 80, 'head': 81, 'much': 82, 'which': 83, 'and': 84, 'some': 85, 'go': 86, 'only': 87, 'thing': 88, 'never': 89, 'rabbit': 90, 'voice': 91, 'come': 92, 'more': 93, 'get': 94, 'to': 95, 'looked': 96, 'got': 97, 'oh': 98, 've': 99, 'him': 100, 'must': 101, 'a': 102, 'mouse': 103, 'it': 104, 'duchess': 105, 'she': 106, 'round': 107, 'such': 108, 'after': 109, 'dormouse': 110, 'tone': 111, 'i': 112, 'why': 113, 'over': 114, 'any': 115, 'other': 116, 'came': 117, 'great': 118, 'of': 119, 're': 120, 'before': 121, 'back': 122, 'said': 123, 'been': 124, 'two': 125, 'cat': 126, 'can': 127, 'from': 128, 'you': 129, 'alice': 130, 'march': 131, 'nothing': 132, 'will': 133, 'in': 134, 'once': 135, 'was': 136, 'we': 137, 'last': 138, 'large': 139, 'found': 140, 'long': 141, 'tell': 142, 'put': 143, 'hare': 144, 'that': 145, 'moment': 146, 'should': 147, 'things': 148, 'right': 149, 'next': 150, 'door': 151, 'heard': 152, 'looking': 153, 'made': 154, 'dear': 155, 'eyes': 156, 'white': 157, 'ca': 158, 'make': 159, 'might': 160, 'replied': 161, 'look': 162, 'd': 163, 'caterpillar': 164, 'seemed': 165, 'going': 166, 'poor': 167, 'without': 168, 'three': 169, 'too': 170, 'upon': 171, 'away': 172, 'soon': 173, 'yet': 174, 'wo': 175, 'day': 176, 'does': 177, 'course': 178, 'shall': 179, 'than': 180, 'took': 181, 'while': 182, 'rather': 183, 'sure': 184, 'same': 185, 'good': 186, 'added': 187, 'felt': 188, 'another': 189, 'getting': 190, 'let': 191, 'take': 192, 'minute': 193, 'ever': 194, 'find': 195, 'half': 196, 'wish': 197, 'words': 198, 'cried': 199, 'however': 200, 'hand': 201, 'till': 202, 'anything': 203, 'being': 204, 'sort': 205, 'tried': 206, 'wonder': 207, 'curious': 208, 'please': 209, 'old': 210, 'feet': 211, 'even': 212, 'court': 213, 'enough': 214, 'something': 215, 'eat': 216, 'end': 217, 'table': 218, 'talking': 219, 'use': 220, 'bill': 221, 'asked': 222, 'house': 223, 'jury': 224, 'perhaps': 225, 'question': 226, 'sat': 227, 'side': 228, 'soup': 229, 'spoke': 230, 'indeed': 231, 'turned': 232, 'hastily': 233, 'under': 234, 'garden': 235, 'idea': 236, 'near': 237, 'am': 238, 'face': 239, 'where': 240, 'bit': 241, 'called': 242, 'gave': 243, 'high': 244, 'seen': 245, 'done': 246, 'knew': 247, 'because': 248, 'better': 249, 'silence': 250, 'speak': 251, 'through': 252, 'us': 253, 'both': 254, 'itself': 255, 'low': 256, 'air': 257, 'everything': 258, 'hear': 259, 'left': 260, 'ought': 261, 'ran': 262, 'talk': 263, 'anxiously': 264, 'beginning': 265, 'certainly': 266, 'cook': 267, 'dinah': 268, 'game': 269, 'kept': 270, 'mad': 271, 'may': 272, 'remember': 273, 'saying': 274, 'yes': 275, 'change': 276, 'dance': 277, 'grow': 278, 'really': 279, 'room': 280, 'saw': 281, 'set': 282, 'these': 283, 'trying': 284, 'used': 285, 'always': 286, 'close': 287, 'dodo': 288, 'still': 289, 'behind': 290, 'best': 291, 'cats': 292, 'far': 293, 'size': 294, 'suddenly': 295, 'tea': 296, 'baby': 297, 'begin': 298, 'deal': 299, 'hands': 300, 'people': 301, 'among': 302, 'sea': 303, 'suppose': 304, 'whole': 305, 'give': 306, 'gone': 307, 'life': 308, 'pigeon': 309, 'try': 310, 'turning': 311, 'afraid': 312, 'arm': 313, 'beautiful': 314, 'many': 315, 'else': 316, 'hardly': 317, 'majesty': 318, 'finished': 319, 'growing': 320, 'keep': 321, 'every': 322, 'gloves': 323, 'mind': 324, 'ask': 325, 'footman': 326, 'hurried': 327, 'makes': 328, 'pool': 329, 'whether': 330, 'minutes': 331, 'nearly': 332, 'offended': 333, 'queer': 334, 'thinking': 335, 'though': 336, 'waited': 337, 'word': 338, 'yourself': 339, 'either': 340, 'fan': 341, 'glad': 342, 'hold': 343, 'hurry': 344, 'tears': 345, 'explain': 346, 'heads': 347, 'read': 348, 'remark': 349, 'sight': 350, 'sitting': 351, 'birds': 352, 'lessons': 353, 'mean': 354, 'mouth': 355, 'small': 356, 'those': 357, 'believe': 358, 'child': 359, 'children': 360, 'creatures': 361, 'remarked': 362, 'repeated': 363, 'rest': 364, 'soldiers': 365, 'turn': 366, 'angrily': 367, 'conversation': 368, 'foot': 369, 'has': 370, 'opened': 371, 'own': 372, 'rate': 373, 'sister': 374, 'tail': 375, 'witness': 376, 'answer': 377, 'bottle': 378, 'eagerly': 379, 'glass': 380, 'hall': 381, 'having': 382, 'interrupted': 383, 'key': 384, 'matter': 385, 'asleep': 386, 'call': 387, 'cheshire': 388, 'continued': 389, 'few': 390, 'leave': 391, 'our': 392, 'serpent': 393, 'shook': 394, 'waiting': 395, 'want': 396, 'join': 397, 'knave': 398, 'making': 399, 'mine': 400, 'together': 401, 'trial': 402, 'against': 403, 'coming': 404, 'different': 405, 'each': 406, 'help': 407, 'lying': 408, 'name': 409, 'puzzled': 410, 'reason': 411, 'shouted': 412, 'walked': 413, 'appeared': 414, 'distance': 415, 'dry': 416, 'hard': 417, 'least': 418, 'party': 419, 'play': 420, 'ready': 421, 'slowly': 422, 'changed': 423, 'exactly': 424, 'fancy': 425, 'feel': 426, 'happen': 427, 'hearts': 428, 'larger': 429, 'nose': 430, 'repeat': 431, 'seem': 432, 'timidly': 433, 'watch': 434, 'william': 435, 'work': 436, 'beg': 437, 'everybody': 438, 'fact': 439, 'five': 440, 'live': 441, 'meaning': 442, 'most': 443, 'myself': 444, 'nonsense': 445, 'opportunity': 446, 'pig': 447, 'place': 448, 'pleased': 449, 'slates': 450, 'story': 451, 'whiting': 452, 'wood': 453, 'gardeners': 454, 'goes': 455, 'history': 456, 'moral': 457, 'noticed': 458, 'running': 459, 'silent': 460, 'sit': 461, 'twinkle': 462, 'begun': 463, 'draw': 464, 'feeling': 465, 'frightened': 466, 'hair': 467, 'hedgehog': 468, 'kind': 469, 'learn': 470, 'listen': 471, 'lobsters': 472, 'loud': 473, 'neck': 474, 'nobody': 475, 'pepper': 476, 'stand': 477, 'surprised': 478, 'window': 479, 'world': 480, 'book': 481, 'chin': 482, 'drink': 483, 'exclaimed': 484, 'fall': 485, 'followed': 486, 'generally': 487, 'grown': 488, 'important': 489, 'manage': 490, 'mushroom': 491, 'others': 492, 'puppy': 493, 'sir': 494, 'trees': 495, 'wondering': 496, 'arms': 497, 'deep': 498, 'evidence': 499, 'golden': 500, 'happened': 501, 'lobster': 502, 'lory': 503, 'middle': 504, 'open': 505, 'shoes': 506, 'stood': 507, 'tarts': 508, 'tired': 509, 'top': 510, 'bright': 511, 'chorus': 512, 'dreadfully': 513, 'english': 514, 'eye': 515, 'fetch': 516, 'sha': 517, 'sleep': 518, 'somebody': 519, 'business': 520, 'dream': 521, 'father': 522, 'grin': 523, 'himself': 524, 'roof': 525, 'sing': 526, 'song': 527, 'soo': 528, 'stupid': 529, 'trembling': 530, 'written': 531, 'across': 532, 'adventures': 533, 'ah': 534, 'along': 535, 'breadandbutter': 536, 'executioner': 537, 'full': 538, 'jumped': 539, 'oop': 540, 'sentence': 541, 'seven': 542, 'sharp': 543, 'told': 544, 'treacle': 545, 'young': 546, 'croquet': 547, 'ear': 548, 'fell': 549, 'inches': 550, 'late': 551, 'leaves': 552, 'lizard': 553, 'marked': 554, 'nine': 555, 'pardon': 556, 'politely': 557, 'stop': 558, 'subject': 559, 'ten': 560, 'trouble': 561, 'understand': 562, 'wow': 563, 'youth': 564, 'between': 565, 'case': 566, 'chimney': 567, 'confusion': 568, 'flamingo': 569, 'four': 570, 'hot': 571, 'impatiently': 572, 'jurymen': 573, 'liked': 574, 'man': 575, 'melancholy': 576, 'nice': 577, 'piece': 578, 'shriek': 579, 'sometimes': 580, 'times': 581, 'write': 582, 'aloud': 583, 'angry': 584, 'become': 585, 'broken': 586, 'crowded': 587, 'executed': 588, 'forgotten': 589, 'ground': 590, 'home': 591, 'knee': 592, 'moved': 593, 'nervous': 594, 'procession': 595, 'simple': 596, 'sleepy': 597, 'sneezing': 598, 'speaking': 599, 'stay': 600, 'swim': 601, 'true': 602, 'wrong': 603, 'cut': 604, 'dare': 605, 'digging': 606, 'doing': 607, 'eggs': 608, 'faces': 609, 'fear': 610, 'finish': 611, 'interesting': 612, 'likely': 613, 'pack': 614, 'pair': 615, 'passed': 616, 'pocket': 617, 'prizes': 618, 'remembered': 619, 'reply': 620, 'seems': 621, 'shut': 622, 'swam': 623, 'unimportant': 624, 'verdict': 625, 'water': 626, 'waving': 627, 'almost': 628, 'asking': 629, 'beat': 630, 'curiosity': 631, 'difficulty': 632, 'dropped': 633, 'ears': 634, 'evening': 635, 'finger': 636, 'happens': 637, 'height': 638, 'hookah': 639, 'instantly': 640, 'less': 641, 'meant': 642, 'morning': 643, 'natural': 644, 'notice': 645, 'number': 646, 'officers': 647, 'rule': 648, 'sadly': 649, 'school': 650, 'sides': 651, 'sighed': 652, 'sounded': 653, 'sudden': 654, 'temper': 655, 'tree': 656, 'twice': 657, 'until': 658, 'usual': 659, 'walking': 660, 'whispered': 661, 'boots': 662, 'busily': 663, 'crowd': 664, 'deeply': 665, 'direction': 666, 'drew': 667, 'french': 668, 'hers': 669, 'kid': 670, 'means': 671, 'mouths': 672, 'new': 673, 'often': 674, 'paws': 675, 'puzzling': 676, 'quietly': 677, 'sigh': 678, 'strange': 679, 'taking': 680, 'twelve': 681, 'twinkling': 682, 'walk': 683, 'writing': 684, 'altogether': 685, 'animals': 686, 'arches': 687, 'begins': 688, 'capital': 689, 'cause': 690, 'corner': 691, 'dish': 692, 'fish': 693, 'guineapigs': 694, 'hearing': 695, 'hunting': 696, 'indignantly': 697, 'mary': 698, 'mice': 699, 'nearer': 700, 'none': 701, 'paper': 702, 'particular': 703, 'peeped': 704, 'short': 705, 'sounds': 706, 't': 707, 'thimble': 708, 'wanted': 709, 'age': 710, 'alone': 711, 'ann': 712, 'besides': 713, 'bowed': 714, 'box': 715, 'chance': 716, 'confused': 717, 'consider': 718, 'duck': 719, 'escape': 720, 'except': 721, 'fond': 722, 'grass': 723, 'jumping': 724, 'jurybox': 725, 'led': 726, 'love': 727, 'nibbling': 728, 'ootiful': 729, 'otherwise': 730, 'pale': 731, 'passage': 732, 'person': 733, 'porpoise': 734, 'quadrille': 735, 'rosetree': 736, 'shrinking': 737, 'sobs': 738, 'solemnly': 739, 'sound': 740, 'stick': 741, 'suppressed': 742, 'surprise': 743, 'taught': 744, 'thank': 745, 'thoughtfully': 746, 'today': 747, 'ventured': 748, 'violently': 749, 'watching': 750, 'yer': 751, 'argument': 752, 'bottom': 753, 'breath': 754, 'catch': 755, 'crash': 756, 'dark': 757, 'fast': 758, 'frowning': 759, 'fury': 760, 'held': 761, 'honour': 762, 'hours': 763, 'hungry': 764, 'jurors': 765, 'knowledge': 766, 'lay': 767, 'lives': 768, 'mabel': 769, 'miss': 770, 'moving': 771, 'obliged': 772, 'owl': 773, 'perfectly': 774, 'pictures': 775, 'plan': 776, 'players': 777, 'pointing': 778, 'pray': 779, 'questions': 780, 'reach': 781, 'several': 782, 'severely': 783, 'shoulder': 784, 'shoulders': 785, 'shrill': 786, 'sky': 787, 'tale': 788, 'tiny': 789, 'verses': 790, 'worth': 791, 'alas': 792, 'bring': 793, 'butter': 794, 'cake': 795, 'cakes': 796, 'care': 797, 'checked': 798, 'creature': 799, 'crumbs': 800, 'days': 801, 'dead': 802, 'decidedly': 803, 'dogs': 804, 'earth': 805, 'fellow': 806, 'filled': 807, 'floor': 808, 'free': 809, 'fun': 810, 'funny': 811, 'grand': 812, 'grunted': 813, 'hush': 814, 'managed': 815, 'notion': 816, 'nursing': 817, 'ordered': 818, 'remarks': 819, 'savage': 820, 'says': 821, 'screamed': 822, 'second': 823, 'shore': 824, 'show': 825, 'since': 826, 'spectacles': 827, 'stairs': 828, 'stuff': 829, 'taken': 830, 'timid': 831, 'tongue': 832, 'uncomfortable': 833, 'vanished': 834, 'verse': 835, 'worse': 836, 'wrote': 837, 'alive': 838, 'bats': 839, 'beau': 840, 'beheaded': 841, 'cautiously': 842, 'choked': 843, 'considering': 844, 'courage': 845, 'courtiers': 846, 'crown': 847, 'doubt': 848, 'e': 849, 'easily': 850, 'execution': 851, 'fallen': 852, 'figure': 853, 'fire': 854, 'fit': 855, 'folded': 856, 'front': 857, 'girl': 858, 'green': 859, 'growl': 860, 'howling': 861, 'instance': 862, 'judge': 863, 'kitchen': 864, 'list': 865, 'lived': 866, 'muchness': 867, 'music': 868, 'muttered': 869, 'need': 870, 'nurse': 871, 'outside': 872, 'passion': 873, 'possibly': 874, 'pressed': 875, 'rabbithole': 876, 'real': 877, 'run': 878, 'serpents': 879, 'sharply': 880, 'solemn': 881, 'sorts': 882, 'speech': 883, 'staring': 884, 'succeeded': 885, 'tasted': 886, 'teacup': 887, 'tossing': 888, 'trumpet': 889, 'whatever': 890, 'whisper': 891, 'yours': 892, 'above': 893, 'attempt': 894, 'below': 895, 'breathe': 896, 'bringing': 897, 'caucusrace': 898, 'cheered': 899, 'civil': 900, 'collected': 901, 'cry': 902, 'decided': 903, 'delight': 904, 'dull': 905, 'eager': 906, 'earls': 907, 'em': 908, 'fly': 909, 'forgetting': 910, 'friends': 911, 'fur': 912, 'girls': 913, 'grinned': 914, 'guess': 915, 'hurt': 916, 'immediately': 917, 'lady': 918, 'later': 919, 'loudly': 920, 'met': 921, 'miles': 922, 'older': 923, 'panther': 924, 'parchment': 925, 'picked': 926, 'pinch': 927, 'plate': 928, 'plenty': 929, 'roses': 930, 'sad': 931, 'shaking': 932, 'simply': 933, 'somewhere': 934, 'sorrowful': 935, 'spread': 936, 'startled': 937, 'straight': 938, 'sulky': 939, 'toes': 940, 'turns': 941, 'voices': 942, 'wake': 943, 'washing': 944, 'week': 945, 'wig': 946, 'yawning': 947, 'advantage': 948, 'alarm': 949, 'animal': 950, 'archbishop': 951, 'attending': 952, 'bat': 953, 'blow': 954, 'boy': 955, 'candle': 956, 'cards': 957, 'carrying': 958, 'caught': 959, 'changes': 960, 'confusing': 961, 'conqueror': 962, 'considered': 963, 'content': 964, 'crab': 965, 'croquetground': 966, 'crossed': 967, 'cupboards': 968, 'curled': 969, 'delighted': 970, 'delightful': 971, 'doth': 972, 'eaglet': 973, 'effect': 974, 'elbow': 975, 'expecting': 976, 'finding': 977, 'follows': 978, 'friend': 979, 'further': 980, 'hanging': 981, 'hedgehogs': 982, 'hoping': 983, 'joined': 984, 'kick': 985, 'knocking': 986, 'letter': 987, 'longer': 988, 'master': 989, 'meekly': 990, 'mentioned': 991, 'merrily': 992, 'mistake': 993, 'move': 994, 'muttering': 995, 'nicely': 996, 'night': 997, 'noise': 998, 'nor': 999, 'o': 1000, 'oclock': 1001, 'opening': 1002, 'order': 1003, 'outoftheway': 1004, 'panting': 1005, 'pieces': 1006, 'pity': 1007, 'pleaded': 1008, 'poison': 1009, 'present': 1010, 'proper': 1011, 'reading': 1012, 'remained': 1013, 'repeating': 1014, 'scream': 1015, 'secondly': 1016, 'sell': 1017, 'sighing': 1018, 'slipped': 1019, 'smaller': 1020, 'smiled': 1021, 'smoking': 1022, 'snail': 1023, 'sobbing': 1024, 'themselves': 1025, 'tillie': 1026, 'tucked': 1027, 'unrolled': 1028, 'venture': 1029, 'whiskers': 1030, 'addressed': 1031, 'advance': 1032, 'advisable': 1033, 'allow': 1034, 'answered': 1035, 'anxious': 1036, 'around': 1037, 'assembled': 1038, 'belongs': 1039, 'bird': 1040, 'brought': 1041, 'carefully': 1042, 'carried': 1043, 'cauldron': 1044, 'certain': 1045, 'curiouser': 1046, 'dears': 1047, 'denied': 1048, 'directions': 1049, 'dog': 1050, 'doubtfully': 1051, 'easy': 1052, 'edge': 1053, 'edwin': 1054, 'executions': 1055, 'falling': 1056, 'fountains': 1057, 'general': 1058, 'gravely': 1059, 'guessed': 1060, 'guests': 1061, 'handed': 1062, 'hate': 1063, 'heavy': 1064, 'hedge': 1065, 'hoarse': 1066, 'holding': 1067, 'hope': 1068, 'ignorant': 1069, 'impossible': 1070, 'legs': 1071, 'listening': 1072, 'livery': 1073, 'ma': 1074, 'manner': 1075, 'matters': 1076, 'mercia': 1077, 'ornamented': 1078, 'painting': 1079, 'pat': 1080, 'patiently': 1081, 'pattering': 1082, 'paw': 1083, 'proud': 1084, 'proved': 1085, 'putting': 1086, 'rapidly': 1087, 'rush': 1088, 'sense': 1089, 'settled': 1090, 'shower': 1091, 'showing': 1092, 'slate': 1093, 'smiling': 1094, 'stopped': 1095, 'suit': 1096, 'tails': 1097, 'teaparty': 1098, 'telescope': 1099, 'thoughts': 1100, 'throw': 1101, 'throwing': 1102, 'tiptoe': 1103, 'tis': 1104, 'tortoise': 1105, 'twelfth': 1106, 'unfortunate': 1107, 'upset': 1108, 'using': 1109, 'wherever': 1110, 'yesterday': 1111, 'absurd': 1112, 'afterwards': 1113, 'also': 1114, 'bank': 1115, 'beautify': 1116, 'bend': 1117, 'broke': 1118, 'choice': 1119, 'chose': 1120, 'clever': 1121, 'closed': 1122, 'comfits': 1123, 'conclusion': 1124, 'crimson': 1125, 'crying': 1126, 'cushion': 1127, 'custody': 1128, 'deny': 1129, 'dinner': 1130, 'directly': 1131, 'distant': 1132, 'experiment': 1133, 'explanation': 1134, 'fancied': 1135, 'feelings': 1136, 'fine': 1137, 'forgot': 1138, 'fright': 1139, 'gently': 1140, 'giving': 1141, 'grave': 1142, 'halfpast': 1143, 'hint': 1144, 'hm': 1145, 'introduce': 1146, 'jaws': 1147, 'label': 1148, 'laid': 1149, 'laughed': 1150, 'law': 1151, 'leaning': 1152, 'lie': 1153, 'locks': 1154, 'lost': 1155, 'mark': 1156, 'maybe': 1157, 'missed': 1158, 'mixed': 1159, 'month': 1160, 'mystery': 1161, 'narrow': 1162, 'northumbria': 1163, 'notebook': 1164, 'nowhere': 1165, 'occurred': 1166, 'part': 1167, 'pebbles': 1168, 'position': 1169, 'proves': 1170, 'readily': 1171, 'regular': 1172, 'remarking': 1173, 'ringlets': 1174, 'royal': 1175, 'rules': 1176, 'sent': 1177, 'smile': 1178, 'sooner': 1179, 'splashing': 1180, 'splendidly': 1181, 'spoon': 1182, 'stamping': 1183, 'stirring': 1184, 'stoop': 1185, 'stretching': 1186, 'sun': 1187, 'swimming': 1188, 'treaclewell': 1189, 'ugly': 1190, 'uneasily': 1191, 'unhappy': 1192, 'upstairs': 1193, 'usually': 1194, 'velvet': 1195, 'wash': 1196, 'weak': 1197, 'whose': 1198, 'wide': 1199, 'wild': 1200, 'wine': 1201, 'within': 1202, 'won': 1203, 'wretched': 1204, 'ago': 1205, 'ashamed': 1206, 'atom': 1207, 'authority': 1208, 'bad': 1209, 'bark': 1210, 'bear': 1211, 'beating': 1212, 'blew': 1213, 'body': 1214, 'brightened': 1215, 'busy': 1216, 'caused': 1217, 'clear': 1218, 'complaining': 1219, 'concert': 1220, 'concluded': 1221, 'contemptuously': 1222, 'dainties': 1223, 'dancing': 1224, 'declare': 1225, 'denies': 1226, 'difficult': 1227, 'dipped': 1228, 'directed': 1229, 'disappeared': 1230, 'dishes': 1231, 'dispute': 1232, 'dodged': 1233, 'eel': 1234, 'encouraging': 1235, 'extremely': 1236, 'fight': 1237, 'fitted': 1238, 'flat': 1239, 'forehead': 1240, 'fortunately': 1241, 'frog': 1242, 'goldfish': 1243, 'heart': 1244, 'hurriedly': 1245, 'ill': 1246, 'instead': 1247, 'interrupting': 1248, 'invitation': 1249, 'invited': 1250, 'jar': 1251, 'knows': 1252, 'lap': 1253, 'latitude': 1254, 'learning': 1255, 'lefthand': 1256, 'length': 1257, 'living': 1258, 'meet': 1259, 'messages': 1260, 'minded': 1261, 'mostly': 1262, 'neither': 1263, 'obstacle': 1264, 'offer': 1265, 'pennyworth': 1266, 'personal': 1267, 'picking': 1268, 'places': 1269, 'prisoner': 1270, 'quickly': 1271, 'race': 1272, 'railway': 1273, 'raving': 1274, 'red': 1275, 'relief': 1276, 'resting': 1277, 'returned': 1278, 'righthand': 1279, 'rome': 1280, 'safe': 1281, 'shaped': 1282, 'singers': 1283, 'snatch': 1284, 'sneezes': 1285, 'spreading': 1286, 'squeaking': 1287, 'started': 1288, 'stretched': 1289, 'suet': 1290, 'takes': 1291, 'taller': 1292, 'telling': 1293, 'tells': 1294, 'theirs': 1295, 'thistle': 1296, 'threw': 1297, 'thump': 1298, 'triumphantly': 1299, 'tumbling': 1300, 'tureen': 1301, 'twentyfour': 1302, 'uglification': 1303, 'useful': 1304, 'waist': 1305, 'wandered': 1306, 'wandering': 1307, 'whereupon': 1308, 'wildly': 1309, 'wind': 1310, 'wink': 1311, 'wise': 1312, 'yawned': 1313, 'year': 1314, 'acceptance': 1315, 'accident': 1316, 'advice': 1317, 'anger': 1318, 'appear': 1319, 'apples': 1320, 'arch': 1321, 'barrowful': 1322, 'beautifully': 1323, 'bite': 1324, 'bitter': 1325, 'blacking': 1326, 'blasts': 1327, 'bookshelves': 1328, 'bother': 1329, 'branches': 1330, 'brass': 1331, 'brave': 1332, 'breadknife': 1333, 'break': 1334, 'brown': 1335, 'canterbury': 1336, 'cares': 1337, 'changing': 1338, 'charges': 1339, 'clock': 1340, 'coaxing': 1341, 'comfort': 1342, 'conduct': 1343, 'corners': 1344, 'cries': 1345, 'cross': 1346, 'cup': 1347, 'curtain': 1348, 'curtseying': 1349, 'cutting': 1350, 'delay': 1351, 'dinn': 1352, 'doubtful': 1353, 'dozing': 1354, 'drunk': 1355, 'elbows': 1356, 'entangled': 1357, 'entirely': 1358, 'exclamation': 1359, 'execute': 1360, 'executes': 1361, 'fashion': 1362, 'faster': 1363, 'ferrets': 1364, 'fishfootman': 1365, 'flamingoes': 1366, 'flew': 1367, 'follow': 1368, 'forget': 1369, 'goodbye': 1370, 'goose': 1371, 'guard': 1372, 'histories': 1373, 'hit': 1374, 'hopeful': 1375, 'hopeless': 1376, 'humbly': 1377, 'inside': 1378, 'invented': 1379, 'jellyfish': 1380, 'joys': 1381, 'knowing': 1382, 'learnt': 1383, 'lonely': 1384, 'lose': 1385, 'loveliest': 1386, 'luckily': 1387, 'magpie': 1388, 'mischief': 1389, 'mousetraps': 1390, 'neatly': 1391, 'nightair': 1392, 'ordering': 1393, 'pace': 1394, 'pardoned': 1395, 'persisted': 1396, 'pie': 1397, 'playing': 1398, 'pounds': 1399, 'prettier': 1400, 'purring': 1401, 'quick': 1402, 'recovered': 1403, 'remarkable': 1404, 'removed': 1405, 'rose': 1406, 'rubbing': 1407, 'rude': 1408, 'seldom': 1409, 'sending': 1410, 'sensation': 1411, 'series': 1412, 'shilling': 1413, 'shorter': 1414, 'shouting': 1415, 'shutting': 1416, 'skirt': 1417, 'sneeze': 1418, 'sobbed': 1419, 'stole': 1420, 'stopping': 1421, 'sugar': 1422, 'sulkily': 1423, 'teacups': 1424, 'terms': 1425, 'thousand': 1426, 'throat': 1427, 'tide': 1428, 'treading': 1429, 'trembled': 1430, 'turtles': 1431, 'twentieth': 1432, 'ugh': 1433, 'uncomfortably': 1434, 'undertone': 1435, 'unpleasant': 1436, 'violent': 1437, 'waistcoatpocket': 1438, 'wants': 1439, 'waste': 1440, 'wet': 1441, 'wonderland': 1442, 'wore': 1443, 'worm': 1444, 'wrapping': 1445, 'accustomed': 1446, 'act': 1447, 'actually': 1448, 'agree': 1449, 'already': 1450, 'argue': 1451, 'arminarm': 1452, 'arrow': 1453, 'atheling': 1454, 'awfully': 1455, 'backs': 1456, 'banks': 1457, 'beak': 1458, 'beasts': 1459, 'beauti': 1460, 'became': 1461, 'beds': 1462, 'begged': 1463, 'beheading': 1464, 'branch': 1465, 'bristling': 1466, 'burn': 1467, 'burst': 1468, 'buttercup': 1469, 'c': 1470, 'catching': 1471, 'chains': 1472, 'chatte': 1473, 'cheerfully': 1474, 'choke': 1475, 'circumstances': 1476, 'clamour': 1477, 'classics': 1478, 'claws': 1479, 'comes': 1480, 'contemptuous': 1481, 'contradicted': 1482, 'cool': 1483, 'counting': 1484, 'crossexamine': 1485, 'crouched': 1486, 'curls': 1487, 'doors': 1488, 'downwards': 1489, 'drive': 1490, 'earnestly': 1491, 'eaten': 1492, 'editions': 1493, 'eh': 1494, 'emphasis': 1495, 'entrance': 1496, 'extraordinary': 1497, 'fairytales': 1498, 'familiarly': 1499, 'fanning': 1500, 'fireirons': 1501, 'flappers': 1502, 'flowerpot': 1503, 'flowers': 1504, 'footsteps': 1505, 'fortytwo': 1506, 'fourteenth': 1507, 'france': 1508, 'furiously': 1509, 'glanced': 1510, 'gloomily': 1511, 'grief': 1512, 'helpless': 1513, 'hide': 1514, 'hour': 1515, 'incessantly': 1516, 'keeping': 1517, 'knife': 1518, 'known': 1519, 'lacie': 1520, 'ladder': 1521, 'lately': 1522, 'laugh': 1523, 'laughing': 1524, 'lazily': 1525, 'longed': 1526, 'loose': 1527, 'lovely': 1528, 'lowing': 1529, 'merely': 1530, 'mile': 1531, 'miserable': 1532, 'morals': 1533, 'morcar': 1534, 'mustard': 1535, 'nile': 1536, 'opposite': 1537, 'paris': 1538, 'pause': 1539, 'paused': 1540, 'pegs': 1541, 'pigs': 1542, 'pinched': 1543, 'placed': 1544, 'plates': 1545, 'pleasure': 1546, 'powdered': 1547, 'presently': 1548, 'producing': 1549, 'promising': 1550, 'pun': 1551, 'punching': 1552, 'queerest': 1553, 'quiet': 1554, 'rattling': 1555, 'raw': 1556, 'reaching': 1557, 'relieved': 1558, 'resource': 1559, 'respectable': 1560, 'respectful': 1561, 'riddles': 1562, 'ring': 1563, 'rise': 1564, 'roast': 1565, 'roughly': 1566, 'row': 1567, 'salt': 1568, 'sang': 1569, 'save': 1570, 'screaming': 1571, 'scroll': 1572, 'sh': 1573, 'shake': 1574, 'shakespeare': 1575, 'shillings': 1576, 'shingle': 1577, 'shrieks': 1578, 'sign': 1579, 'signed': 1580, 'singing': 1581, 'sisters': 1582, 'skimming': 1583, 'slatepencil': 1584, 'smallest': 1585, 'snorting': 1586, 'snout': 1587, 'sorrow': 1588, 'speed': 1589, 'standing': 1590, 'stingy': 1591, 'straightened': 1592, 'strength': 1593, 'struck': 1594, 'taste': 1595, 'teatime': 1596, 'teatray': 1597, 'thick': 1598, 'tidy': 1599, 'tones': 1600, 'trotting': 1601, 'tut': 1602, 'twenty': 1603, 'twist': 1604, 'unfolded': 1605, 'unless': 1606, 'unusually': 1607, 'unwillingly': 1608, 'vanishing': 1609, 'vinegar': 1610, 'wasting': 1611, 'watched': 1612, 'wept': 1613, 'woman': 1614, 'wonderful': 1615, 'wriggling': 1616, 'yelled': 1617, 'yelp': 1618, 'able': 1619, 'accounting': 1620, 'ache': 1621, 'addressing': 1622, 'adoption': 1623, 'affair': 1624, 'afore': 1625, 'ahem': 1626, 'altered': 1627, 'annoyed': 1628, 'answers': 1629, 'anywhere': 1630, 'appealed': 1631, 'appearing': 1632, 'argued': 1633, 'arrum': 1634, 'ate': 1635, 'attended': 1636, 'australia': 1637, 'backsomersault': 1638, 'balls': 1639, 'beloved': 1640, 'bent': 1641, 'birthday': 1642, 'blame': 1643, 'boon': 1644, 'bough': 1645, 'burning': 1646, 'butterfly': 1647, 'calmly': 1648, 'capering': 1649, 'carrier': 1650, 'cartwheels': 1651, 'character': 1652, 'cheap': 1653, 'chimneys': 1654, 'clinging': 1655, 'closely': 1656, 'comfortable': 1657, 'common': 1658, 'commotion': 1659, 'constant': 1660, 'country': 1661, 'crawling': 1662, 'creep': 1663, 'curving': 1664, 'daresay': 1665, 'dayschool': 1666, 'desperately': 1667, 'died': 1668, 'doze': 1669, 'drawing': 1670, 'drawling': 1671, 'drawlingmaster': 1672, 'dreadful': 1673, 'dried': 1674, 'dripping': 1675, 'dropping': 1676, 'eating': 1677, 'eats': 1678, 'edgar': 1679, 'egg': 1680, 'encourage': 1681, 'excellent': 1682, 'expected': 1683, 'expressing': 1684, 'expression': 1685, 'faint': 1686, 'fainting': 1687, 'fair': 1688, 'fanned': 1689, 'farmyard': 1690, 'farther': 1691, 'fat': 1692, 'feared': 1693, 'feather': 1694, 'feathers': 1695, 'feeble': 1696, 'fender': 1697, 'fidgeted': 1698, 'fills': 1699, 'finds': 1700, 'fits': 1701, 'fixed': 1702, 'flinging': 1703, 'fluttered': 1704, 'flying': 1705, 'forepaws': 1706, 'frighten': 1707, 'gay': 1708, 'gazing': 1709, 'giddy': 1710, 'grant': 1711, 'grey': 1712, 'grinning': 1713, 'growling': 1714, 'guineapig': 1715, 'handwriting': 1716, 'hearthrug': 1717, 'heels': 1718, 'helped': 1719, 'hjckrrh': 1720, 'hoped': 1721, 'immediate': 1722, 'impertinent': 1723, 'inkstand': 1724, 'insult': 1725, 'introduced': 1726, 'justice': 1727, 'killing': 1728, 'kills': 1729, 'kindly': 1730, 'knot': 1731, 'lasted': 1732, 'lastly': 1733, 'laughter': 1734, 'lest': 1735, 'likes': 1736, 'line': 1737, 'lodging': 1738, 'longitude': 1739, 'lookout': 1740, 'loving': 1741, 'lullaby': 1742, 'mallets': 1743, 'measure': 1744, 'meat': 1745, 'milkjug': 1746, 'multiplication': 1747, 'names': 1748, 'noticing': 1749, 'oblong': 1750, 'offend': 1751, 'oldest': 1752, 'onions': 1753, 'orange': 1754, 'overcome': 1755, 'passing': 1756, 'passionate': 1757, 'patted': 1758, 'peeping': 1759, 'pepperbox': 1760, 'permitted': 1761, 'pet': 1762, 'pitied': 1763, 'positively': 1764, 'poured': 1765, 'practice': 1766, 'presents': 1767, 'printed': 1768, 'prison': 1769, 'proceed': 1770, 'processions': 1771, 'promised': 1772, 'proposal': 1773, 'pulled': 1774, 'push': 1775, 'quarrelling': 1776, 'rabbits': 1777, 'rattle': 1778, 'ravens': 1779, 'reasonable': 1780, 'refused': 1781, 'remedies': 1782, 'remembering': 1783, 'riper': 1784, 'rope': 1785, 'sand': 1786, 'sands': 1787, 'scaly': 1788, 'sends': 1789, 'sentenced': 1790, 'seriously': 1791, 'shape': 1792, 'shifting': 1793, 'shock': 1794, 'simpleton': 1795, 'sink': 1796, 'six': 1797, 'sizes': 1798, 'snappishly': 1799, 'sneezed': 1800, 'soft': 1801, 'softly': 1802, 'somehow': 1803, 'son': 1804, 'sorrows': 1805, 'squeezed': 1806, 'stalk': 1807, 'steady': 1808, 'steamengine': 1809, 'straightening': 1810, 'stupidly': 1811, 'summer': 1812, 'swallow': 1813, 'swallowing': 1814, 'terrier': 1815, 'thanked': 1816, 'thoroughly': 1817, 'threelegged': 1818, 'thunder': 1819, 'thunderstorm': 1820, 'tight': 1821, 'tinkling': 1822, 'tops': 1823, 'trampled': 1824, 'treat': 1825, 'tumbled': 1826, 'uncorked': 1827, 'underneath': 1828, 'unjust': 1829, 'unlocking': 1830, 'vague': 1831, 'wander': 1832, 'waterwell': 1833, 'ways': 1834, 'wider': 1835, 'wife': 1836, 'wondered': 1837, 'works': 1838, 'worried': 1839, 'zealand': 1840, 'zigzag': 1841, 'account': 1842, 'adding': 1843, 'advise': 1844, 'affectionately': 1845, 'alternately': 1846, 'ambition': 1847, 'ancient': 1848, 'arguments': 1849, 'armchair': 1850, 'attempts': 1851, 'attends': 1852, 'audibly': 1853, 'avoid': 1854, 'bag': 1855, 'bawled': 1856, 'beast': 1857, 'bed': 1858, 'bee': 1859, 'belong': 1860, 'blown': 1861, 'boldly': 1862, 'bone': 1863, 'bound': 1864, 'bowing': 1865, 'brighteyed': 1866, 'brother': 1867, 'burnt': 1868, 'buttered': 1869, 'canary': 1870, 'carry': 1871, 'carthorse': 1872, 'ceiling': 1873, 'cheated': 1874, 'choosing': 1875, 'chuckled': 1876, 'circle': 1877, 'clapping': 1878, 'cleared': 1879, 'closer': 1880, 'cold': 1881, 'company': 1882, 'completely': 1883, 'congereel': 1884, 'consented': 1885, 'consultation': 1886, 'couple': 1887, 'couples': 1888, 'coward': 1889, 'croqueted': 1890, 'daisychain': 1891, 'declared': 1892, 'denial': 1893, 'derision': 1894, 'die': 1895, 'distraction': 1896, 'doubledup': 1897, 'doubling': 1898, 'dreaming': 1899, 'drinking': 1900, 'educations': 1901, 'eels': 1902, 'elsie': 1903, 'empty': 1904, 'encouraged': 1905, 'ending': 1906, 'extra': 1907, 'failure': 1908, 'fairly': 1909, 'fancying': 1910, 'field': 1911, 'fifteen': 1912, 'figures': 1913, 'flung': 1914, 'form': 1915, 'forwards': 1916, 'frogfootman': 1917, 'frontispiece': 1918, 'fumbled': 1919, 'furious': 1920, 'furrows': 1921, 'games': 1922, 'gather': 1923, 'geography': 1924, 'goodnaturedly': 1925, 'graceful': 1926, 'gravy': 1927, 'growls': 1928, 'grumbled': 1929, 'happening': 1930, 'harm': 1931, 'hatching': 1932, 'hatters': 1933, 'herald': 1934, 'hippopotamus': 1935, 'hiss': 1936, 'hoarsely': 1937, 'hollow': 1938, 'humble': 1939, 'imagine': 1940, 'immense': 1941, 'improve': 1942, 'inclined': 1943, 'inquired': 1944, 'involved': 1945, 'irritated': 1946, 'jaw': 1947, 'juror': 1948, 'kettle': 1949, 'kill': 1950, 'kings': 1951, 'kneel': 1952, 'knock': 1953, 'knocked': 1954, 'labelled': 1955, 'lark': 1956, 'leaders': 1957, 'leap': 1958, 'learned': 1959, 'leaving': 1960, 'ledge': 1961, 'lessen': 1962, 'lessonbooks': 1963, 'licking': 1964, 'lit': 1965, 'london': 1966, 'losing': 1967, 'louder': 1968, 'lowspirited': 1969, 'magic': 1970, 'marmalade': 1971, 'memorandum': 1972, 'milk': 1973, 'minding': 1974, 'mineral': 1975, 'moon': 1976, 'morsel': 1977, 'mournfully': 1978, 'muddle': 1979, 'murdering': 1980, 'mustardmine': 1981, 'nasty': 1982, 'neighbouring': 1983, 'neverending': 1984, 'nevertheless': 1985, 'newspapers': 1986, 'normans': 1987, 'oneself': 1988, 'ours': 1989, 'overhead': 1990, 'pairs': 1991, 'partner': 1992, 'pass': 1993, 'past': 1994, 'patience': 1995, 'peering': 1996, 'pencils': 1997, 'piecrust': 1998, 'pineapple': 1999, 'plainly': 2000, 'played': 2001, 'pleases': 2002, 'pointed': 2003, 'poker': 2004, 'pop': 2005, 'pour': 2006, 'precious': 2007, 'pretend': 2008, 'produced': 2009, 'protection': 2010, 'purple': 2011, 'purpose': 2012, 'puss': 2013, 'queens': 2014, 'rats': 2015, 'raven': 2016, 'received': 2017, 'recognised': 2018, 'reeds': 2019, 'refreshments': 2020, 'reminding': 2021, 'respect': 2022, 'result': 2023, 'retire': 2024, 'ridge': 2025, 'ridiculous': 2026, 'rightly': 2027, 'rippling': 2028, 'roared': 2029, 'roots': 2030, 'sage': 2031, 'salmon': 2032, 'saucepans': 2033, 'saucer': 2034, 'saves': 2035, 'scale': 2036, 'search': 2037, 'seashore': 2038, 'secret': 2039, 'setting': 2040, 'settle': 2041, 'settling': 2042, 'severity': 2043, 'share': 2044, 'sharing': 2045, 'shedding': 2046, 'shiver': 2047, 'shrimp': 2048, 'shyly': 2049, 'signifies': 2050, 'sixpence': 2051, 'sixteenth': 2052, 'skyrocket': 2053, 'someone': 2054, 'sorry': 2055, 'splash': 2056, 'splashed': 2057, 'spoken': 2058, 'sprawling': 2059, 'squeeze': 2060, 'stockings': 2061, 'stool': 2062, 'tastes': 2063, 'teathings': 2064, 'telescopes': 2065, 'terror': 2066, 'thatched': 2067, 'throne': 2068, 'tie': 2069, 'tittered': 2070, 'toast': 2071, 'toffee': 2072, 'tonight': 2073, 'toys': 2074, 'treated': 2075, 'tremble': 2076, 'trickling': 2077, 'tricks': 2078, 'trims': 2079, 'trot': 2080, 'tuliproots': 2081, 'twinkled': 2082, 'uglifying': 2083, 'uncommon': 2084, 'understood': 2085, 'undo': 2086, 'undoing': 2087, 'untwist': 2088, 'upright': 2089, 'upsetting': 2090, 'visit': 2091, 'vote': 2092, 'wags': 2093, 'wait': 2094, 'weeks': 2095, 'whiles': 2096, 'whistle': 2097, 'wings': 2098, 'wits': 2099, 'writhing': 2100, 'writingdesk': 2101, 'yards': 2102, 'ye': 2103, 'ada': 2104, 'adjourn': 2105, 'afford': 2106, 'agony': 2107, 'annoy': 2108, 'appearance': 2109, 'applause': 2110, 'arranged': 2111, 'arrived': 2112, 'axis': 2113, 'barking': 2114, 'barleysugar': 2115, 'becoming': 2116, 'behead': 2117, 'believed': 2118, 'blades': 2119, 'bleeds': 2120, 'books': 2121, 'bore': 2122, 'boxed': 2123, 'brain': 2124, 'brandy': 2125, 'brush': 2126, 'brushing': 2127, 'cackled': 2128, 'calling': 2129, 'cardboard': 2130, 'centre': 2131, 'chief': 2132, 'choking': 2133, 'chop': 2134, 'christmas': 2135, 'chrysalis': 2136, 'clasped': 2137, 'clean': 2138, 'clearer': 2139, 'clearly': 2140, 'climb': 2141, 'clubs': 2142, 'collar': 2143, 'comfortably': 2144, 'condemn': 2145, 'conquest': 2146, 'conversations': 2147, 'crawled': 2148, 'crazy': 2149, 'crocodile': 2150, 'cucumberframes': 2151, 'cur': 2152, 'curly': 2153, 'currants': 2154, 'curtsey': 2155, 'dates': 2156, 'daughter': 2157, 'death': 2158, 'denying': 2159, 'depends': 2160, 'deserved': 2161, 'despair': 2162, 'desperate': 2163, 'diamonds': 2164, 'difficulties': 2165, 'disgust': 2166, 'disobey': 2167, 'downward': 2168, 'draggled': 2169, 'dreamed': 2170, 'dreamy': 2171, 'drop': 2172, 'eleventh': 2173, 'energetic': 2174, 'engraved': 2175, 'enjoy': 2176, 'enormous': 2177, 'esq': 2178, 'est': 2179, 'evidently': 2180, 'exact': 2181, 'examining': 2182, 'existence': 2183, 'explained': 2184, 'fading': 2185, 'family': 2186, 'favourite': 2187, 'fellows': 2188, 'fifteenth': 2189, 'fig': 2190, 'fishes': 2191, 'fix': 2192, 'flame': 2193, 'flapper': 2194, 'flashed': 2195, 'flavour': 2196, 'flowerbeds': 2197, 'flown': 2198, 'flurry': 2199, 'flustered': 2200, 'foolish': 2201, 'footmen': 2202, 'fryingpan': 2203, 'ful': 2204, 'given': 2205, 'glaring': 2206, 'goodnatured': 2207, 'grazed': 2208, 'grew': 2209, 'grins': 2210, 'growled': 2211, 'grunt': 2212, 'handsome': 2213, 'happy': 2214, 'haste': 2215, 'hated': 2216, 'hedges': 2217, 'hid': 2218, 'honest': 2219, 'houses': 2220, 'howled': 2221, 'hung': 2222, 'impatient': 2223, 'inquisitively': 2224, 'interest': 2225, 'interrupt': 2226, 'jackinthebox': 2227, 'judging': 2228, 'knelt': 2229, 'knuckles': 2230, 'languid': 2231, 'leant': 2232, 'lesson': 2233, 'lessonbook': 2234, 'letters': 2235, 'limbs': 2236, 'lines': 2237, 'linked': 2238, 'listeners': 2239, 'lock': 2240, 'locked': 2241, 'managing': 2242, 'manners': 2243, 'meeting': 2244, 'murder': 2245, 'muscular': 2246, 'nay': 2247, 'neat': 2248, 'neighbour': 2249, 'nodded': 2250, 'noises': 2251, 'odd': 2252, 'ones': 2253, 'paint': 2254, 'partners': 2255, 'patriotic': 2256, 'pattern': 2257, 'pence': 2258, 'pencil': 2259, 'persons': 2260, 'picture': 2261, 'pigbaby': 2262, 'pink': 2263, 'pleasanter': 2264, 'pleasing': 2265, 'pope': 2266, 'presented': 2267, 'pressing': 2268, 'pretending': 2269, 'pretexts': 2270, 'prize': 2271, 'pronounced': 2272, 'prove': 2273, 'provoking': 2274, 'pulling': 2275, 'punished': 2276, 'queerlooking': 2277, 'quiver': 2278, 'racecourse': 2279, 'rathole': 2280, 'reality': 2281, 'reasons': 2282, 'redhot': 2283, 'reduced': 2284, 'remaining': 2285, 'rich': 2286, 'riddle': 2287, 'ridges': 2288, 'rising': 2289, 'rustled': 2290, 'rustling': 2291, 'schoolroom': 2292, 'scratching': 2293, 'seaography': 2294, 'seated': 2295, 'shade': 2296, 'shared': 2297, 'shark': 2298, 'sheepbells': 2299, 'shiny': 2300, 'sits': 2301, 'slightest': 2302, 'smoke': 2303, 'solid': 2304, 'somersault': 2305, 'spades': 2306, 'speaker': 2307, 'spell': 2308, 'spite': 2309, 'spot': 2310, 'squeaked': 2311, 'starfish': 2312, 'state': 2313, 'station': 2314, 'stays': 2315, 'sternly': 2316, 'sticks': 2317, 'stiff': 2318, 'stigand': 2319, 'strings': 2320, 'subdued': 2321, 'subjects': 2322, 'submitted': 2323, 'suppress': 2324, 'swallowed': 2325, 'teeth': 2326, 'terribly': 2327, 'therefore': 2328, 'thin': 2329, 'thrown': 2330, 'tomorrow': 2331, 'touch': 2332, 'tremulous': 2333, 'trusts': 2334, 'truth': 2335, 'truthful': 2336, 'tunnel': 2337, 'unable': 2338, 'uncommonly': 2339, 'uneasy': 2340, 'various': 2341, 'w': 2342, 'wag': 2343, 'waters': 2344, 'wearily': 2345, 'welcome': 2346, 'whispers': 2347, 'whistling': 2348, 'whom': 2349, 'worry': 2350, 'writingdesks': 2351, 'years': 2352, 'accidentally': 2353, 'accusation': 2354, 'aftertime': 2355, 'airs': 2356, 'alarmed': 2357, 'antipathies': 2358, 'apiece': 2359, 'arithmetic': 2360, 'askance': 2361, 'attempted': 2362, 'axes': 2363, 'baked': 2364, 'balanced': 2365, 'banquet': 2366, 'bathing': 2367, 'belt': 2368, 'blows': 2369, 'bones': 2370, 'bursting': 2371, 'buttons': 2372, 'bythebye': 2373, 'camomile': 2374, 'canvas': 2375, 'cattle': 2376, 'chanced': 2377, 'cheeks': 2378, 'cherrytart': 2379, 'childhood': 2380, 'childlife': 2381, 'coast': 2382, 'coils': 2383, 'complained': 2384, 'cost': 2385, 'cucumberframe': 2386, 'cunning': 2387, 'custard': 2388, 'daisies': 2389, 'darkness': 2390, 'deepest': 2391, 'dig': 2392, 'disappointment': 2393, 'dive': 2394, 'doorway': 2395, 'double': 2396, 'driest': 2397, 'engaged': 2398, 'england': 2399, 'explanations': 2400, 'eyelids': 2401, 'farmer': 2402, 'fifth': 2403, 'finishing': 2404, 'fireplace': 2405, 'flock': 2406, 'folding': 2407, 'fork': 2408, 'fourth': 2409, 'furrow': 2410, 'gained': 2411, 'gallons': 2412, 'globe': 2413, 'guilt': 2414, 'heap': 2415, 'hearth': 2416, 'highest': 2417, 'hottempered': 2418, 'housemaid': 2419, 'hundred': 2420, 'hurrying': 2421, 'idiotic': 2422, 'injure': 2423, 'ink': 2424, 'insolence': 2425, 'invent': 2426, 'inwards': 2427, 'jogged': 2428, 'journey': 2429, 'kissed': 2430, 'lad': 2431, 'land': 2432, 'largest': 2433, 'latin': 2434, 'lazy': 2435, 'leading': 2436, 'lifted': 2437, 'lips': 2438, 'listened': 2439, 'lookingglass': 2440, 'marched': 2441, 'meal': 2442, 'moderate': 2443, 'nibbled': 2444, 'occasional': 2445, 'occasionally': 2446, 'opinion': 2447, 'ou': 2448, 'ourselves': 2449, 'oyster': 2450, 'parts': 2451, 'pictured': 2452, 'piteous': 2453, 'planning': 2454, 'pleasant': 2455, 'poky': 2456, 'prevent': 2457, 'promise': 2458, 'puffed': 2459, 'puzzle': 2460, 'quarrel': 2461, 'quarrelled': 2462, 'queershaped': 2463, 'quicker': 2464, 'raising': 2465, 'rapped': 2466, 'rearing': 2467, 'reeling': 2468, 'remain': 2469, 'returning': 2470, 'rock': 2471, 'rubbed': 2472, 'rudeness': 2473, 'rumbling': 2474, 'rushed': 2475, 'saucepan': 2476, 'scolded': 2477, 'scrambling': 2478, 'seals': 2479, 'seaside': 2480, 'send': 2481, 'sharks': 2482, 'shelves': 2483, 'shepherd': 2484, 'shrieked': 2485, 'shrink': 2486, 'signify': 2487, 'slippery': 2488, 'sluggard': 2489, 'soldier': 2490, 'soothing': 2491, 'stolen': 2492, 'stupidest': 2493, 'supple': 2494, 'sweettempered': 2495, 'teaching': 2496, 'teapot': 2497, 'teases': 2498, 'thirteen': 2499, 'tipped': 2500, 'toss': 2501, 'tougher': 2502, 'trials': 2503, 'turkey': 2504, 'turnup': 2505, 'uncivil': 2506, 'variations': 2507, 'vegetable': 2508, 'vulgar': 2509, 'walrus': 2510, 'warning': 2511, 'whoever': 2512, 'win': 2513, 'winter': 2514, 'woke': 2515, 'wooden': 2516, 'abide': 2517, 'absence': 2518, 'accounts': 2519, 'contempt': 2520, 'crashed': 2521, 'crept': 2522, 'croqueting': 2523, 'crossly': 2524, 'diligently': 2525, 'disagree': 2526, 'dismay': 2527, 'dressed': 2528, 'drowned': 2529, 'dunce': 2530, 'elegant': 2531, 'extras': 2532, 'favoured': 2533, 'feebly': 2534, 'fighting': 2535, 'grammar': 2536, 'hat': 2537, 'holiday': 2538, 'idiot': 2539, 'imitated': 2540, 'indignant': 2541, 'kiss': 2542, 'lamps': 2543, 'lower': 2544, 'maam': 2545, 'machines': 2546, 'maps': 2547, 'meanwhile': 2548, 'memory': 2549, 'modern': 2550, 'mournful': 2551, 'needs': 2552, 'nest': 2553, 'officer': 2554, 'ointment': 2555, 'possible': 2556, 'pretty': 2557, 'prosecute': 2558, 'raised': 2559, 'rises': 2560, 'seeing': 2561, 'shining': 2562, 'shy': 2563, 'skurried': 2564, 'sob': 2565, 'soles': 2566, 'sour': 2567, 'tied': 2568, 'uglify': 2569, 'usurpation': 2570, 'violence': 2571, 'whenever': 2572})\n"
          ],
          "name": "stdout"
        }
      ]
    },
    {
      "cell_type": "code",
      "metadata": {
        "id": "62nFprJrnAOn"
      },
      "source": [
        "train_iter,val_iter,test_iter = torchtext.data.BucketIterator.splits(\n",
        "    (train_data, valid_data,test_data), batch_size=32, \n",
        "                            sort_key=lambda x: len(x.context), shuffle=True)"
      ],
      "execution_count": null,
      "outputs": []
    },
    {
      "cell_type": "code",
      "metadata": {
        "colab": {
          "base_uri": "https://localhost:8080/"
        },
        "id": "AcTdfhHC2_nF",
        "outputId": "7d80af1f-254b-4186-b5bf-1dd842df66fe"
      },
      "source": [
        "test_iter"
      ],
      "execution_count": null,
      "outputs": [
        {
          "output_type": "execute_result",
          "data": {
            "text/plain": [
              "<torchtext.legacy.data.iterator.BucketIterator at 0x7fe7afdaa4d0>"
            ]
          },
          "metadata": {
            "tags": []
          },
          "execution_count": 65
        }
      ]
    },
    {
      "cell_type": "code",
      "metadata": {
        "id": "4Vy27K2foq_i"
      },
      "source": [
        "train_batch = next(iter(train_iter))\n",
        "val_batch = next(iter(val_iter))\n",
        "test_batch = next(iter(test_iter))"
      ],
      "execution_count": null,
      "outputs": []
    },
    {
      "cell_type": "code",
      "metadata": {
        "colab": {
          "base_uri": "https://localhost:8080/"
        },
        "id": "rGYTTH7Xf8HN",
        "outputId": "94c7bf96-b06a-4ac8-d588-c309d8b452a5"
      },
      "source": [
        "train_batch"
      ],
      "execution_count": null,
      "outputs": [
        {
          "output_type": "execute_result",
          "data": {
            "text/plain": [
              "\n",
              "[torchtext.legacy.data.batch.Batch of size 32]\n",
              "\t[.context]:[torch.LongTensor of size 2x32]\n",
              "\t[.label]:[torch.LongTensor of size 32]"
            ]
          },
          "metadata": {
            "tags": []
          },
          "execution_count": 67
        }
      ]
    },
    {
      "cell_type": "markdown",
      "metadata": {
        "id": "lLiTAVZLBTxx"
      },
      "source": [
        "##3. Skip-gram with Logistic Regression\n"
      ]
    },
    {
      "cell_type": "markdown",
      "metadata": {
        "id": "B5GKkOoh9r0e"
      },
      "source": [
        "In this part, firstly I write te logistic regression model. And then I defined the loss function, optimizer and other hyperparameters which are embedding dimension, hidden layer dimension, learning rate and epoch. Following that I tried to train the model but I could not make the model work without any errors. "
      ]
    },
    {
      "cell_type": "code",
      "metadata": {
        "id": "__1gXcWqBjKz"
      },
      "source": [
        "class skipgram(nn.Module):\n",
        "\n",
        "    def __init__(self, vocab_size, embedding_dim,hidden_dim):  \n",
        "        super(skipgram, self).__init__()\n",
        "        self.embeddings = nn.Embedding(vocab_size, embedding_dim)  \n",
        "        self.linear1 = nn.Linear(embedding_dim, hidden_dim)   \n",
        "        self.relu1 = nn.ReLU()        \n",
        "        self.linear2 = nn.Linear(hidden_dim, vocab_size) \n",
        "        self.sigmoid = nn.Sigmoid()\n",
        "        \n",
        "\n",
        "    def forward(self, inputs):\n",
        "        embeds = mul(self.embeddings(inputs)).view(1,-1)   \n",
        "        x = self.linear1(embeds)\n",
        "        x = self.relu1(x)\n",
        "        x = self.linear2(x)\n",
        "        x = self.sigmoid(x)   \n",
        "        return x\n",
        "        \n",
        "    def get_word_embedding(self, word):\n",
        "        word = torch.tensor([CONTEXT.vocab.itos[word]])\n",
        "        return self.embeddings(word).view(1,-1)"
      ],
      "execution_count": null,
      "outputs": []
    },
    {
      "cell_type": "code",
      "metadata": {
        "id": "q0PyAL0koz-2"
      },
      "source": [
        "EMBEDDING_DIM = 4  # For this example, Let’s choose 5 as our embedding dimension. You are welcome to try with different dimension sizes.\n",
        "loss_function = nn.NLLLoss()  # The negative log likelihood loss is useful when we have N number of clases\n",
        "HIDDEN_DIM = 10\n",
        "\n",
        "model = skipgram(len(CONTEXT.vocab), EMBEDDING_DIM,HIDDEN_DIM)   #If you want to work on the GPU you can add the `.cuda()` to end. Because it is a small network, we will work on CPU.\n",
        "\n",
        "optimizer = torch.optim.SGD(model.parameters(), lr=0.001) "
      ],
      "execution_count": null,
      "outputs": []
    },
    {
      "cell_type": "code",
      "metadata": {
        "id": "OVjtbyjUo3e7"
      },
      "source": [
        "losses = []   # for keeping the losses\n",
        "EPOCHS = 800  # because of our small dataset we need to increase our epoch count\n",
        "j =0\n",
        "for epoch in range(EPOCHS):    \n",
        "    total_loss = 0\n",
        "    i=0 \n",
        "    j +=1\n",
        "    for context,  label in train_batch:     #lets get our context and target\n",
        "        \n",
        "        # Remove the gradients for next iteration\n",
        "        model.zero_grad()   \n",
        "       \n",
        "        # Convert the corpus in to integers.\n",
        "          \n",
        "        #print(\"Context id: \",context_idxs)\n",
        "      \n",
        "        # forward pass\n",
        "        log_probs = model(context)\n",
        "\n",
        "        # calculate the Loss\n",
        "        loss = loss_function(log_probs, label)\n",
        "        #print(loss)\n",
        "\n",
        "        # backward Pass\n",
        "        loss.backward()\n",
        "\n",
        "        # Gradient decent using optimizer \n",
        "        optimizer.step()\n",
        "        i += 1\n",
        "        # \n",
        "        total_loss += loss.item()\n",
        "    if j%50 ==0:\n",
        "      print(\"epoch\", j ,\"avarage epoch loss:\", total_loss/i)\n",
        "    losses.append(total_loss)"
      ],
      "execution_count": null,
      "outputs": []
    }
  ]
}